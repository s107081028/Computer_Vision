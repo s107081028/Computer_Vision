{
  "nbformat": 4,
  "nbformat_minor": 0,
  "metadata": {
    "colab": {
      "provenance": [],
      "collapsed_sections": [
        "GLmcH3NAH4wq",
        "QjFDtcWRnFS9",
        "lZo50knhnFS_",
        "61pR7PXcEbze",
        "V5wMAC5KFWaP",
        "LDWf5d_YEw61",
        "aLGLBOfaFbJ4"
      ]
    },
    "kernelspec": {
      "name": "python3",
      "display_name": "Python 3"
    },
    "language_info": {
      "name": "python"
    },
    "accelerator": "GPU",
    "gpuClass": "standard",
    "widgets": {
      "application/vnd.jupyter.widget-state+json": {
        "51a1f244330b411eb97c6c55ef1833f3": {
          "model_module": "@jupyter-widgets/controls",
          "model_name": "HBoxModel",
          "model_module_version": "1.5.0",
          "state": {
            "_dom_classes": [],
            "_model_module": "@jupyter-widgets/controls",
            "_model_module_version": "1.5.0",
            "_model_name": "HBoxModel",
            "_view_count": null,
            "_view_module": "@jupyter-widgets/controls",
            "_view_module_version": "1.5.0",
            "_view_name": "HBoxView",
            "box_style": "",
            "children": [
              "IPY_MODEL_8feea976efa943929714a8f74d32b66b",
              "IPY_MODEL_74d54b5bedcb40c2b98dd2cfc3d13a8a",
              "IPY_MODEL_c07787e010a842fe9182fadfa6cd8cf7"
            ],
            "layout": "IPY_MODEL_54651f66690d48519056aeab172ee43b"
          }
        },
        "8feea976efa943929714a8f74d32b66b": {
          "model_module": "@jupyter-widgets/controls",
          "model_name": "HTMLModel",
          "model_module_version": "1.5.0",
          "state": {
            "_dom_classes": [],
            "_model_module": "@jupyter-widgets/controls",
            "_model_module_version": "1.5.0",
            "_model_name": "HTMLModel",
            "_view_count": null,
            "_view_module": "@jupyter-widgets/controls",
            "_view_module_version": "1.5.0",
            "_view_name": "HTMLView",
            "description": "",
            "description_tooltip": null,
            "layout": "IPY_MODEL_5639df6883d240f8829ec45eaf1a4e13",
            "placeholder": "​",
            "style": "IPY_MODEL_0de5a198354b4ddfac87971a332221a2",
            "value": "100%"
          }
        },
        "74d54b5bedcb40c2b98dd2cfc3d13a8a": {
          "model_module": "@jupyter-widgets/controls",
          "model_name": "FloatProgressModel",
          "model_module_version": "1.5.0",
          "state": {
            "_dom_classes": [],
            "_model_module": "@jupyter-widgets/controls",
            "_model_module_version": "1.5.0",
            "_model_name": "FloatProgressModel",
            "_view_count": null,
            "_view_module": "@jupyter-widgets/controls",
            "_view_module_version": "1.5.0",
            "_view_name": "ProgressView",
            "bar_style": "success",
            "description": "",
            "description_tooltip": null,
            "layout": "IPY_MODEL_ff0e7e8d9fdd4d92aa6c77d0ecf85405",
            "max": 170498071,
            "min": 0,
            "orientation": "horizontal",
            "style": "IPY_MODEL_05cac60aa91f4667acbf8c3e4bcfe95d",
            "value": 170498071
          }
        },
        "c07787e010a842fe9182fadfa6cd8cf7": {
          "model_module": "@jupyter-widgets/controls",
          "model_name": "HTMLModel",
          "model_module_version": "1.5.0",
          "state": {
            "_dom_classes": [],
            "_model_module": "@jupyter-widgets/controls",
            "_model_module_version": "1.5.0",
            "_model_name": "HTMLModel",
            "_view_count": null,
            "_view_module": "@jupyter-widgets/controls",
            "_view_module_version": "1.5.0",
            "_view_name": "HTMLView",
            "description": "",
            "description_tooltip": null,
            "layout": "IPY_MODEL_02460355bd174944b3bbe0504f892e5d",
            "placeholder": "​",
            "style": "IPY_MODEL_439580effc384b559a0086544bb9d691",
            "value": " 170498071/170498071 [00:05&lt;00:00, 32209213.94it/s]"
          }
        },
        "54651f66690d48519056aeab172ee43b": {
          "model_module": "@jupyter-widgets/base",
          "model_name": "LayoutModel",
          "model_module_version": "1.2.0",
          "state": {
            "_model_module": "@jupyter-widgets/base",
            "_model_module_version": "1.2.0",
            "_model_name": "LayoutModel",
            "_view_count": null,
            "_view_module": "@jupyter-widgets/base",
            "_view_module_version": "1.2.0",
            "_view_name": "LayoutView",
            "align_content": null,
            "align_items": null,
            "align_self": null,
            "border": null,
            "bottom": null,
            "display": null,
            "flex": null,
            "flex_flow": null,
            "grid_area": null,
            "grid_auto_columns": null,
            "grid_auto_flow": null,
            "grid_auto_rows": null,
            "grid_column": null,
            "grid_gap": null,
            "grid_row": null,
            "grid_template_areas": null,
            "grid_template_columns": null,
            "grid_template_rows": null,
            "height": null,
            "justify_content": null,
            "justify_items": null,
            "left": null,
            "margin": null,
            "max_height": null,
            "max_width": null,
            "min_height": null,
            "min_width": null,
            "object_fit": null,
            "object_position": null,
            "order": null,
            "overflow": null,
            "overflow_x": null,
            "overflow_y": null,
            "padding": null,
            "right": null,
            "top": null,
            "visibility": null,
            "width": null
          }
        },
        "5639df6883d240f8829ec45eaf1a4e13": {
          "model_module": "@jupyter-widgets/base",
          "model_name": "LayoutModel",
          "model_module_version": "1.2.0",
          "state": {
            "_model_module": "@jupyter-widgets/base",
            "_model_module_version": "1.2.0",
            "_model_name": "LayoutModel",
            "_view_count": null,
            "_view_module": "@jupyter-widgets/base",
            "_view_module_version": "1.2.0",
            "_view_name": "LayoutView",
            "align_content": null,
            "align_items": null,
            "align_self": null,
            "border": null,
            "bottom": null,
            "display": null,
            "flex": null,
            "flex_flow": null,
            "grid_area": null,
            "grid_auto_columns": null,
            "grid_auto_flow": null,
            "grid_auto_rows": null,
            "grid_column": null,
            "grid_gap": null,
            "grid_row": null,
            "grid_template_areas": null,
            "grid_template_columns": null,
            "grid_template_rows": null,
            "height": null,
            "justify_content": null,
            "justify_items": null,
            "left": null,
            "margin": null,
            "max_height": null,
            "max_width": null,
            "min_height": null,
            "min_width": null,
            "object_fit": null,
            "object_position": null,
            "order": null,
            "overflow": null,
            "overflow_x": null,
            "overflow_y": null,
            "padding": null,
            "right": null,
            "top": null,
            "visibility": null,
            "width": null
          }
        },
        "0de5a198354b4ddfac87971a332221a2": {
          "model_module": "@jupyter-widgets/controls",
          "model_name": "DescriptionStyleModel",
          "model_module_version": "1.5.0",
          "state": {
            "_model_module": "@jupyter-widgets/controls",
            "_model_module_version": "1.5.0",
            "_model_name": "DescriptionStyleModel",
            "_view_count": null,
            "_view_module": "@jupyter-widgets/base",
            "_view_module_version": "1.2.0",
            "_view_name": "StyleView",
            "description_width": ""
          }
        },
        "ff0e7e8d9fdd4d92aa6c77d0ecf85405": {
          "model_module": "@jupyter-widgets/base",
          "model_name": "LayoutModel",
          "model_module_version": "1.2.0",
          "state": {
            "_model_module": "@jupyter-widgets/base",
            "_model_module_version": "1.2.0",
            "_model_name": "LayoutModel",
            "_view_count": null,
            "_view_module": "@jupyter-widgets/base",
            "_view_module_version": "1.2.0",
            "_view_name": "LayoutView",
            "align_content": null,
            "align_items": null,
            "align_self": null,
            "border": null,
            "bottom": null,
            "display": null,
            "flex": null,
            "flex_flow": null,
            "grid_area": null,
            "grid_auto_columns": null,
            "grid_auto_flow": null,
            "grid_auto_rows": null,
            "grid_column": null,
            "grid_gap": null,
            "grid_row": null,
            "grid_template_areas": null,
            "grid_template_columns": null,
            "grid_template_rows": null,
            "height": null,
            "justify_content": null,
            "justify_items": null,
            "left": null,
            "margin": null,
            "max_height": null,
            "max_width": null,
            "min_height": null,
            "min_width": null,
            "object_fit": null,
            "object_position": null,
            "order": null,
            "overflow": null,
            "overflow_x": null,
            "overflow_y": null,
            "padding": null,
            "right": null,
            "top": null,
            "visibility": null,
            "width": null
          }
        },
        "05cac60aa91f4667acbf8c3e4bcfe95d": {
          "model_module": "@jupyter-widgets/controls",
          "model_name": "ProgressStyleModel",
          "model_module_version": "1.5.0",
          "state": {
            "_model_module": "@jupyter-widgets/controls",
            "_model_module_version": "1.5.0",
            "_model_name": "ProgressStyleModel",
            "_view_count": null,
            "_view_module": "@jupyter-widgets/base",
            "_view_module_version": "1.2.0",
            "_view_name": "StyleView",
            "bar_color": null,
            "description_width": ""
          }
        },
        "02460355bd174944b3bbe0504f892e5d": {
          "model_module": "@jupyter-widgets/base",
          "model_name": "LayoutModel",
          "model_module_version": "1.2.0",
          "state": {
            "_model_module": "@jupyter-widgets/base",
            "_model_module_version": "1.2.0",
            "_model_name": "LayoutModel",
            "_view_count": null,
            "_view_module": "@jupyter-widgets/base",
            "_view_module_version": "1.2.0",
            "_view_name": "LayoutView",
            "align_content": null,
            "align_items": null,
            "align_self": null,
            "border": null,
            "bottom": null,
            "display": null,
            "flex": null,
            "flex_flow": null,
            "grid_area": null,
            "grid_auto_columns": null,
            "grid_auto_flow": null,
            "grid_auto_rows": null,
            "grid_column": null,
            "grid_gap": null,
            "grid_row": null,
            "grid_template_areas": null,
            "grid_template_columns": null,
            "grid_template_rows": null,
            "height": null,
            "justify_content": null,
            "justify_items": null,
            "left": null,
            "margin": null,
            "max_height": null,
            "max_width": null,
            "min_height": null,
            "min_width": null,
            "object_fit": null,
            "object_position": null,
            "order": null,
            "overflow": null,
            "overflow_x": null,
            "overflow_y": null,
            "padding": null,
            "right": null,
            "top": null,
            "visibility": null,
            "width": null
          }
        },
        "439580effc384b559a0086544bb9d691": {
          "model_module": "@jupyter-widgets/controls",
          "model_name": "DescriptionStyleModel",
          "model_module_version": "1.5.0",
          "state": {
            "_model_module": "@jupyter-widgets/controls",
            "_model_module_version": "1.5.0",
            "_model_name": "DescriptionStyleModel",
            "_view_count": null,
            "_view_module": "@jupyter-widgets/base",
            "_view_module_version": "1.2.0",
            "_view_name": "StyleView",
            "description_width": ""
          }
        },
        "1db456c58a39435580eded81c15be87b": {
          "model_module": "@jupyter-widgets/controls",
          "model_name": "HBoxModel",
          "model_module_version": "1.5.0",
          "state": {
            "_dom_classes": [],
            "_model_module": "@jupyter-widgets/controls",
            "_model_module_version": "1.5.0",
            "_model_name": "HBoxModel",
            "_view_count": null,
            "_view_module": "@jupyter-widgets/controls",
            "_view_module_version": "1.5.0",
            "_view_name": "HBoxView",
            "box_style": "",
            "children": [
              "IPY_MODEL_0c1a4edf9bdd467eae5569f3028c0c2a",
              "IPY_MODEL_37dcebabf9b34ea4ba7e20c8fe2eb930",
              "IPY_MODEL_c2742309b4414bd8a83692e70dd72553"
            ],
            "layout": "IPY_MODEL_353b4470948140868ff358baccd05ad6"
          }
        },
        "0c1a4edf9bdd467eae5569f3028c0c2a": {
          "model_module": "@jupyter-widgets/controls",
          "model_name": "HTMLModel",
          "model_module_version": "1.5.0",
          "state": {
            "_dom_classes": [],
            "_model_module": "@jupyter-widgets/controls",
            "_model_module_version": "1.5.0",
            "_model_name": "HTMLModel",
            "_view_count": null,
            "_view_module": "@jupyter-widgets/controls",
            "_view_module_version": "1.5.0",
            "_view_name": "HTMLView",
            "description": "",
            "description_tooltip": null,
            "layout": "IPY_MODEL_ecffc67c540b461b96b78ed247bff9ec",
            "placeholder": "​",
            "style": "IPY_MODEL_dfacaa0b830349db8e2fc786fa01f42e",
            "value": "100%"
          }
        },
        "37dcebabf9b34ea4ba7e20c8fe2eb930": {
          "model_module": "@jupyter-widgets/controls",
          "model_name": "FloatProgressModel",
          "model_module_version": "1.5.0",
          "state": {
            "_dom_classes": [],
            "_model_module": "@jupyter-widgets/controls",
            "_model_module_version": "1.5.0",
            "_model_name": "FloatProgressModel",
            "_view_count": null,
            "_view_module": "@jupyter-widgets/controls",
            "_view_module_version": "1.5.0",
            "_view_name": "ProgressView",
            "bar_style": "success",
            "description": "",
            "description_tooltip": null,
            "layout": "IPY_MODEL_be77e2502a214a3a8cb86497395ae4fe",
            "max": 241669177,
            "min": 0,
            "orientation": "horizontal",
            "style": "IPY_MODEL_967d8cba66f7451da4872263b6fbd634",
            "value": 241669177
          }
        },
        "c2742309b4414bd8a83692e70dd72553": {
          "model_module": "@jupyter-widgets/controls",
          "model_name": "HTMLModel",
          "model_module_version": "1.5.0",
          "state": {
            "_dom_classes": [],
            "_model_module": "@jupyter-widgets/controls",
            "_model_module_version": "1.5.0",
            "_model_name": "HTMLModel",
            "_view_count": null,
            "_view_module": "@jupyter-widgets/controls",
            "_view_module_version": "1.5.0",
            "_view_name": "HTMLView",
            "description": "",
            "description_tooltip": null,
            "layout": "IPY_MODEL_a022882f2f744096a1cb91da68ef60bc",
            "placeholder": "​",
            "style": "IPY_MODEL_f1f01040ada74272a385ec4c9dd87041",
            "value": " 230M/230M [00:06&lt;00:00, 39.4MB/s]"
          }
        },
        "353b4470948140868ff358baccd05ad6": {
          "model_module": "@jupyter-widgets/base",
          "model_name": "LayoutModel",
          "model_module_version": "1.2.0",
          "state": {
            "_model_module": "@jupyter-widgets/base",
            "_model_module_version": "1.2.0",
            "_model_name": "LayoutModel",
            "_view_count": null,
            "_view_module": "@jupyter-widgets/base",
            "_view_module_version": "1.2.0",
            "_view_name": "LayoutView",
            "align_content": null,
            "align_items": null,
            "align_self": null,
            "border": null,
            "bottom": null,
            "display": null,
            "flex": null,
            "flex_flow": null,
            "grid_area": null,
            "grid_auto_columns": null,
            "grid_auto_flow": null,
            "grid_auto_rows": null,
            "grid_column": null,
            "grid_gap": null,
            "grid_row": null,
            "grid_template_areas": null,
            "grid_template_columns": null,
            "grid_template_rows": null,
            "height": null,
            "justify_content": null,
            "justify_items": null,
            "left": null,
            "margin": null,
            "max_height": null,
            "max_width": null,
            "min_height": null,
            "min_width": null,
            "object_fit": null,
            "object_position": null,
            "order": null,
            "overflow": null,
            "overflow_x": null,
            "overflow_y": null,
            "padding": null,
            "right": null,
            "top": null,
            "visibility": null,
            "width": null
          }
        },
        "ecffc67c540b461b96b78ed247bff9ec": {
          "model_module": "@jupyter-widgets/base",
          "model_name": "LayoutModel",
          "model_module_version": "1.2.0",
          "state": {
            "_model_module": "@jupyter-widgets/base",
            "_model_module_version": "1.2.0",
            "_model_name": "LayoutModel",
            "_view_count": null,
            "_view_module": "@jupyter-widgets/base",
            "_view_module_version": "1.2.0",
            "_view_name": "LayoutView",
            "align_content": null,
            "align_items": null,
            "align_self": null,
            "border": null,
            "bottom": null,
            "display": null,
            "flex": null,
            "flex_flow": null,
            "grid_area": null,
            "grid_auto_columns": null,
            "grid_auto_flow": null,
            "grid_auto_rows": null,
            "grid_column": null,
            "grid_gap": null,
            "grid_row": null,
            "grid_template_areas": null,
            "grid_template_columns": null,
            "grid_template_rows": null,
            "height": null,
            "justify_content": null,
            "justify_items": null,
            "left": null,
            "margin": null,
            "max_height": null,
            "max_width": null,
            "min_height": null,
            "min_width": null,
            "object_fit": null,
            "object_position": null,
            "order": null,
            "overflow": null,
            "overflow_x": null,
            "overflow_y": null,
            "padding": null,
            "right": null,
            "top": null,
            "visibility": null,
            "width": null
          }
        },
        "dfacaa0b830349db8e2fc786fa01f42e": {
          "model_module": "@jupyter-widgets/controls",
          "model_name": "DescriptionStyleModel",
          "model_module_version": "1.5.0",
          "state": {
            "_model_module": "@jupyter-widgets/controls",
            "_model_module_version": "1.5.0",
            "_model_name": "DescriptionStyleModel",
            "_view_count": null,
            "_view_module": "@jupyter-widgets/base",
            "_view_module_version": "1.2.0",
            "_view_name": "StyleView",
            "description_width": ""
          }
        },
        "be77e2502a214a3a8cb86497395ae4fe": {
          "model_module": "@jupyter-widgets/base",
          "model_name": "LayoutModel",
          "model_module_version": "1.2.0",
          "state": {
            "_model_module": "@jupyter-widgets/base",
            "_model_module_version": "1.2.0",
            "_model_name": "LayoutModel",
            "_view_count": null,
            "_view_module": "@jupyter-widgets/base",
            "_view_module_version": "1.2.0",
            "_view_name": "LayoutView",
            "align_content": null,
            "align_items": null,
            "align_self": null,
            "border": null,
            "bottom": null,
            "display": null,
            "flex": null,
            "flex_flow": null,
            "grid_area": null,
            "grid_auto_columns": null,
            "grid_auto_flow": null,
            "grid_auto_rows": null,
            "grid_column": null,
            "grid_gap": null,
            "grid_row": null,
            "grid_template_areas": null,
            "grid_template_columns": null,
            "grid_template_rows": null,
            "height": null,
            "justify_content": null,
            "justify_items": null,
            "left": null,
            "margin": null,
            "max_height": null,
            "max_width": null,
            "min_height": null,
            "min_width": null,
            "object_fit": null,
            "object_position": null,
            "order": null,
            "overflow": null,
            "overflow_x": null,
            "overflow_y": null,
            "padding": null,
            "right": null,
            "top": null,
            "visibility": null,
            "width": null
          }
        },
        "967d8cba66f7451da4872263b6fbd634": {
          "model_module": "@jupyter-widgets/controls",
          "model_name": "ProgressStyleModel",
          "model_module_version": "1.5.0",
          "state": {
            "_model_module": "@jupyter-widgets/controls",
            "_model_module_version": "1.5.0",
            "_model_name": "ProgressStyleModel",
            "_view_count": null,
            "_view_module": "@jupyter-widgets/base",
            "_view_module_version": "1.2.0",
            "_view_name": "StyleView",
            "bar_color": null,
            "description_width": ""
          }
        },
        "a022882f2f744096a1cb91da68ef60bc": {
          "model_module": "@jupyter-widgets/base",
          "model_name": "LayoutModel",
          "model_module_version": "1.2.0",
          "state": {
            "_model_module": "@jupyter-widgets/base",
            "_model_module_version": "1.2.0",
            "_model_name": "LayoutModel",
            "_view_count": null,
            "_view_module": "@jupyter-widgets/base",
            "_view_module_version": "1.2.0",
            "_view_name": "LayoutView",
            "align_content": null,
            "align_items": null,
            "align_self": null,
            "border": null,
            "bottom": null,
            "display": null,
            "flex": null,
            "flex_flow": null,
            "grid_area": null,
            "grid_auto_columns": null,
            "grid_auto_flow": null,
            "grid_auto_rows": null,
            "grid_column": null,
            "grid_gap": null,
            "grid_row": null,
            "grid_template_areas": null,
            "grid_template_columns": null,
            "grid_template_rows": null,
            "height": null,
            "justify_content": null,
            "justify_items": null,
            "left": null,
            "margin": null,
            "max_height": null,
            "max_width": null,
            "min_height": null,
            "min_width": null,
            "object_fit": null,
            "object_position": null,
            "order": null,
            "overflow": null,
            "overflow_x": null,
            "overflow_y": null,
            "padding": null,
            "right": null,
            "top": null,
            "visibility": null,
            "width": null
          }
        },
        "f1f01040ada74272a385ec4c9dd87041": {
          "model_module": "@jupyter-widgets/controls",
          "model_name": "DescriptionStyleModel",
          "model_module_version": "1.5.0",
          "state": {
            "_model_module": "@jupyter-widgets/controls",
            "_model_module_version": "1.5.0",
            "_model_name": "DescriptionStyleModel",
            "_view_count": null,
            "_view_module": "@jupyter-widgets/base",
            "_view_module_version": "1.2.0",
            "_view_name": "StyleView",
            "description_width": ""
          }
        },
        "10a6d553b96148ae87ea3a5bf6c59918": {
          "model_module": "@jupyter-widgets/controls",
          "model_name": "HBoxModel",
          "model_module_version": "1.5.0",
          "state": {
            "_dom_classes": [],
            "_model_module": "@jupyter-widgets/controls",
            "_model_module_version": "1.5.0",
            "_model_name": "HBoxModel",
            "_view_count": null,
            "_view_module": "@jupyter-widgets/controls",
            "_view_module_version": "1.5.0",
            "_view_name": "HBoxView",
            "box_style": "",
            "children": [
              "IPY_MODEL_2f2a2cdcce054dc0a606103483dc85fa",
              "IPY_MODEL_f0d9d1724c3c4087b15035b93c5c7a21",
              "IPY_MODEL_c2ad6949aabd41a898664b03af071c78"
            ],
            "layout": "IPY_MODEL_ce1a2fdd824a4a6d812d340cbf3eedd3"
          }
        },
        "2f2a2cdcce054dc0a606103483dc85fa": {
          "model_module": "@jupyter-widgets/controls",
          "model_name": "HTMLModel",
          "model_module_version": "1.5.0",
          "state": {
            "_dom_classes": [],
            "_model_module": "@jupyter-widgets/controls",
            "_model_module_version": "1.5.0",
            "_model_name": "HTMLModel",
            "_view_count": null,
            "_view_module": "@jupyter-widgets/controls",
            "_view_module_version": "1.5.0",
            "_view_name": "HTMLView",
            "description": "",
            "description_tooltip": null,
            "layout": "IPY_MODEL_bdf7f5f3fd2e4b32987cdfd452e55908",
            "placeholder": "​",
            "style": "IPY_MODEL_08ca199ade09488e9e7c4f61a29d7910",
            "value": "100%"
          }
        },
        "f0d9d1724c3c4087b15035b93c5c7a21": {
          "model_module": "@jupyter-widgets/controls",
          "model_name": "FloatProgressModel",
          "model_module_version": "1.5.0",
          "state": {
            "_dom_classes": [],
            "_model_module": "@jupyter-widgets/controls",
            "_model_module_version": "1.5.0",
            "_model_name": "FloatProgressModel",
            "_view_count": null,
            "_view_module": "@jupyter-widgets/controls",
            "_view_module_version": "1.5.0",
            "_view_name": "ProgressView",
            "bar_style": "success",
            "description": "",
            "description_tooltip": null,
            "layout": "IPY_MODEL_d35e887e6b3c4b65afce3c739ec1e931",
            "max": 170498071,
            "min": 0,
            "orientation": "horizontal",
            "style": "IPY_MODEL_86c02b5d39874861912232860e8982a5",
            "value": 170498071
          }
        },
        "c2ad6949aabd41a898664b03af071c78": {
          "model_module": "@jupyter-widgets/controls",
          "model_name": "HTMLModel",
          "model_module_version": "1.5.0",
          "state": {
            "_dom_classes": [],
            "_model_module": "@jupyter-widgets/controls",
            "_model_module_version": "1.5.0",
            "_model_name": "HTMLModel",
            "_view_count": null,
            "_view_module": "@jupyter-widgets/controls",
            "_view_module_version": "1.5.0",
            "_view_name": "HTMLView",
            "description": "",
            "description_tooltip": null,
            "layout": "IPY_MODEL_5ad08f50b82947ed86ef02671cb57e20",
            "placeholder": "​",
            "style": "IPY_MODEL_c3975da22155492faecb2974b5fcc2e4",
            "value": " 170498071/170498071 [00:07&lt;00:00, 15903208.32it/s]"
          }
        },
        "ce1a2fdd824a4a6d812d340cbf3eedd3": {
          "model_module": "@jupyter-widgets/base",
          "model_name": "LayoutModel",
          "model_module_version": "1.2.0",
          "state": {
            "_model_module": "@jupyter-widgets/base",
            "_model_module_version": "1.2.0",
            "_model_name": "LayoutModel",
            "_view_count": null,
            "_view_module": "@jupyter-widgets/base",
            "_view_module_version": "1.2.0",
            "_view_name": "LayoutView",
            "align_content": null,
            "align_items": null,
            "align_self": null,
            "border": null,
            "bottom": null,
            "display": null,
            "flex": null,
            "flex_flow": null,
            "grid_area": null,
            "grid_auto_columns": null,
            "grid_auto_flow": null,
            "grid_auto_rows": null,
            "grid_column": null,
            "grid_gap": null,
            "grid_row": null,
            "grid_template_areas": null,
            "grid_template_columns": null,
            "grid_template_rows": null,
            "height": null,
            "justify_content": null,
            "justify_items": null,
            "left": null,
            "margin": null,
            "max_height": null,
            "max_width": null,
            "min_height": null,
            "min_width": null,
            "object_fit": null,
            "object_position": null,
            "order": null,
            "overflow": null,
            "overflow_x": null,
            "overflow_y": null,
            "padding": null,
            "right": null,
            "top": null,
            "visibility": null,
            "width": null
          }
        },
        "bdf7f5f3fd2e4b32987cdfd452e55908": {
          "model_module": "@jupyter-widgets/base",
          "model_name": "LayoutModel",
          "model_module_version": "1.2.0",
          "state": {
            "_model_module": "@jupyter-widgets/base",
            "_model_module_version": "1.2.0",
            "_model_name": "LayoutModel",
            "_view_count": null,
            "_view_module": "@jupyter-widgets/base",
            "_view_module_version": "1.2.0",
            "_view_name": "LayoutView",
            "align_content": null,
            "align_items": null,
            "align_self": null,
            "border": null,
            "bottom": null,
            "display": null,
            "flex": null,
            "flex_flow": null,
            "grid_area": null,
            "grid_auto_columns": null,
            "grid_auto_flow": null,
            "grid_auto_rows": null,
            "grid_column": null,
            "grid_gap": null,
            "grid_row": null,
            "grid_template_areas": null,
            "grid_template_columns": null,
            "grid_template_rows": null,
            "height": null,
            "justify_content": null,
            "justify_items": null,
            "left": null,
            "margin": null,
            "max_height": null,
            "max_width": null,
            "min_height": null,
            "min_width": null,
            "object_fit": null,
            "object_position": null,
            "order": null,
            "overflow": null,
            "overflow_x": null,
            "overflow_y": null,
            "padding": null,
            "right": null,
            "top": null,
            "visibility": null,
            "width": null
          }
        },
        "08ca199ade09488e9e7c4f61a29d7910": {
          "model_module": "@jupyter-widgets/controls",
          "model_name": "DescriptionStyleModel",
          "model_module_version": "1.5.0",
          "state": {
            "_model_module": "@jupyter-widgets/controls",
            "_model_module_version": "1.5.0",
            "_model_name": "DescriptionStyleModel",
            "_view_count": null,
            "_view_module": "@jupyter-widgets/base",
            "_view_module_version": "1.2.0",
            "_view_name": "StyleView",
            "description_width": ""
          }
        },
        "d35e887e6b3c4b65afce3c739ec1e931": {
          "model_module": "@jupyter-widgets/base",
          "model_name": "LayoutModel",
          "model_module_version": "1.2.0",
          "state": {
            "_model_module": "@jupyter-widgets/base",
            "_model_module_version": "1.2.0",
            "_model_name": "LayoutModel",
            "_view_count": null,
            "_view_module": "@jupyter-widgets/base",
            "_view_module_version": "1.2.0",
            "_view_name": "LayoutView",
            "align_content": null,
            "align_items": null,
            "align_self": null,
            "border": null,
            "bottom": null,
            "display": null,
            "flex": null,
            "flex_flow": null,
            "grid_area": null,
            "grid_auto_columns": null,
            "grid_auto_flow": null,
            "grid_auto_rows": null,
            "grid_column": null,
            "grid_gap": null,
            "grid_row": null,
            "grid_template_areas": null,
            "grid_template_columns": null,
            "grid_template_rows": null,
            "height": null,
            "justify_content": null,
            "justify_items": null,
            "left": null,
            "margin": null,
            "max_height": null,
            "max_width": null,
            "min_height": null,
            "min_width": null,
            "object_fit": null,
            "object_position": null,
            "order": null,
            "overflow": null,
            "overflow_x": null,
            "overflow_y": null,
            "padding": null,
            "right": null,
            "top": null,
            "visibility": null,
            "width": null
          }
        },
        "86c02b5d39874861912232860e8982a5": {
          "model_module": "@jupyter-widgets/controls",
          "model_name": "ProgressStyleModel",
          "model_module_version": "1.5.0",
          "state": {
            "_model_module": "@jupyter-widgets/controls",
            "_model_module_version": "1.5.0",
            "_model_name": "ProgressStyleModel",
            "_view_count": null,
            "_view_module": "@jupyter-widgets/base",
            "_view_module_version": "1.2.0",
            "_view_name": "StyleView",
            "bar_color": null,
            "description_width": ""
          }
        },
        "5ad08f50b82947ed86ef02671cb57e20": {
          "model_module": "@jupyter-widgets/base",
          "model_name": "LayoutModel",
          "model_module_version": "1.2.0",
          "state": {
            "_model_module": "@jupyter-widgets/base",
            "_model_module_version": "1.2.0",
            "_model_name": "LayoutModel",
            "_view_count": null,
            "_view_module": "@jupyter-widgets/base",
            "_view_module_version": "1.2.0",
            "_view_name": "LayoutView",
            "align_content": null,
            "align_items": null,
            "align_self": null,
            "border": null,
            "bottom": null,
            "display": null,
            "flex": null,
            "flex_flow": null,
            "grid_area": null,
            "grid_auto_columns": null,
            "grid_auto_flow": null,
            "grid_auto_rows": null,
            "grid_column": null,
            "grid_gap": null,
            "grid_row": null,
            "grid_template_areas": null,
            "grid_template_columns": null,
            "grid_template_rows": null,
            "height": null,
            "justify_content": null,
            "justify_items": null,
            "left": null,
            "margin": null,
            "max_height": null,
            "max_width": null,
            "min_height": null,
            "min_width": null,
            "object_fit": null,
            "object_position": null,
            "order": null,
            "overflow": null,
            "overflow_x": null,
            "overflow_y": null,
            "padding": null,
            "right": null,
            "top": null,
            "visibility": null,
            "width": null
          }
        },
        "c3975da22155492faecb2974b5fcc2e4": {
          "model_module": "@jupyter-widgets/controls",
          "model_name": "DescriptionStyleModel",
          "model_module_version": "1.5.0",
          "state": {
            "_model_module": "@jupyter-widgets/controls",
            "_model_module_version": "1.5.0",
            "_model_name": "DescriptionStyleModel",
            "_view_count": null,
            "_view_module": "@jupyter-widgets/base",
            "_view_module_version": "1.2.0",
            "_view_name": "StyleView",
            "description_width": ""
          }
        }
      }
    }
  },
  "cells": [
    {
      "cell_type": "markdown",
      "source": [
        "# Computer Vision Homework 3: Big vs Small Models"
      ],
      "metadata": {
        "id": "D0MrEVoVmhOy"
      }
    },
    {
      "cell_type": "markdown",
      "source": [
        "## Brief"
      ],
      "metadata": {
        "id": "U0hnrUlYrGWS"
      }
    },
    {
      "cell_type": "markdown",
      "source": [
        "Due date: Nov 16, 2022\n",
        "\n",
        "Required files: `homework-3.ipynb`, `report.pdf`\n",
        "\n",
        "To download the jupyter notebook from colab, you can refer to the colab tutorial we gave.\n"
      ],
      "metadata": {
        "id": "j_zuWZp5rSyN"
      }
    },
    {
      "cell_type": "markdown",
      "source": [
        "## Codes for Problem 1 and Problem 2"
      ],
      "metadata": {
        "id": "Om7423NauKQ6"
      }
    },
    {
      "cell_type": "markdown",
      "source": [
        "### Import Packages"
      ],
      "metadata": {
        "id": "rX6pBqvV6RCq"
      }
    },
    {
      "cell_type": "code",
      "execution_count": null,
      "metadata": {
        "id": "73wanLwflUdb"
      },
      "outputs": [],
      "source": [
        "import glob\n",
        "import os\n",
        "import random\n",
        "\n",
        "import matplotlib.pyplot as plt\n",
        "import numpy as np\n",
        "import pandas as pd\n",
        "\n",
        "import torch\n",
        "import torch.nn as nn\n",
        "import torch.optim as optim\n",
        "\n",
        "from PIL import Image\n",
        "from torch.utils.data import DataLoader, Dataset, RandomSampler\n",
        "from torchvision import transforms, models, datasets\n",
        "from tqdm import tqdm\n",
        "\n",
        "%matplotlib inline"
      ]
    },
    {
      "cell_type": "markdown",
      "source": [
        "### Check GPU Environment"
      ],
      "metadata": {
        "id": "rtXEq_Yx5j-L"
      }
    },
    {
      "cell_type": "code",
      "source": [
        "device = torch.device('cuda' if torch.cuda.is_available() else 'cpu')\n",
        "print(f'Using {device} device')"
      ],
      "metadata": {
        "id": "Yz3wOsYwmEz8",
        "colab": {
          "base_uri": "https://localhost:8080/"
        },
        "outputId": "fa3f5222-6ae2-4d01-8d74-58414230b29e"
      },
      "execution_count": null,
      "outputs": [
        {
          "output_type": "stream",
          "name": "stdout",
          "text": [
            "Using cuda device\n"
          ]
        }
      ]
    },
    {
      "cell_type": "code",
      "source": [
        "! nvidia-smi -L"
      ],
      "metadata": {
        "id": "zbpaGDdwnX9g",
        "colab": {
          "base_uri": "https://localhost:8080/"
        },
        "outputId": "e22f998a-50bc-4900-94e4-d2d183ce5db9"
      },
      "execution_count": null,
      "outputs": [
        {
          "output_type": "stream",
          "name": "stdout",
          "text": [
            "GPU 0: Tesla T4 (UUID: GPU-ad45f209-d4e8-9f75-e62a-a67b2b849d48)\n"
          ]
        }
      ]
    },
    {
      "cell_type": "markdown",
      "source": [
        "### Set the Seed to Reproduce the Result"
      ],
      "metadata": {
        "id": "qAoPtdOR5ojk"
      }
    },
    {
      "cell_type": "code",
      "source": [
        "def set_all_seed(seed):\n",
        "    np.random.seed(seed)\n",
        "    random.seed(seed)\n",
        "    torch.manual_seed(seed)\n",
        "set_all_seed(123)"
      ],
      "metadata": {
        "id": "Wphy638XBNj-"
      },
      "execution_count": null,
      "outputs": []
    },
    {
      "cell_type": "markdown",
      "source": [
        "### Create Dataset and Dataloader"
      ],
      "metadata": {
        "id": "GLmcH3NAH4wq"
      }
    },
    {
      "cell_type": "code",
      "source": [
        "batch_size = 256\n",
        "\n",
        "train_transform = transforms.Compose([\n",
        "    transforms.Pad(4, padding_mode='reflect'),\n",
        "    transforms.RandomHorizontalFlip(),\n",
        "    transforms.RandomCrop(32),\n",
        "    transforms.ToTensor(),\n",
        "])\n",
        "test_transform = transforms.Compose([\n",
        "    transforms.ToTensor(),\n",
        "])\n",
        "\n",
        "train_dataset = datasets.CIFAR10(root='data', train=True, download=True, transform=train_transform)\n",
        "valid_dataset = datasets.CIFAR10(root='data', train=False, download=True, transform=test_transform)\n",
        "\n",
        "train_dataloader = DataLoader(train_dataset, batch_size=batch_size, shuffle=True, pin_memory=True)\n",
        "valid_dataloader = DataLoader(valid_dataset, batch_size=batch_size, shuffle=False, pin_memory=True)\n",
        "\n",
        "sixteenth_train_sampler = RandomSampler(train_dataset, num_samples=len(train_dataset)//16)\n",
        "half_train_sampler = RandomSampler(train_dataset, num_samples=len(train_dataset)//2)\n",
        "\n",
        "sixteenth_train_dataloader = DataLoader(train_dataset, batch_size=batch_size, sampler=sixteenth_train_sampler)\n",
        "half_train_dataloader = DataLoader(train_dataset, batch_size=batch_size, sampler=half_train_sampler)"
      ],
      "metadata": {
        "id": "5VHp_O3_JgZE",
        "colab": {
          "base_uri": "https://localhost:8080/",
          "height": 104,
          "referenced_widgets": [
            "51a1f244330b411eb97c6c55ef1833f3",
            "8feea976efa943929714a8f74d32b66b",
            "74d54b5bedcb40c2b98dd2cfc3d13a8a",
            "c07787e010a842fe9182fadfa6cd8cf7",
            "54651f66690d48519056aeab172ee43b",
            "5639df6883d240f8829ec45eaf1a4e13",
            "0de5a198354b4ddfac87971a332221a2",
            "ff0e7e8d9fdd4d92aa6c77d0ecf85405",
            "05cac60aa91f4667acbf8c3e4bcfe95d",
            "02460355bd174944b3bbe0504f892e5d",
            "439580effc384b559a0086544bb9d691"
          ]
        },
        "outputId": "7c942fa9-f1c5-4dc6-d05b-355ac76030e0"
      },
      "execution_count": null,
      "outputs": [
        {
          "output_type": "stream",
          "name": "stdout",
          "text": [
            "Downloading https://www.cs.toronto.edu/~kriz/cifar-10-python.tar.gz to data/cifar-10-python.tar.gz\n"
          ]
        },
        {
          "output_type": "display_data",
          "data": {
            "text/plain": [
              "  0%|          | 0/170498071 [00:00<?, ?it/s]"
            ],
            "application/vnd.jupyter.widget-view+json": {
              "version_major": 2,
              "version_minor": 0,
              "model_id": "51a1f244330b411eb97c6c55ef1833f3"
            }
          },
          "metadata": {}
        },
        {
          "output_type": "stream",
          "name": "stdout",
          "text": [
            "Extracting data/cifar-10-python.tar.gz to data\n",
            "Files already downloaded and verified\n"
          ]
        }
      ]
    },
    {
      "cell_type": "markdown",
      "source": [
        "### Load Models"
      ],
      "metadata": {
        "id": "QjFDtcWRnFS9"
      }
    },
    {
      "cell_type": "code",
      "source": [
        "# HINT: Remember to change the model to 'resnet50' and the weights to weights=\"IMAGENET1K_V1\" when needed.\n",
        "model = torch.hub.load('pytorch/vision:v0.10.0', 'resnet18', weights=None).to(device)\n",
        "\n",
        "# Background: The original resnet18 is designed for ImageNet dataset to predict 1000 classes.\n",
        "# TODO: Change the output of the model to 10 class.\n",
        "model.fc = nn.Linear(512, 10).to(device)"
      ],
      "metadata": {
        "id": "vgZV0CodnFS9",
        "colab": {
          "base_uri": "https://localhost:8080/"
        },
        "outputId": "a7b9955f-6282-402e-b780-1baa860482b0"
      },
      "execution_count": null,
      "outputs": [
        {
          "output_type": "stream",
          "name": "stderr",
          "text": [
            "Using cache found in /root/.cache/torch/hub/pytorch_vision_v0.10.0\n"
          ]
        }
      ]
    },
    {
      "cell_type": "markdown",
      "source": [
        "### Training and Testing Models"
      ],
      "metadata": {
        "id": "lZo50knhnFS_"
      }
    },
    {
      "cell_type": "code",
      "source": [
        "# TODO: Fill in the code cell according to the pytorch tutorial we gave.\n",
        "loss_fn = nn.CrossEntropyLoss()\n",
        "optimizer = torch.optim.Adam(model.parameters(), lr=1e-3)\n",
        "\n",
        "def train(dataloader, model, loss_fn, optimizer):\n",
        "    num_batches = len(dataloader)\n",
        "    size = len(dataloader.dataset)\n",
        "    epoch_loss = 0\n",
        "    correct = 0\n",
        "\n",
        "    model.train()\n",
        "\n",
        "    for X, y in tqdm(dataloader):\n",
        "        X, y = X.to(device), y.to(device)\n",
        "\n",
        "        # Compute prediction error\n",
        "        pred = model(X)\n",
        "        loss = loss_fn(pred, y)\n",
        "\n",
        "        # Backpropagation\n",
        "        optimizer.zero_grad()\n",
        "        loss.backward()\n",
        "        optimizer.step()\n",
        "\n",
        "        epoch_loss += loss.item()\n",
        "        pred = pred.argmax(dim=1, keepdim=True)\n",
        "        correct += pred.eq(y.view_as(pred)).sum().item()\n",
        "\n",
        "    avg_epoch_loss = epoch_loss / num_batches\n",
        "    avg_acc = correct / size\n",
        "\n",
        "    return avg_epoch_loss, avg_acc\n",
        "\n",
        "def test(dataloader, model, loss_fn):\n",
        "    num_batches = len(dataloader)\n",
        "    size = len(dataloader.dataset)\n",
        "    epoch_loss = 0\n",
        "    correct = 0\n",
        "\n",
        "    model.eval()\n",
        "\n",
        "    with torch.no_grad():\n",
        "        for X, y in tqdm(dataloader):\n",
        "            X, y = X.to(device), y.to(device)\n",
        "\n",
        "            pred = model(X)\n",
        "\n",
        "            epoch_loss += loss_fn(pred, y).item()\n",
        "            pred = pred.argmax(dim=1, keepdim=True)\n",
        "            correct += pred.eq(y.view_as(pred)).sum().item()\n",
        "\n",
        "    avg_epoch_loss = epoch_loss / num_batches\n",
        "    avg_acc = correct / size\n",
        "\n",
        "    return avg_epoch_loss, avg_acc"
      ],
      "metadata": {
        "id": "wlXKJeYWnFTA"
      },
      "execution_count": null,
      "outputs": []
    },
    {
      "cell_type": "markdown",
      "source": [
        "### Resnet18"
      ],
      "metadata": {
        "id": "61pR7PXcEbze"
      }
    },
    {
      "cell_type": "code",
      "source": [
        "##### Whole data #####\n",
        "epochs = 20\n",
        "for epoch in range(epochs):\n",
        "    train_loss, train_acc = train(train_dataloader, model, loss_fn, optimizer)\n",
        "    test_loss, test_acc = test(valid_dataloader, model, loss_fn)\n",
        "    print(f\"Epoch {epoch + 1:2d}: Loss = {train_loss:.4f} Acc = {train_acc:.2f} Test_Loss = {test_loss:.4f} Test_Acc = {test_acc:.2f}\")\n",
        "print(\"Done!\")"
      ],
      "metadata": {
        "colab": {
          "base_uri": "https://localhost:8080/"
        },
        "id": "Wq3pJGHtY22-",
        "outputId": "419ad67f-5a8e-4c5e-fa42-e2376f6d1dcf"
      },
      "execution_count": null,
      "outputs": [
        {
          "output_type": "stream",
          "name": "stderr",
          "text": [
            "100%|██████████| 196/196 [00:29<00:00,  6.74it/s]\n",
            "100%|██████████| 40/40 [00:01<00:00, 25.68it/s]\n"
          ]
        },
        {
          "output_type": "stream",
          "name": "stdout",
          "text": [
            "Epoch  1: Loss = 1.5322 Acc = 0.44 Test_Loss = 1.5080 Test_Acc = 0.44\n"
          ]
        },
        {
          "output_type": "stream",
          "name": "stderr",
          "text": [
            "100%|██████████| 196/196 [00:30<00:00,  6.44it/s]\n",
            "100%|██████████| 40/40 [00:01<00:00, 25.50it/s]\n"
          ]
        },
        {
          "output_type": "stream",
          "name": "stdout",
          "text": [
            "Epoch  2: Loss = 1.2051 Acc = 0.57 Test_Loss = 1.1270 Test_Acc = 0.60\n"
          ]
        },
        {
          "output_type": "stream",
          "name": "stderr",
          "text": [
            "100%|██████████| 196/196 [00:28<00:00,  6.77it/s]\n",
            "100%|██████████| 40/40 [00:01<00:00, 26.05it/s]\n"
          ]
        },
        {
          "output_type": "stream",
          "name": "stdout",
          "text": [
            "Epoch  3: Loss = 1.0518 Acc = 0.62 Test_Loss = 1.1511 Test_Acc = 0.59\n"
          ]
        },
        {
          "output_type": "stream",
          "name": "stderr",
          "text": [
            "100%|██████████| 196/196 [00:29<00:00,  6.61it/s]\n",
            "100%|██████████| 40/40 [00:01<00:00, 25.09it/s]\n"
          ]
        },
        {
          "output_type": "stream",
          "name": "stdout",
          "text": [
            "Epoch  4: Loss = 0.9412 Acc = 0.66 Test_Loss = 0.9159 Test_Acc = 0.67\n"
          ]
        },
        {
          "output_type": "stream",
          "name": "stderr",
          "text": [
            "100%|██████████| 196/196 [00:30<00:00,  6.51it/s]\n",
            "100%|██████████| 40/40 [00:01<00:00, 24.88it/s]\n"
          ]
        },
        {
          "output_type": "stream",
          "name": "stdout",
          "text": [
            "Epoch  5: Loss = 0.8674 Acc = 0.69 Test_Loss = 1.1696 Test_Acc = 0.61\n"
          ]
        },
        {
          "output_type": "stream",
          "name": "stderr",
          "text": [
            "100%|██████████| 196/196 [00:30<00:00,  6.51it/s]\n",
            "100%|██████████| 40/40 [00:01<00:00, 25.15it/s]\n"
          ]
        },
        {
          "output_type": "stream",
          "name": "stdout",
          "text": [
            "Epoch  6: Loss = 0.8111 Acc = 0.72 Test_Loss = 0.9016 Test_Acc = 0.69\n"
          ]
        },
        {
          "output_type": "stream",
          "name": "stderr",
          "text": [
            "100%|██████████| 196/196 [00:28<00:00,  6.76it/s]\n",
            "100%|██████████| 40/40 [00:01<00:00, 25.84it/s]\n"
          ]
        },
        {
          "output_type": "stream",
          "name": "stdout",
          "text": [
            "Epoch  7: Loss = 0.7549 Acc = 0.73 Test_Loss = 0.7977 Test_Acc = 0.72\n"
          ]
        },
        {
          "output_type": "stream",
          "name": "stderr",
          "text": [
            "100%|██████████| 196/196 [00:30<00:00,  6.49it/s]\n",
            "100%|██████████| 40/40 [00:01<00:00, 24.56it/s]\n"
          ]
        },
        {
          "output_type": "stream",
          "name": "stdout",
          "text": [
            "Epoch  8: Loss = 0.7220 Acc = 0.75 Test_Loss = 0.9059 Test_Acc = 0.69\n"
          ]
        },
        {
          "output_type": "stream",
          "name": "stderr",
          "text": [
            "100%|██████████| 196/196 [00:29<00:00,  6.66it/s]\n",
            "100%|██████████| 40/40 [00:02<00:00, 17.94it/s]\n"
          ]
        },
        {
          "output_type": "stream",
          "name": "stdout",
          "text": [
            "Epoch  9: Loss = 0.6850 Acc = 0.76 Test_Loss = 0.8129 Test_Acc = 0.73\n"
          ]
        },
        {
          "output_type": "stream",
          "name": "stderr",
          "text": [
            "100%|██████████| 196/196 [00:29<00:00,  6.71it/s]\n",
            "100%|██████████| 40/40 [00:01<00:00, 26.12it/s]\n"
          ]
        },
        {
          "output_type": "stream",
          "name": "stdout",
          "text": [
            "Epoch 10: Loss = 0.6559 Acc = 0.77 Test_Loss = 0.9363 Test_Acc = 0.69\n"
          ]
        },
        {
          "output_type": "stream",
          "name": "stderr",
          "text": [
            "100%|██████████| 196/196 [00:29<00:00,  6.71it/s]\n",
            "100%|██████████| 40/40 [00:01<00:00, 21.73it/s]\n"
          ]
        },
        {
          "output_type": "stream",
          "name": "stdout",
          "text": [
            "Epoch 11: Loss = 0.6288 Acc = 0.78 Test_Loss = 0.7960 Test_Acc = 0.73\n"
          ]
        },
        {
          "output_type": "stream",
          "name": "stderr",
          "text": [
            "100%|██████████| 196/196 [00:28<00:00,  6.76it/s]\n",
            "100%|██████████| 40/40 [00:01<00:00, 25.78it/s]\n"
          ]
        },
        {
          "output_type": "stream",
          "name": "stdout",
          "text": [
            "Epoch 12: Loss = 0.6004 Acc = 0.79 Test_Loss = 0.6373 Test_Acc = 0.78\n"
          ]
        },
        {
          "output_type": "stream",
          "name": "stderr",
          "text": [
            "100%|██████████| 196/196 [00:30<00:00,  6.52it/s]\n",
            "100%|██████████| 40/40 [00:01<00:00, 24.74it/s]\n"
          ]
        },
        {
          "output_type": "stream",
          "name": "stdout",
          "text": [
            "Epoch 13: Loss = 0.5835 Acc = 0.79 Test_Loss = 0.6599 Test_Acc = 0.77\n"
          ]
        },
        {
          "output_type": "stream",
          "name": "stderr",
          "text": [
            "100%|██████████| 196/196 [00:28<00:00,  6.82it/s]\n",
            "100%|██████████| 40/40 [00:01<00:00, 24.74it/s]\n"
          ]
        },
        {
          "output_type": "stream",
          "name": "stdout",
          "text": [
            "Epoch 14: Loss = 0.5614 Acc = 0.80 Test_Loss = 0.7507 Test_Acc = 0.75\n"
          ]
        },
        {
          "output_type": "stream",
          "name": "stderr",
          "text": [
            "100%|██████████| 196/196 [00:29<00:00,  6.59it/s]\n",
            "100%|██████████| 40/40 [00:01<00:00, 24.63it/s]\n"
          ]
        },
        {
          "output_type": "stream",
          "name": "stdout",
          "text": [
            "Epoch 15: Loss = 0.5378 Acc = 0.81 Test_Loss = 0.6737 Test_Acc = 0.77\n"
          ]
        },
        {
          "output_type": "stream",
          "name": "stderr",
          "text": [
            "100%|██████████| 196/196 [00:28<00:00,  6.85it/s]\n",
            "100%|██████████| 40/40 [00:01<00:00, 25.82it/s]\n"
          ]
        },
        {
          "output_type": "stream",
          "name": "stdout",
          "text": [
            "Epoch 16: Loss = 0.5268 Acc = 0.81 Test_Loss = 0.6808 Test_Acc = 0.77\n"
          ]
        },
        {
          "output_type": "stream",
          "name": "stderr",
          "text": [
            "100%|██████████| 196/196 [00:29<00:00,  6.59it/s]\n",
            "100%|██████████| 40/40 [00:01<00:00, 24.52it/s]\n"
          ]
        },
        {
          "output_type": "stream",
          "name": "stdout",
          "text": [
            "Epoch 17: Loss = 0.5146 Acc = 0.82 Test_Loss = 0.6780 Test_Acc = 0.77\n"
          ]
        },
        {
          "output_type": "stream",
          "name": "stderr",
          "text": [
            "100%|██████████| 196/196 [00:28<00:00,  6.85it/s]\n",
            "100%|██████████| 40/40 [00:01<00:00, 25.91it/s]\n"
          ]
        },
        {
          "output_type": "stream",
          "name": "stdout",
          "text": [
            "Epoch 18: Loss = 0.4919 Acc = 0.83 Test_Loss = 0.6371 Test_Acc = 0.79\n"
          ]
        },
        {
          "output_type": "stream",
          "name": "stderr",
          "text": [
            "100%|██████████| 196/196 [00:29<00:00,  6.56it/s]\n",
            "100%|██████████| 40/40 [00:01<00:00, 25.72it/s]\n"
          ]
        },
        {
          "output_type": "stream",
          "name": "stdout",
          "text": [
            "Epoch 19: Loss = 0.4812 Acc = 0.83 Test_Loss = 0.6012 Test_Acc = 0.79\n"
          ]
        },
        {
          "output_type": "stream",
          "name": "stderr",
          "text": [
            "100%|██████████| 196/196 [00:29<00:00,  6.63it/s]\n",
            "100%|██████████| 40/40 [00:01<00:00, 26.34it/s]"
          ]
        },
        {
          "output_type": "stream",
          "name": "stdout",
          "text": [
            "Epoch 20: Loss = 0.4621 Acc = 0.84 Test_Loss = 0.7490 Test_Acc = 0.76\n",
            "Done!\n"
          ]
        },
        {
          "output_type": "stream",
          "name": "stderr",
          "text": [
            "\n"
          ]
        }
      ]
    },
    {
      "cell_type": "code",
      "source": [
        "##### 1/2 data #####\n",
        "epochs = 20\n",
        "for epoch in range(epochs):\n",
        "    train_loss, train_acc = train(half_train_dataloader, model, loss_fn, optimizer)\n",
        "    test_loss, test_acc = test(valid_dataloader, model, loss_fn)\n",
        "    print(f\"Epoch {epoch + 1:2d}: Loss = {train_loss:.4f} Acc = {train_acc:.2f} Test_Loss = {test_loss:.4f} Test_Acc = {test_acc:.2f}\")\n",
        "print(\"Done!\")"
      ],
      "metadata": {
        "colab": {
          "base_uri": "https://localhost:8080/"
        },
        "id": "7QLGcsTFpTui",
        "outputId": "84a809a8-37ab-426c-ab59-30756129936d"
      },
      "execution_count": null,
      "outputs": [
        {
          "output_type": "stream",
          "name": "stderr",
          "text": [
            "100%|██████████| 98/98 [00:15<00:00,  6.46it/s]\n",
            "100%|██████████| 40/40 [00:01<00:00, 25.41it/s]\n"
          ]
        },
        {
          "output_type": "stream",
          "name": "stdout",
          "text": [
            "Epoch  1: Loss = 1.6547 Acc = 0.20 Test_Loss = 1.5232 Test_Acc = 0.46\n"
          ]
        },
        {
          "output_type": "stream",
          "name": "stderr",
          "text": [
            "100%|██████████| 98/98 [00:14<00:00,  6.60it/s]\n",
            "100%|██████████| 40/40 [00:01<00:00, 25.16it/s]\n"
          ]
        },
        {
          "output_type": "stream",
          "name": "stdout",
          "text": [
            "Epoch  2: Loss = 1.3555 Acc = 0.26 Test_Loss = 1.4808 Test_Acc = 0.47\n"
          ]
        },
        {
          "output_type": "stream",
          "name": "stderr",
          "text": [
            "100%|██████████| 98/98 [00:15<00:00,  6.17it/s]\n",
            "100%|██████████| 40/40 [00:01<00:00, 23.97it/s]\n"
          ]
        },
        {
          "output_type": "stream",
          "name": "stdout",
          "text": [
            "Epoch  3: Loss = 1.2237 Acc = 0.28 Test_Loss = 1.4137 Test_Acc = 0.51\n"
          ]
        },
        {
          "output_type": "stream",
          "name": "stderr",
          "text": [
            "100%|██████████| 98/98 [00:14<00:00,  6.61it/s]\n",
            "100%|██████████| 40/40 [00:01<00:00, 24.48it/s]\n"
          ]
        },
        {
          "output_type": "stream",
          "name": "stdout",
          "text": [
            "Epoch  4: Loss = 1.1222 Acc = 0.30 Test_Loss = 1.5932 Test_Acc = 0.48\n"
          ]
        },
        {
          "output_type": "stream",
          "name": "stderr",
          "text": [
            "100%|██████████| 98/98 [00:14<00:00,  6.66it/s]\n",
            "100%|██████████| 40/40 [00:01<00:00, 21.34it/s]\n"
          ]
        },
        {
          "output_type": "stream",
          "name": "stdout",
          "text": [
            "Epoch  5: Loss = 1.0362 Acc = 0.32 Test_Loss = 1.2073 Test_Acc = 0.57\n"
          ]
        },
        {
          "output_type": "stream",
          "name": "stderr",
          "text": [
            "100%|██████████| 98/98 [00:15<00:00,  6.40it/s]\n",
            "100%|██████████| 40/40 [00:01<00:00, 25.31it/s]\n"
          ]
        },
        {
          "output_type": "stream",
          "name": "stdout",
          "text": [
            "Epoch  6: Loss = 1.0016 Acc = 0.32 Test_Loss = 1.3779 Test_Acc = 0.54\n"
          ]
        },
        {
          "output_type": "stream",
          "name": "stderr",
          "text": [
            "100%|██████████| 98/98 [00:15<00:00,  6.48it/s]\n",
            "100%|██████████| 40/40 [00:01<00:00, 24.96it/s]\n"
          ]
        },
        {
          "output_type": "stream",
          "name": "stdout",
          "text": [
            "Epoch  7: Loss = 0.9491 Acc = 0.33 Test_Loss = 1.2766 Test_Acc = 0.58\n"
          ]
        },
        {
          "output_type": "stream",
          "name": "stderr",
          "text": [
            "100%|██████████| 98/98 [00:15<00:00,  6.25it/s]\n",
            "100%|██████████| 40/40 [00:01<00:00, 25.24it/s]\n"
          ]
        },
        {
          "output_type": "stream",
          "name": "stdout",
          "text": [
            "Epoch  8: Loss = 0.9097 Acc = 0.34 Test_Loss = 1.1504 Test_Acc = 0.62\n"
          ]
        },
        {
          "output_type": "stream",
          "name": "stderr",
          "text": [
            "100%|██████████| 98/98 [00:14<00:00,  6.53it/s]\n",
            "100%|██████████| 40/40 [00:01<00:00, 26.06it/s]\n"
          ]
        },
        {
          "output_type": "stream",
          "name": "stdout",
          "text": [
            "Epoch  9: Loss = 0.8686 Acc = 0.35 Test_Loss = 1.0276 Test_Acc = 0.65\n"
          ]
        },
        {
          "output_type": "stream",
          "name": "stderr",
          "text": [
            "100%|██████████| 98/98 [00:15<00:00,  6.53it/s]\n",
            "100%|██████████| 40/40 [00:01<00:00, 24.68it/s]\n"
          ]
        },
        {
          "output_type": "stream",
          "name": "stdout",
          "text": [
            "Epoch 10: Loss = 0.8427 Acc = 0.35 Test_Loss = 0.9204 Test_Acc = 0.68\n"
          ]
        },
        {
          "output_type": "stream",
          "name": "stderr",
          "text": [
            "100%|██████████| 98/98 [00:15<00:00,  6.25it/s]\n",
            "100%|██████████| 40/40 [00:01<00:00, 25.26it/s]\n"
          ]
        },
        {
          "output_type": "stream",
          "name": "stdout",
          "text": [
            "Epoch 11: Loss = 0.7970 Acc = 0.36 Test_Loss = 1.2174 Test_Acc = 0.62\n"
          ]
        },
        {
          "output_type": "stream",
          "name": "stderr",
          "text": [
            "100%|██████████| 98/98 [00:14<00:00,  6.66it/s]\n",
            "100%|██████████| 40/40 [00:01<00:00, 25.04it/s]\n"
          ]
        },
        {
          "output_type": "stream",
          "name": "stdout",
          "text": [
            "Epoch 12: Loss = 0.7831 Acc = 0.36 Test_Loss = 0.8720 Test_Acc = 0.71\n"
          ]
        },
        {
          "output_type": "stream",
          "name": "stderr",
          "text": [
            "100%|██████████| 98/98 [00:15<00:00,  6.23it/s]\n",
            "100%|██████████| 40/40 [00:01<00:00, 25.13it/s]\n"
          ]
        },
        {
          "output_type": "stream",
          "name": "stdout",
          "text": [
            "Epoch 13: Loss = 0.7548 Acc = 0.37 Test_Loss = 0.9406 Test_Acc = 0.68\n"
          ]
        },
        {
          "output_type": "stream",
          "name": "stderr",
          "text": [
            "100%|██████████| 98/98 [00:15<00:00,  6.52it/s]\n",
            "100%|██████████| 40/40 [00:01<00:00, 23.70it/s]\n"
          ]
        },
        {
          "output_type": "stream",
          "name": "stdout",
          "text": [
            "Epoch 14: Loss = 0.7413 Acc = 0.37 Test_Loss = 0.9920 Test_Acc = 0.68\n"
          ]
        },
        {
          "output_type": "stream",
          "name": "stderr",
          "text": [
            "100%|██████████| 98/98 [00:15<00:00,  6.13it/s]\n",
            "100%|██████████| 40/40 [00:01<00:00, 25.52it/s]\n"
          ]
        },
        {
          "output_type": "stream",
          "name": "stdout",
          "text": [
            "Epoch 15: Loss = 0.7167 Acc = 0.37 Test_Loss = 1.0377 Test_Acc = 0.66\n"
          ]
        },
        {
          "output_type": "stream",
          "name": "stderr",
          "text": [
            "100%|██████████| 98/98 [00:16<00:00,  5.94it/s]\n",
            "100%|██████████| 40/40 [00:02<00:00, 18.57it/s]\n"
          ]
        },
        {
          "output_type": "stream",
          "name": "stdout",
          "text": [
            "Epoch 16: Loss = 0.6970 Acc = 0.38 Test_Loss = 0.8062 Test_Acc = 0.72\n"
          ]
        },
        {
          "output_type": "stream",
          "name": "stderr",
          "text": [
            "100%|██████████| 98/98 [00:15<00:00,  6.13it/s]\n",
            "100%|██████████| 40/40 [00:01<00:00, 24.51it/s]\n"
          ]
        },
        {
          "output_type": "stream",
          "name": "stdout",
          "text": [
            "Epoch 17: Loss = 0.6818 Acc = 0.38 Test_Loss = 0.8061 Test_Acc = 0.73\n"
          ]
        },
        {
          "output_type": "stream",
          "name": "stderr",
          "text": [
            "100%|██████████| 98/98 [00:16<00:00,  6.03it/s]\n",
            "100%|██████████| 40/40 [00:01<00:00, 25.55it/s]\n"
          ]
        },
        {
          "output_type": "stream",
          "name": "stdout",
          "text": [
            "Epoch 18: Loss = 0.6586 Acc = 0.38 Test_Loss = 0.7972 Test_Acc = 0.71\n"
          ]
        },
        {
          "output_type": "stream",
          "name": "stderr",
          "text": [
            "100%|██████████| 98/98 [00:14<00:00,  6.56it/s]\n",
            "100%|██████████| 40/40 [00:01<00:00, 23.57it/s]\n"
          ]
        },
        {
          "output_type": "stream",
          "name": "stdout",
          "text": [
            "Epoch 19: Loss = 0.6519 Acc = 0.38 Test_Loss = 0.8219 Test_Acc = 0.73\n"
          ]
        },
        {
          "output_type": "stream",
          "name": "stderr",
          "text": [
            "100%|██████████| 98/98 [00:15<00:00,  6.46it/s]\n",
            "100%|██████████| 40/40 [00:02<00:00, 19.92it/s]"
          ]
        },
        {
          "output_type": "stream",
          "name": "stdout",
          "text": [
            "Epoch 20: Loss = 0.6229 Acc = 0.39 Test_Loss = 0.7485 Test_Acc = 0.74\n",
            "Done!\n"
          ]
        },
        {
          "output_type": "stream",
          "name": "stderr",
          "text": [
            "\n"
          ]
        }
      ]
    },
    {
      "cell_type": "code",
      "source": [
        "##### 1/16 data #####\n",
        "epochs = 20\n",
        "for epoch in range(epochs):\n",
        "    train_loss, train_acc = train(sixteenth_train_dataloader, model, loss_fn, optimizer)\n",
        "    test_loss, test_acc = test(valid_dataloader, model, loss_fn)\n",
        "    print(f\"Epoch {epoch + 1:2d}: Loss = {train_loss:.4f} Acc = {train_acc:.2f} Test_Loss = {test_loss:.4f} Test_Acc = {test_acc:.2f}\")\n",
        "print(\"Done!\")"
      ],
      "metadata": {
        "id": "MeKarzqKpBnN",
        "colab": {
          "base_uri": "https://localhost:8080/"
        },
        "outputId": "007f0426-d374-42fb-f65c-ebc4d39674f2"
      },
      "execution_count": null,
      "outputs": [
        {
          "output_type": "stream",
          "name": "stderr",
          "text": [
            "100%|██████████| 13/13 [00:02<00:00,  6.40it/s]\n",
            "100%|██████████| 40/40 [00:01<00:00, 24.50it/s]\n"
          ]
        },
        {
          "output_type": "stream",
          "name": "stdout",
          "text": [
            "Epoch  1: Loss = 2.1224 Acc = 0.02 Test_Loss = 2.5166 Test_Acc = 0.11\n"
          ]
        },
        {
          "output_type": "stream",
          "name": "stderr",
          "text": [
            "100%|██████████| 13/13 [00:02<00:00,  6.45it/s]\n",
            "100%|██████████| 40/40 [00:01<00:00, 24.09it/s]\n"
          ]
        },
        {
          "output_type": "stream",
          "name": "stdout",
          "text": [
            "Epoch  2: Loss = 1.8352 Acc = 0.02 Test_Loss = 3.5050 Test_Acc = 0.18\n"
          ]
        },
        {
          "output_type": "stream",
          "name": "stderr",
          "text": [
            "100%|██████████| 13/13 [00:01<00:00,  6.67it/s]\n",
            "100%|██████████| 40/40 [00:01<00:00, 24.05it/s]\n"
          ]
        },
        {
          "output_type": "stream",
          "name": "stdout",
          "text": [
            "Epoch  3: Loss = 1.7694 Acc = 0.02 Test_Loss = 2.6947 Test_Acc = 0.19\n"
          ]
        },
        {
          "output_type": "stream",
          "name": "stderr",
          "text": [
            "100%|██████████| 13/13 [00:01<00:00,  6.81it/s]\n",
            "100%|██████████| 40/40 [00:01<00:00, 25.62it/s]\n"
          ]
        },
        {
          "output_type": "stream",
          "name": "stdout",
          "text": [
            "Epoch  4: Loss = 1.7040 Acc = 0.02 Test_Loss = 2.0517 Test_Acc = 0.27\n"
          ]
        },
        {
          "output_type": "stream",
          "name": "stderr",
          "text": [
            "100%|██████████| 13/13 [00:01<00:00,  6.75it/s]\n",
            "100%|██████████| 40/40 [00:01<00:00, 24.62it/s]\n"
          ]
        },
        {
          "output_type": "stream",
          "name": "stdout",
          "text": [
            "Epoch  5: Loss = 1.5755 Acc = 0.03 Test_Loss = 1.5376 Test_Acc = 0.43\n"
          ]
        },
        {
          "output_type": "stream",
          "name": "stderr",
          "text": [
            "100%|██████████| 13/13 [00:01<00:00,  6.70it/s]\n",
            "100%|██████████| 40/40 [00:01<00:00, 24.57it/s]\n"
          ]
        },
        {
          "output_type": "stream",
          "name": "stdout",
          "text": [
            "Epoch  6: Loss = 1.5509 Acc = 0.03 Test_Loss = 1.4768 Test_Acc = 0.46\n"
          ]
        },
        {
          "output_type": "stream",
          "name": "stderr",
          "text": [
            "100%|██████████| 13/13 [00:01<00:00,  6.58it/s]\n",
            "100%|██████████| 40/40 [00:01<00:00, 24.25it/s]\n"
          ]
        },
        {
          "output_type": "stream",
          "name": "stdout",
          "text": [
            "Epoch  7: Loss = 1.5276 Acc = 0.03 Test_Loss = 1.6492 Test_Acc = 0.43\n"
          ]
        },
        {
          "output_type": "stream",
          "name": "stderr",
          "text": [
            "100%|██████████| 13/13 [00:02<00:00,  6.50it/s]\n",
            "100%|██████████| 40/40 [00:01<00:00, 24.10it/s]\n"
          ]
        },
        {
          "output_type": "stream",
          "name": "stdout",
          "text": [
            "Epoch  8: Loss = 1.5293 Acc = 0.03 Test_Loss = 1.6431 Test_Acc = 0.40\n"
          ]
        },
        {
          "output_type": "stream",
          "name": "stderr",
          "text": [
            "100%|██████████| 13/13 [00:02<00:00,  6.48it/s]\n",
            "100%|██████████| 40/40 [00:01<00:00, 24.83it/s]\n"
          ]
        },
        {
          "output_type": "stream",
          "name": "stdout",
          "text": [
            "Epoch  9: Loss = 1.4653 Acc = 0.03 Test_Loss = 1.4424 Test_Acc = 0.47\n"
          ]
        },
        {
          "output_type": "stream",
          "name": "stderr",
          "text": [
            "100%|██████████| 13/13 [00:02<00:00,  5.72it/s]\n",
            "100%|██████████| 40/40 [00:01<00:00, 22.53it/s]\n"
          ]
        },
        {
          "output_type": "stream",
          "name": "stdout",
          "text": [
            "Epoch 10: Loss = 1.4200 Acc = 0.03 Test_Loss = 1.9445 Test_Acc = 0.36\n"
          ]
        },
        {
          "output_type": "stream",
          "name": "stderr",
          "text": [
            "100%|██████████| 13/13 [00:02<00:00,  6.43it/s]\n",
            "100%|██████████| 40/40 [00:02<00:00, 18.54it/s]\n"
          ]
        },
        {
          "output_type": "stream",
          "name": "stdout",
          "text": [
            "Epoch 11: Loss = 1.4224 Acc = 0.03 Test_Loss = 1.3769 Test_Acc = 0.50\n"
          ]
        },
        {
          "output_type": "stream",
          "name": "stderr",
          "text": [
            "100%|██████████| 13/13 [00:02<00:00,  5.89it/s]\n",
            "100%|██████████| 40/40 [00:01<00:00, 24.59it/s]\n"
          ]
        },
        {
          "output_type": "stream",
          "name": "stdout",
          "text": [
            "Epoch 12: Loss = 1.3820 Acc = 0.03 Test_Loss = 1.5103 Test_Acc = 0.45\n"
          ]
        },
        {
          "output_type": "stream",
          "name": "stderr",
          "text": [
            "100%|██████████| 13/13 [00:01<00:00,  6.54it/s]\n",
            "100%|██████████| 40/40 [00:01<00:00, 24.05it/s]\n"
          ]
        },
        {
          "output_type": "stream",
          "name": "stdout",
          "text": [
            "Epoch 13: Loss = 1.3558 Acc = 0.03 Test_Loss = 1.8779 Test_Acc = 0.39\n"
          ]
        },
        {
          "output_type": "stream",
          "name": "stderr",
          "text": [
            "100%|██████████| 13/13 [00:01<00:00,  6.51it/s]\n",
            "100%|██████████| 40/40 [00:01<00:00, 24.93it/s]\n"
          ]
        },
        {
          "output_type": "stream",
          "name": "stdout",
          "text": [
            "Epoch 14: Loss = 1.3673 Acc = 0.03 Test_Loss = 1.3566 Test_Acc = 0.51\n"
          ]
        },
        {
          "output_type": "stream",
          "name": "stderr",
          "text": [
            "100%|██████████| 13/13 [00:01<00:00,  6.53it/s]\n",
            "100%|██████████| 40/40 [00:01<00:00, 23.62it/s]\n"
          ]
        },
        {
          "output_type": "stream",
          "name": "stdout",
          "text": [
            "Epoch 15: Loss = 1.3253 Acc = 0.03 Test_Loss = 1.4332 Test_Acc = 0.47\n"
          ]
        },
        {
          "output_type": "stream",
          "name": "stderr",
          "text": [
            "100%|██████████| 13/13 [00:01<00:00,  6.57it/s]\n",
            "100%|██████████| 40/40 [00:01<00:00, 24.87it/s]\n"
          ]
        },
        {
          "output_type": "stream",
          "name": "stdout",
          "text": [
            "Epoch 16: Loss = 1.2984 Acc = 0.03 Test_Loss = 1.4249 Test_Acc = 0.48\n"
          ]
        },
        {
          "output_type": "stream",
          "name": "stderr",
          "text": [
            "100%|██████████| 13/13 [00:01<00:00,  6.66it/s]\n",
            "100%|██████████| 40/40 [00:01<00:00, 24.95it/s]\n"
          ]
        },
        {
          "output_type": "stream",
          "name": "stdout",
          "text": [
            "Epoch 17: Loss = 1.2928 Acc = 0.03 Test_Loss = 1.6230 Test_Acc = 0.43\n"
          ]
        },
        {
          "output_type": "stream",
          "name": "stderr",
          "text": [
            "100%|██████████| 13/13 [00:01<00:00,  6.51it/s]\n",
            "100%|██████████| 40/40 [00:01<00:00, 24.86it/s]\n"
          ]
        },
        {
          "output_type": "stream",
          "name": "stdout",
          "text": [
            "Epoch 18: Loss = 1.2841 Acc = 0.03 Test_Loss = 1.6975 Test_Acc = 0.42\n"
          ]
        },
        {
          "output_type": "stream",
          "name": "stderr",
          "text": [
            "100%|██████████| 13/13 [00:01<00:00,  6.68it/s]\n",
            "100%|██████████| 40/40 [00:01<00:00, 25.14it/s]\n"
          ]
        },
        {
          "output_type": "stream",
          "name": "stdout",
          "text": [
            "Epoch 19: Loss = 1.2735 Acc = 0.03 Test_Loss = 1.2583 Test_Acc = 0.54\n"
          ]
        },
        {
          "output_type": "stream",
          "name": "stderr",
          "text": [
            "100%|██████████| 13/13 [00:01<00:00,  6.51it/s]\n",
            "100%|██████████| 40/40 [00:01<00:00, 24.87it/s]"
          ]
        },
        {
          "output_type": "stream",
          "name": "stdout",
          "text": [
            "Epoch 20: Loss = 1.2348 Acc = 0.03 Test_Loss = 1.2784 Test_Acc = 0.54\n",
            "Done!\n"
          ]
        },
        {
          "output_type": "stream",
          "name": "stderr",
          "text": [
            "\n"
          ]
        }
      ]
    },
    {
      "cell_type": "markdown",
      "source": [
        "### Resnet50"
      ],
      "metadata": {
        "id": "V5wMAC5KFWaP"
      }
    },
    {
      "cell_type": "code",
      "source": [
        "# HINT: Remember to change the model to 'resnet50' and the weights to weights=\"IMAGENET1K_V1\" when needed.\n",
        "model = torch.hub.load('pytorch/vision:v0.10.0', 'resnet50', weights=None).to(device)\n",
        "\n",
        "# Background: The original resnet18 is designed for ImageNet dataset to predict 1000 classes.\n",
        "# TODO: Change the output of the model to 10 class.\n",
        "model.fc = nn.Linear(2048, 10).to(device)"
      ],
      "metadata": {
        "colab": {
          "base_uri": "https://localhost:8080/"
        },
        "id": "jJv1SaUDk172",
        "outputId": "d3da2a80-33e9-4c97-9c37-e47ed691348a"
      },
      "execution_count": null,
      "outputs": [
        {
          "output_type": "stream",
          "name": "stderr",
          "text": [
            "Using cache found in /root/.cache/torch/hub/pytorch_vision_v0.10.0\n"
          ]
        }
      ]
    },
    {
      "cell_type": "code",
      "source": [
        "# TODO: Fill in the code cell according to the pytorch tutorial we gave.\n",
        "loss_fn = nn.CrossEntropyLoss()\n",
        "optimizer = torch.optim.Adam(model.parameters(), lr=1e-3)\n",
        "\n",
        "def train(dataloader, model, loss_fn, optimizer):\n",
        "    num_batches = len(dataloader)\n",
        "    size = len(dataloader.dataset)\n",
        "    epoch_loss = 0\n",
        "    correct = 0\n",
        "\n",
        "    model.train()\n",
        "\n",
        "    for X, y in tqdm(dataloader):\n",
        "        X, y = X.to(device), y.to(device)\n",
        "\n",
        "        # Compute prediction error\n",
        "        pred = model(X)\n",
        "        loss = loss_fn(pred, y)\n",
        "\n",
        "        # Backpropagation\n",
        "        optimizer.zero_grad()\n",
        "        loss.backward()\n",
        "        optimizer.step()\n",
        "\n",
        "        epoch_loss += loss.item()\n",
        "        pred = pred.argmax(dim=1, keepdim=True)\n",
        "        correct += pred.eq(y.view_as(pred)).sum().item()\n",
        "\n",
        "    avg_epoch_loss = epoch_loss / num_batches\n",
        "    avg_acc = correct / size\n",
        "\n",
        "    return avg_epoch_loss, avg_acc\n",
        "\n",
        "def test(dataloader, model, loss_fn):\n",
        "    num_batches = len(dataloader)\n",
        "    size = len(dataloader.dataset)\n",
        "    epoch_loss = 0\n",
        "    correct = 0\n",
        "\n",
        "    model.eval()\n",
        "\n",
        "    with torch.no_grad():\n",
        "        for X, y in tqdm(dataloader):\n",
        "            X, y = X.to(device), y.to(device)\n",
        "\n",
        "            pred = model(X)\n",
        "\n",
        "            epoch_loss += loss_fn(pred, y).item()\n",
        "            pred = pred.argmax(dim=1, keepdim=True)\n",
        "            correct += pred.eq(y.view_as(pred)).sum().item()\n",
        "\n",
        "    avg_epoch_loss = epoch_loss / num_batches\n",
        "    avg_acc = correct / size\n",
        "\n",
        "    return avg_epoch_loss, avg_acc"
      ],
      "metadata": {
        "id": "n7Iuyh49k3EO"
      },
      "execution_count": null,
      "outputs": []
    },
    {
      "cell_type": "code",
      "source": [
        "##### Whole data #####\n",
        "epochs = 20\n",
        "for epoch in range(epochs):\n",
        "    train_loss, train_acc = train(train_dataloader, model, loss_fn, optimizer)\n",
        "    test_loss, test_acc = test(valid_dataloader, model, loss_fn)\n",
        "    print(f\"Epoch {epoch + 1:2d}: Loss = {train_loss:.4f} Acc = {train_acc:.2f} Test_Loss = {test_loss:.4f} Test_Acc = {test_acc:.2f}\")\n",
        "print(\"Done!\")"
      ],
      "metadata": {
        "colab": {
          "base_uri": "https://localhost:8080/"
        },
        "id": "8Tgz1suHk4UV",
        "outputId": "cae8dba0-da74-40a8-e0b7-7b9b7978a1f6"
      },
      "execution_count": null,
      "outputs": [
        {
          "output_type": "stream",
          "name": "stderr",
          "text": [
            "100%|██████████| 196/196 [00:42<00:00,  4.62it/s]\n",
            "100%|██████████| 40/40 [00:02<00:00, 18.86it/s]\n"
          ]
        },
        {
          "output_type": "stream",
          "name": "stdout",
          "text": [
            "Epoch  1: Loss = 1.8541 Acc = 0.35 Test_Loss = 1.5705 Test_Acc = 0.43\n"
          ]
        },
        {
          "output_type": "stream",
          "name": "stderr",
          "text": [
            "100%|██████████| 196/196 [00:40<00:00,  4.81it/s]\n",
            "100%|██████████| 40/40 [00:02<00:00, 18.58it/s]\n"
          ]
        },
        {
          "output_type": "stream",
          "name": "stdout",
          "text": [
            "Epoch  2: Loss = 1.5411 Acc = 0.45 Test_Loss = 1.4130 Test_Acc = 0.50\n"
          ]
        },
        {
          "output_type": "stream",
          "name": "stderr",
          "text": [
            "100%|██████████| 196/196 [00:41<00:00,  4.74it/s]\n",
            "100%|██████████| 40/40 [00:02<00:00, 18.73it/s]\n"
          ]
        },
        {
          "output_type": "stream",
          "name": "stdout",
          "text": [
            "Epoch  3: Loss = 1.4924 Acc = 0.48 Test_Loss = 1.5475 Test_Acc = 0.46\n"
          ]
        },
        {
          "output_type": "stream",
          "name": "stderr",
          "text": [
            "100%|██████████| 196/196 [00:41<00:00,  4.73it/s]\n",
            "100%|██████████| 40/40 [00:02<00:00, 18.40it/s]\n"
          ]
        },
        {
          "output_type": "stream",
          "name": "stdout",
          "text": [
            "Epoch  4: Loss = 1.4554 Acc = 0.49 Test_Loss = 1.2838 Test_Acc = 0.54\n"
          ]
        },
        {
          "output_type": "stream",
          "name": "stderr",
          "text": [
            "100%|██████████| 196/196 [00:41<00:00,  4.75it/s]\n",
            "100%|██████████| 40/40 [00:02<00:00, 18.84it/s]\n"
          ]
        },
        {
          "output_type": "stream",
          "name": "stdout",
          "text": [
            "Epoch  5: Loss = 1.3235 Acc = 0.53 Test_Loss = 1.3490 Test_Acc = 0.53\n"
          ]
        },
        {
          "output_type": "stream",
          "name": "stderr",
          "text": [
            "100%|██████████| 196/196 [00:41<00:00,  4.76it/s]\n",
            "100%|██████████| 40/40 [00:02<00:00, 18.69it/s]\n"
          ]
        },
        {
          "output_type": "stream",
          "name": "stdout",
          "text": [
            "Epoch  6: Loss = 1.3571 Acc = 0.53 Test_Loss = 1.3012 Test_Acc = 0.60\n"
          ]
        },
        {
          "output_type": "stream",
          "name": "stderr",
          "text": [
            "100%|██████████| 196/196 [00:41<00:00,  4.77it/s]\n",
            "100%|██████████| 40/40 [00:02<00:00, 18.84it/s]\n"
          ]
        },
        {
          "output_type": "stream",
          "name": "stdout",
          "text": [
            "Epoch  7: Loss = 1.1697 Acc = 0.59 Test_Loss = 1.0973 Test_Acc = 0.62\n"
          ]
        },
        {
          "output_type": "stream",
          "name": "stderr",
          "text": [
            "100%|██████████| 196/196 [00:41<00:00,  4.78it/s]\n",
            "100%|██████████| 40/40 [00:02<00:00, 18.88it/s]\n"
          ]
        },
        {
          "output_type": "stream",
          "name": "stdout",
          "text": [
            "Epoch  8: Loss = 1.1614 Acc = 0.60 Test_Loss = 2.0013 Test_Acc = 0.59\n"
          ]
        },
        {
          "output_type": "stream",
          "name": "stderr",
          "text": [
            "100%|██████████| 196/196 [00:40<00:00,  4.78it/s]\n",
            "100%|██████████| 40/40 [00:02<00:00, 18.88it/s]\n"
          ]
        },
        {
          "output_type": "stream",
          "name": "stdout",
          "text": [
            "Epoch  9: Loss = 1.0250 Acc = 0.65 Test_Loss = 1.0345 Test_Acc = 0.67\n"
          ]
        },
        {
          "output_type": "stream",
          "name": "stderr",
          "text": [
            "100%|██████████| 196/196 [00:40<00:00,  4.79it/s]\n",
            "100%|██████████| 40/40 [00:02<00:00, 18.76it/s]\n"
          ]
        },
        {
          "output_type": "stream",
          "name": "stdout",
          "text": [
            "Epoch 10: Loss = 1.2506 Acc = 0.57 Test_Loss = 91.2550 Test_Acc = 0.21\n"
          ]
        },
        {
          "output_type": "stream",
          "name": "stderr",
          "text": [
            "100%|██████████| 196/196 [00:40<00:00,  4.81it/s]\n",
            "100%|██████████| 40/40 [00:02<00:00, 19.06it/s]\n"
          ]
        },
        {
          "output_type": "stream",
          "name": "stdout",
          "text": [
            "Epoch 11: Loss = 1.5740 Acc = 0.45 Test_Loss = 1.3006 Test_Acc = 0.54\n"
          ]
        },
        {
          "output_type": "stream",
          "name": "stderr",
          "text": [
            "100%|██████████| 196/196 [00:40<00:00,  4.81it/s]\n",
            "100%|██████████| 40/40 [00:02<00:00, 19.01it/s]\n"
          ]
        },
        {
          "output_type": "stream",
          "name": "stdout",
          "text": [
            "Epoch 12: Loss = 1.2315 Acc = 0.57 Test_Loss = 1.8782 Test_Acc = 0.60\n"
          ]
        },
        {
          "output_type": "stream",
          "name": "stderr",
          "text": [
            "100%|██████████| 196/196 [00:40<00:00,  4.82it/s]\n",
            "100%|██████████| 40/40 [00:02<00:00, 18.89it/s]\n"
          ]
        },
        {
          "output_type": "stream",
          "name": "stdout",
          "text": [
            "Epoch 13: Loss = 1.0904 Acc = 0.62 Test_Loss = 1.4566 Test_Acc = 0.62\n"
          ]
        },
        {
          "output_type": "stream",
          "name": "stderr",
          "text": [
            "100%|██████████| 196/196 [00:40<00:00,  4.81it/s]\n",
            "100%|██████████| 40/40 [00:02<00:00, 18.99it/s]\n"
          ]
        },
        {
          "output_type": "stream",
          "name": "stdout",
          "text": [
            "Epoch 14: Loss = 0.9785 Acc = 0.66 Test_Loss = 0.9227 Test_Acc = 0.68\n"
          ]
        },
        {
          "output_type": "stream",
          "name": "stderr",
          "text": [
            "100%|██████████| 196/196 [00:40<00:00,  4.81it/s]\n",
            "100%|██████████| 40/40 [00:02<00:00, 19.15it/s]\n"
          ]
        },
        {
          "output_type": "stream",
          "name": "stdout",
          "text": [
            "Epoch 15: Loss = 0.9187 Acc = 0.68 Test_Loss = 0.9630 Test_Acc = 0.68\n"
          ]
        },
        {
          "output_type": "stream",
          "name": "stderr",
          "text": [
            "100%|██████████| 196/196 [00:40<00:00,  4.83it/s]\n",
            "100%|██████████| 40/40 [00:02<00:00, 19.26it/s]\n"
          ]
        },
        {
          "output_type": "stream",
          "name": "stdout",
          "text": [
            "Epoch 16: Loss = 0.8598 Acc = 0.70 Test_Loss = 0.8495 Test_Acc = 0.70\n"
          ]
        },
        {
          "output_type": "stream",
          "name": "stderr",
          "text": [
            "100%|██████████| 196/196 [00:40<00:00,  4.83it/s]\n",
            "100%|██████████| 40/40 [00:02<00:00, 18.80it/s]\n"
          ]
        },
        {
          "output_type": "stream",
          "name": "stdout",
          "text": [
            "Epoch 17: Loss = 0.8346 Acc = 0.71 Test_Loss = 0.9607 Test_Acc = 0.66\n"
          ]
        },
        {
          "output_type": "stream",
          "name": "stderr",
          "text": [
            "100%|██████████| 196/196 [00:40<00:00,  4.81it/s]\n",
            "100%|██████████| 40/40 [00:02<00:00, 18.81it/s]\n"
          ]
        },
        {
          "output_type": "stream",
          "name": "stdout",
          "text": [
            "Epoch 18: Loss = 0.7918 Acc = 0.72 Test_Loss = 0.7899 Test_Acc = 0.72\n"
          ]
        },
        {
          "output_type": "stream",
          "name": "stderr",
          "text": [
            "100%|██████████| 196/196 [00:40<00:00,  4.81it/s]\n",
            "100%|██████████| 40/40 [00:02<00:00, 18.90it/s]\n"
          ]
        },
        {
          "output_type": "stream",
          "name": "stdout",
          "text": [
            "Epoch 19: Loss = 0.8359 Acc = 0.71 Test_Loss = 1.3548 Test_Acc = 0.60\n"
          ]
        },
        {
          "output_type": "stream",
          "name": "stderr",
          "text": [
            "100%|██████████| 196/196 [00:40<00:00,  4.82it/s]\n",
            "100%|██████████| 40/40 [00:02<00:00, 19.05it/s]"
          ]
        },
        {
          "output_type": "stream",
          "name": "stdout",
          "text": [
            "Epoch 20: Loss = 0.8149 Acc = 0.72 Test_Loss = 0.8034 Test_Acc = 0.74\n",
            "Done!\n"
          ]
        },
        {
          "output_type": "stream",
          "name": "stderr",
          "text": [
            "\n"
          ]
        }
      ]
    },
    {
      "cell_type": "code",
      "source": [
        "##### 1/2 data #####\n",
        "epochs = 20\n",
        "for epoch in range(epochs):\n",
        "    train_loss, train_acc = train(half_train_dataloader, model, loss_fn, optimizer)\n",
        "    test_loss, test_acc = test(valid_dataloader, model, loss_fn)\n",
        "    print(f\"Epoch {epoch + 1:2d}: Loss = {train_loss:.4f} Acc = {train_acc:.2f} Test_Loss = {test_loss:.4f} Test_Acc = {test_acc:.2f}\")\n",
        "print(\"Done!\")"
      ],
      "metadata": {
        "colab": {
          "base_uri": "https://localhost:8080/"
        },
        "id": "c2WMIGa3lBjI",
        "outputId": "2ab878c2-94c1-4737-e8b6-fe60489c506b"
      },
      "execution_count": null,
      "outputs": [
        {
          "output_type": "stream",
          "name": "stderr",
          "text": [
            "100%|██████████| 98/98 [00:20<00:00,  4.80it/s]\n",
            "100%|██████████| 40/40 [00:02<00:00, 19.11it/s]\n"
          ]
        },
        {
          "output_type": "stream",
          "name": "stdout",
          "text": [
            "Epoch  1: Loss = 2.0168 Acc = 0.15 Test_Loss = 1.7020 Test_Acc = 0.40\n"
          ]
        },
        {
          "output_type": "stream",
          "name": "stderr",
          "text": [
            "100%|██████████| 98/98 [00:20<00:00,  4.84it/s]\n",
            "100%|██████████| 40/40 [00:02<00:00, 19.00it/s]\n"
          ]
        },
        {
          "output_type": "stream",
          "name": "stdout",
          "text": [
            "Epoch  2: Loss = 1.6534 Acc = 0.20 Test_Loss = 3.4878 Test_Acc = 0.46\n"
          ]
        },
        {
          "output_type": "stream",
          "name": "stderr",
          "text": [
            "100%|██████████| 98/98 [00:20<00:00,  4.73it/s]\n",
            "100%|██████████| 40/40 [00:02<00:00, 18.86it/s]\n"
          ]
        },
        {
          "output_type": "stream",
          "name": "stdout",
          "text": [
            "Epoch  3: Loss = 1.5239 Acc = 0.23 Test_Loss = 1.4011 Test_Acc = 0.51\n"
          ]
        },
        {
          "output_type": "stream",
          "name": "stderr",
          "text": [
            "100%|██████████| 98/98 [00:20<00:00,  4.86it/s]\n",
            "100%|██████████| 40/40 [00:02<00:00, 18.99it/s]\n"
          ]
        },
        {
          "output_type": "stream",
          "name": "stdout",
          "text": [
            "Epoch  4: Loss = 1.5051 Acc = 0.24 Test_Loss = 2.3585 Test_Acc = 0.46\n"
          ]
        },
        {
          "output_type": "stream",
          "name": "stderr",
          "text": [
            "100%|██████████| 98/98 [00:20<00:00,  4.74it/s]\n",
            "100%|██████████| 40/40 [00:02<00:00, 17.31it/s]\n"
          ]
        },
        {
          "output_type": "stream",
          "name": "stdout",
          "text": [
            "Epoch  5: Loss = 1.5418 Acc = 0.23 Test_Loss = 1.7023 Test_Acc = 0.42\n"
          ]
        },
        {
          "output_type": "stream",
          "name": "stderr",
          "text": [
            "100%|██████████| 98/98 [00:20<00:00,  4.82it/s]\n",
            "100%|██████████| 40/40 [00:02<00:00, 19.07it/s]\n"
          ]
        },
        {
          "output_type": "stream",
          "name": "stdout",
          "text": [
            "Epoch  6: Loss = 1.4966 Acc = 0.24 Test_Loss = 1.3737 Test_Acc = 0.52\n"
          ]
        },
        {
          "output_type": "stream",
          "name": "stderr",
          "text": [
            "100%|██████████| 98/98 [00:20<00:00,  4.77it/s]\n",
            "100%|██████████| 40/40 [00:02<00:00, 19.04it/s]\n"
          ]
        },
        {
          "output_type": "stream",
          "name": "stdout",
          "text": [
            "Epoch  7: Loss = 1.3748 Acc = 0.26 Test_Loss = 1.5276 Test_Acc = 0.49\n"
          ]
        },
        {
          "output_type": "stream",
          "name": "stderr",
          "text": [
            "100%|██████████| 98/98 [00:20<00:00,  4.88it/s]\n",
            "100%|██████████| 40/40 [00:02<00:00, 18.03it/s]\n"
          ]
        },
        {
          "output_type": "stream",
          "name": "stdout",
          "text": [
            "Epoch  8: Loss = 1.3081 Acc = 0.27 Test_Loss = 2.8952 Test_Acc = 0.37\n"
          ]
        },
        {
          "output_type": "stream",
          "name": "stderr",
          "text": [
            "100%|██████████| 98/98 [00:20<00:00,  4.77it/s]\n",
            "100%|██████████| 40/40 [00:02<00:00, 19.10it/s]\n"
          ]
        },
        {
          "output_type": "stream",
          "name": "stdout",
          "text": [
            "Epoch  9: Loss = 1.3751 Acc = 0.26 Test_Loss = 1.2400 Test_Acc = 0.56\n"
          ]
        },
        {
          "output_type": "stream",
          "name": "stderr",
          "text": [
            "100%|██████████| 98/98 [00:20<00:00,  4.88it/s]\n",
            "100%|██████████| 40/40 [00:02<00:00, 15.05it/s]\n"
          ]
        },
        {
          "output_type": "stream",
          "name": "stdout",
          "text": [
            "Epoch 10: Loss = 1.2403 Acc = 0.28 Test_Loss = 1.8415 Test_Acc = 0.38\n"
          ]
        },
        {
          "output_type": "stream",
          "name": "stderr",
          "text": [
            "100%|██████████| 98/98 [00:20<00:00,  4.86it/s]\n",
            "100%|██████████| 40/40 [00:02<00:00, 19.13it/s]\n"
          ]
        },
        {
          "output_type": "stream",
          "name": "stdout",
          "text": [
            "Epoch 11: Loss = 1.5397 Acc = 0.24 Test_Loss = 3.3349 Test_Acc = 0.21\n"
          ]
        },
        {
          "output_type": "stream",
          "name": "stderr",
          "text": [
            "100%|██████████| 98/98 [00:20<00:00,  4.80it/s]\n",
            "100%|██████████| 40/40 [00:02<00:00, 17.15it/s]\n"
          ]
        },
        {
          "output_type": "stream",
          "name": "stdout",
          "text": [
            "Epoch 12: Loss = 1.6412 Acc = 0.21 Test_Loss = 1.4905 Test_Acc = 0.46\n"
          ]
        },
        {
          "output_type": "stream",
          "name": "stderr",
          "text": [
            "100%|██████████| 98/98 [00:20<00:00,  4.86it/s]\n",
            "100%|██████████| 40/40 [00:02<00:00, 19.14it/s]\n"
          ]
        },
        {
          "output_type": "stream",
          "name": "stdout",
          "text": [
            "Epoch 13: Loss = 1.4324 Acc = 0.25 Test_Loss = 1.5096 Test_Acc = 0.46\n"
          ]
        },
        {
          "output_type": "stream",
          "name": "stderr",
          "text": [
            "100%|██████████| 98/98 [00:20<00:00,  4.75it/s]\n",
            "100%|██████████| 40/40 [00:02<00:00, 18.90it/s]\n"
          ]
        },
        {
          "output_type": "stream",
          "name": "stdout",
          "text": [
            "Epoch 14: Loss = 1.4229 Acc = 0.25 Test_Loss = 1.2614 Test_Acc = 0.55\n"
          ]
        },
        {
          "output_type": "stream",
          "name": "stderr",
          "text": [
            "100%|██████████| 98/98 [00:20<00:00,  4.86it/s]\n",
            "100%|██████████| 40/40 [00:02<00:00, 18.83it/s]\n"
          ]
        },
        {
          "output_type": "stream",
          "name": "stdout",
          "text": [
            "Epoch 15: Loss = 1.3593 Acc = 0.26 Test_Loss = 1.2738 Test_Acc = 0.53\n"
          ]
        },
        {
          "output_type": "stream",
          "name": "stderr",
          "text": [
            "100%|██████████| 98/98 [00:20<00:00,  4.71it/s]\n",
            "100%|██████████| 40/40 [00:02<00:00, 19.07it/s]\n"
          ]
        },
        {
          "output_type": "stream",
          "name": "stdout",
          "text": [
            "Epoch 16: Loss = 1.2630 Acc = 0.28 Test_Loss = 1.1918 Test_Acc = 0.59\n"
          ]
        },
        {
          "output_type": "stream",
          "name": "stderr",
          "text": [
            "100%|██████████| 98/98 [00:20<00:00,  4.78it/s]\n",
            "100%|██████████| 40/40 [00:02<00:00, 18.75it/s]\n"
          ]
        },
        {
          "output_type": "stream",
          "name": "stdout",
          "text": [
            "Epoch 17: Loss = 1.2754 Acc = 0.28 Test_Loss = 15.0168 Test_Acc = 0.33\n"
          ]
        },
        {
          "output_type": "stream",
          "name": "stderr",
          "text": [
            "100%|██████████| 98/98 [00:20<00:00,  4.75it/s]\n",
            "100%|██████████| 40/40 [00:02<00:00, 18.95it/s]\n"
          ]
        },
        {
          "output_type": "stream",
          "name": "stdout",
          "text": [
            "Epoch 18: Loss = 1.3330 Acc = 0.26 Test_Loss = 1.1221 Test_Acc = 0.60\n"
          ]
        },
        {
          "output_type": "stream",
          "name": "stderr",
          "text": [
            "100%|██████████| 98/98 [00:20<00:00,  4.86it/s]\n",
            "100%|██████████| 40/40 [00:02<00:00, 19.21it/s]\n"
          ]
        },
        {
          "output_type": "stream",
          "name": "stdout",
          "text": [
            "Epoch 19: Loss = 1.3697 Acc = 0.27 Test_Loss = 1.2774 Test_Acc = 0.54\n"
          ]
        },
        {
          "output_type": "stream",
          "name": "stderr",
          "text": [
            "100%|██████████| 98/98 [00:20<00:00,  4.71it/s]\n",
            "100%|██████████| 40/40 [00:02<00:00, 18.79it/s]"
          ]
        },
        {
          "output_type": "stream",
          "name": "stdout",
          "text": [
            "Epoch 20: Loss = 1.4942 Acc = 0.24 Test_Loss = 2.0357 Test_Acc = 0.43\n",
            "Done!\n"
          ]
        },
        {
          "output_type": "stream",
          "name": "stderr",
          "text": [
            "\n"
          ]
        }
      ]
    },
    {
      "cell_type": "code",
      "source": [
        "##### 1/16 data #####\n",
        "epochs = 20\n",
        "for epoch in range(epochs):\n",
        "    train_loss, train_acc = train(sixteenth_train_dataloader, model, loss_fn, optimizer)\n",
        "    test_loss, test_acc = test(valid_dataloader, model, loss_fn)\n",
        "    print(f\"Epoch {epoch + 1:2d}: Loss = {train_loss:.4f} Acc = {train_acc:.2f} Test_Loss = {test_loss:.4f} Test_Acc = {test_acc:.2f}\")\n",
        "print(\"Done!\")"
      ],
      "metadata": {
        "colab": {
          "base_uri": "https://localhost:8080/"
        },
        "id": "MZQbrBkLlI73",
        "outputId": "f71a07be-af2a-44b9-9225-c078a27cd755"
      },
      "execution_count": null,
      "outputs": [
        {
          "output_type": "stream",
          "name": "stderr",
          "text": [
            "100%|██████████| 13/13 [00:02<00:00,  5.08it/s]\n",
            "100%|██████████| 40/40 [00:02<00:00, 18.86it/s]\n"
          ]
        },
        {
          "output_type": "stream",
          "name": "stdout",
          "text": [
            "Epoch  1: Loss = 2.8272 Acc = 0.01 Test_Loss = 2.5528 Test_Acc = 0.10\n"
          ]
        },
        {
          "output_type": "stream",
          "name": "stderr",
          "text": [
            "100%|██████████| 13/13 [00:02<00:00,  5.12it/s]\n",
            "100%|██████████| 40/40 [00:02<00:00, 18.88it/s]\n"
          ]
        },
        {
          "output_type": "stream",
          "name": "stdout",
          "text": [
            "Epoch  2: Loss = 2.2485 Acc = 0.01 Test_Loss = 2.4539 Test_Acc = 0.15\n"
          ]
        },
        {
          "output_type": "stream",
          "name": "stderr",
          "text": [
            "100%|██████████| 13/13 [00:02<00:00,  5.03it/s]\n",
            "100%|██████████| 40/40 [00:02<00:00, 18.32it/s]\n"
          ]
        },
        {
          "output_type": "stream",
          "name": "stdout",
          "text": [
            "Epoch  3: Loss = 2.0468 Acc = 0.02 Test_Loss = 2.1838 Test_Acc = 0.21\n"
          ]
        },
        {
          "output_type": "stream",
          "name": "stderr",
          "text": [
            "100%|██████████| 13/13 [00:02<00:00,  5.05it/s]\n",
            "100%|██████████| 40/40 [00:02<00:00, 18.57it/s]\n"
          ]
        },
        {
          "output_type": "stream",
          "name": "stdout",
          "text": [
            "Epoch  4: Loss = 1.9514 Acc = 0.02 Test_Loss = 1.9463 Test_Acc = 0.29\n"
          ]
        },
        {
          "output_type": "stream",
          "name": "stderr",
          "text": [
            "100%|██████████| 13/13 [00:02<00:00,  5.12it/s]\n",
            "100%|██████████| 40/40 [00:02<00:00, 18.74it/s]\n"
          ]
        },
        {
          "output_type": "stream",
          "name": "stdout",
          "text": [
            "Epoch  5: Loss = 1.9074 Acc = 0.02 Test_Loss = 1.7520 Test_Acc = 0.36\n"
          ]
        },
        {
          "output_type": "stream",
          "name": "stderr",
          "text": [
            "100%|██████████| 13/13 [00:02<00:00,  5.09it/s]\n",
            "100%|██████████| 40/40 [00:02<00:00, 17.23it/s]\n"
          ]
        },
        {
          "output_type": "stream",
          "name": "stdout",
          "text": [
            "Epoch  6: Loss = 1.8604 Acc = 0.02 Test_Loss = 1.7303 Test_Acc = 0.37\n"
          ]
        },
        {
          "output_type": "stream",
          "name": "stderr",
          "text": [
            "100%|██████████| 13/13 [00:02<00:00,  5.11it/s]\n",
            "100%|██████████| 40/40 [00:02<00:00, 14.47it/s]\n"
          ]
        },
        {
          "output_type": "stream",
          "name": "stdout",
          "text": [
            "Epoch  7: Loss = 1.8658 Acc = 0.02 Test_Loss = 1.8344 Test_Acc = 0.37\n"
          ]
        },
        {
          "output_type": "stream",
          "name": "stderr",
          "text": [
            "100%|██████████| 13/13 [00:02<00:00,  5.11it/s]\n",
            "100%|██████████| 40/40 [00:02<00:00, 18.84it/s]\n"
          ]
        },
        {
          "output_type": "stream",
          "name": "stdout",
          "text": [
            "Epoch  8: Loss = 1.8315 Acc = 0.02 Test_Loss = 1.6960 Test_Acc = 0.38\n"
          ]
        },
        {
          "output_type": "stream",
          "name": "stderr",
          "text": [
            "100%|██████████| 13/13 [00:02<00:00,  5.11it/s]\n",
            "100%|██████████| 40/40 [00:02<00:00, 18.65it/s]\n"
          ]
        },
        {
          "output_type": "stream",
          "name": "stdout",
          "text": [
            "Epoch  9: Loss = 1.8153 Acc = 0.02 Test_Loss = 1.7520 Test_Acc = 0.38\n"
          ]
        },
        {
          "output_type": "stream",
          "name": "stderr",
          "text": [
            "100%|██████████| 13/13 [00:02<00:00,  5.14it/s]\n",
            "100%|██████████| 40/40 [00:02<00:00, 18.58it/s]\n"
          ]
        },
        {
          "output_type": "stream",
          "name": "stdout",
          "text": [
            "Epoch 10: Loss = 1.7704 Acc = 0.02 Test_Loss = 2.0473 Test_Acc = 0.40\n"
          ]
        },
        {
          "output_type": "stream",
          "name": "stderr",
          "text": [
            "100%|██████████| 13/13 [00:02<00:00,  5.04it/s]\n",
            "100%|██████████| 40/40 [00:02<00:00, 18.73it/s]\n"
          ]
        },
        {
          "output_type": "stream",
          "name": "stdout",
          "text": [
            "Epoch 11: Loss = 1.7547 Acc = 0.02 Test_Loss = 1.8744 Test_Acc = 0.31\n"
          ]
        },
        {
          "output_type": "stream",
          "name": "stderr",
          "text": [
            "100%|██████████| 13/13 [00:02<00:00,  5.12it/s]\n",
            "100%|██████████| 40/40 [00:02<00:00, 18.61it/s]\n"
          ]
        },
        {
          "output_type": "stream",
          "name": "stdout",
          "text": [
            "Epoch 12: Loss = 1.7295 Acc = 0.02 Test_Loss = 1.7695 Test_Acc = 0.34\n"
          ]
        },
        {
          "output_type": "stream",
          "name": "stderr",
          "text": [
            "100%|██████████| 13/13 [00:02<00:00,  5.09it/s]\n",
            "100%|██████████| 40/40 [00:02<00:00, 18.67it/s]\n"
          ]
        },
        {
          "output_type": "stream",
          "name": "stdout",
          "text": [
            "Epoch 13: Loss = 1.8109 Acc = 0.03 Test_Loss = 1.7458 Test_Acc = 0.37\n"
          ]
        },
        {
          "output_type": "stream",
          "name": "stderr",
          "text": [
            "100%|██████████| 13/13 [00:02<00:00,  5.10it/s]\n",
            "100%|██████████| 40/40 [00:02<00:00, 18.60it/s]\n"
          ]
        },
        {
          "output_type": "stream",
          "name": "stdout",
          "text": [
            "Epoch 14: Loss = 1.8823 Acc = 0.02 Test_Loss = 7.8182 Test_Acc = 0.17\n"
          ]
        },
        {
          "output_type": "stream",
          "name": "stderr",
          "text": [
            "100%|██████████| 13/13 [00:02<00:00,  5.10it/s]\n",
            "100%|██████████| 40/40 [00:02<00:00, 18.96it/s]\n"
          ]
        },
        {
          "output_type": "stream",
          "name": "stdout",
          "text": [
            "Epoch 15: Loss = 1.8631 Acc = 0.02 Test_Loss = 1.8153 Test_Acc = 0.36\n"
          ]
        },
        {
          "output_type": "stream",
          "name": "stderr",
          "text": [
            "100%|██████████| 13/13 [00:02<00:00,  5.01it/s]\n",
            "100%|██████████| 40/40 [00:02<00:00, 18.88it/s]\n"
          ]
        },
        {
          "output_type": "stream",
          "name": "stdout",
          "text": [
            "Epoch 16: Loss = 1.7869 Acc = 0.02 Test_Loss = 1.9130 Test_Acc = 0.42\n"
          ]
        },
        {
          "output_type": "stream",
          "name": "stderr",
          "text": [
            "100%|██████████| 13/13 [00:03<00:00,  4.29it/s]\n",
            "100%|██████████| 40/40 [00:02<00:00, 19.00it/s]\n"
          ]
        },
        {
          "output_type": "stream",
          "name": "stdout",
          "text": [
            "Epoch 17: Loss = 1.7150 Acc = 0.02 Test_Loss = 1.6855 Test_Acc = 0.39\n"
          ]
        },
        {
          "output_type": "stream",
          "name": "stderr",
          "text": [
            "100%|██████████| 13/13 [00:02<00:00,  5.14it/s]\n",
            "100%|██████████| 40/40 [00:02<00:00, 18.82it/s]\n"
          ]
        },
        {
          "output_type": "stream",
          "name": "stdout",
          "text": [
            "Epoch 18: Loss = 1.7021 Acc = 0.02 Test_Loss = 1.9246 Test_Acc = 0.36\n"
          ]
        },
        {
          "output_type": "stream",
          "name": "stderr",
          "text": [
            "100%|██████████| 13/13 [00:02<00:00,  5.01it/s]\n",
            "100%|██████████| 40/40 [00:02<00:00, 18.67it/s]\n"
          ]
        },
        {
          "output_type": "stream",
          "name": "stdout",
          "text": [
            "Epoch 19: Loss = 1.6305 Acc = 0.03 Test_Loss = 1.8191 Test_Acc = 0.39\n"
          ]
        },
        {
          "output_type": "stream",
          "name": "stderr",
          "text": [
            "100%|██████████| 13/13 [00:02<00:00,  5.01it/s]\n",
            "100%|██████████| 40/40 [00:02<00:00, 18.63it/s]"
          ]
        },
        {
          "output_type": "stream",
          "name": "stdout",
          "text": [
            "Epoch 20: Loss = 1.6576 Acc = 0.03 Test_Loss = 1.5748 Test_Acc = 0.42\n",
            "Done!\n"
          ]
        },
        {
          "output_type": "stream",
          "name": "stderr",
          "text": [
            "\n"
          ]
        }
      ]
    },
    {
      "cell_type": "markdown",
      "source": [
        "### Resnet18 (pretrained)"
      ],
      "metadata": {
        "id": "LDWf5d_YEw61"
      }
    },
    {
      "cell_type": "code",
      "source": [
        "# HINT: Remember to change the model to 'resnet50' and the weights to weights=\"IMAGENET1K_V1\" when needed.\n",
        "model = torch.hub.load('pytorch/vision:v0.10.0', 'resnet18', weights=\"IMAGENET1K_V1\").to(device)\n",
        "\n",
        "# Background: The original resnet18 is designed for ImageNet dataset to predict 1000 classes.\n",
        "# TODO: Change the output of the model to 10 class.\n",
        "model.fc = nn.Linear(512, 10).to(device)"
      ],
      "metadata": {
        "colab": {
          "base_uri": "https://localhost:8080/"
        },
        "id": "Y7bhRkrXmUby",
        "outputId": "174545b6-5840-40ba-baba-8ebc8f11d645"
      },
      "execution_count": null,
      "outputs": [
        {
          "output_type": "stream",
          "name": "stderr",
          "text": [
            "Using cache found in /root/.cache/torch/hub/pytorch_vision_v0.10.0\n"
          ]
        }
      ]
    },
    {
      "cell_type": "code",
      "source": [
        "# TODO: Fill in the code cell according to the pytorch tutorial we gave.\n",
        "loss_fn = nn.CrossEntropyLoss()\n",
        "optimizer = torch.optim.Adam(model.parameters(), lr=1e-3)\n",
        "\n",
        "def train(dataloader, model, loss_fn, optimizer):\n",
        "    num_batches = len(dataloader)\n",
        "    size = len(dataloader.dataset)\n",
        "    epoch_loss = 0\n",
        "    correct = 0\n",
        "\n",
        "    model.train()\n",
        "\n",
        "    for X, y in tqdm(dataloader):\n",
        "        X, y = X.to(device), y.to(device)\n",
        "\n",
        "        # Compute prediction error\n",
        "        pred = model(X)\n",
        "        loss = loss_fn(pred, y)\n",
        "\n",
        "        # Backpropagation\n",
        "        optimizer.zero_grad()\n",
        "        loss.backward()\n",
        "        optimizer.step()\n",
        "\n",
        "        epoch_loss += loss.item()\n",
        "        pred = pred.argmax(dim=1, keepdim=True)\n",
        "        correct += pred.eq(y.view_as(pred)).sum().item()\n",
        "\n",
        "    avg_epoch_loss = epoch_loss / num_batches\n",
        "    avg_acc = correct / size\n",
        "\n",
        "    return avg_epoch_loss, avg_acc\n",
        "\n",
        "def test(dataloader, model, loss_fn):\n",
        "    num_batches = len(dataloader)\n",
        "    size = len(dataloader.dataset)\n",
        "    epoch_loss = 0\n",
        "    correct = 0\n",
        "\n",
        "    model.eval()\n",
        "\n",
        "    with torch.no_grad():\n",
        "        for X, y in tqdm(dataloader):\n",
        "            X, y = X.to(device), y.to(device)\n",
        "\n",
        "            pred = model(X)\n",
        "\n",
        "            epoch_loss += loss_fn(pred, y).item()\n",
        "            pred = pred.argmax(dim=1, keepdim=True)\n",
        "            correct += pred.eq(y.view_as(pred)).sum().item()\n",
        "\n",
        "    avg_epoch_loss = epoch_loss / num_batches\n",
        "    avg_acc = correct / size\n",
        "\n",
        "    return avg_epoch_loss, avg_acc"
      ],
      "metadata": {
        "id": "IhlD8-xCmnea"
      },
      "execution_count": null,
      "outputs": []
    },
    {
      "cell_type": "code",
      "source": [
        "##### Whole data #####\n",
        "epochs = 20\n",
        "for epoch in range(epochs):\n",
        "    train_loss, train_acc = train(train_dataloader, model, loss_fn, optimizer)\n",
        "    test_loss, test_acc = test(valid_dataloader, model, loss_fn)\n",
        "    print(f\"Epoch {epoch + 1:2d}: Loss = {train_loss:.4f} Acc = {train_acc:.2f} Test_Loss = {test_loss:.4f} Test_Acc = {test_acc:.2f}\")\n",
        "print(\"Done!\")"
      ],
      "metadata": {
        "colab": {
          "base_uri": "https://localhost:8080/"
        },
        "id": "WM30A8JEmsOG",
        "outputId": "e370c9b4-ec7a-4cc8-b083-eb54cdaf4648"
      },
      "execution_count": null,
      "outputs": [
        {
          "output_type": "stream",
          "name": "stderr",
          "text": [
            "100%|██████████| 196/196 [00:31<00:00,  6.28it/s]\n",
            "100%|██████████| 40/40 [00:01<00:00, 24.09it/s]\n"
          ]
        },
        {
          "output_type": "stream",
          "name": "stdout",
          "text": [
            "Epoch  1: Loss = 0.9690 Acc = 0.67 Test_Loss = 0.7260 Test_Acc = 0.75\n"
          ]
        },
        {
          "output_type": "stream",
          "name": "stderr",
          "text": [
            "100%|██████████| 196/196 [00:30<00:00,  6.38it/s]\n",
            "100%|██████████| 40/40 [00:01<00:00, 24.22it/s]\n"
          ]
        },
        {
          "output_type": "stream",
          "name": "stdout",
          "text": [
            "Epoch  2: Loss = 0.6864 Acc = 0.76 Test_Loss = 0.7562 Test_Acc = 0.75\n"
          ]
        },
        {
          "output_type": "stream",
          "name": "stderr",
          "text": [
            "100%|██████████| 196/196 [00:30<00:00,  6.45it/s]\n",
            "100%|██████████| 40/40 [00:01<00:00, 23.81it/s]\n"
          ]
        },
        {
          "output_type": "stream",
          "name": "stdout",
          "text": [
            "Epoch  3: Loss = 0.5952 Acc = 0.80 Test_Loss = 0.6750 Test_Acc = 0.78\n"
          ]
        },
        {
          "output_type": "stream",
          "name": "stderr",
          "text": [
            "100%|██████████| 196/196 [00:29<00:00,  6.55it/s]\n",
            "100%|██████████| 40/40 [00:01<00:00, 24.73it/s]\n"
          ]
        },
        {
          "output_type": "stream",
          "name": "stdout",
          "text": [
            "Epoch  4: Loss = 0.5466 Acc = 0.81 Test_Loss = 0.6147 Test_Acc = 0.79\n"
          ]
        },
        {
          "output_type": "stream",
          "name": "stderr",
          "text": [
            "100%|██████████| 196/196 [00:30<00:00,  6.34it/s]\n",
            "100%|██████████| 40/40 [00:01<00:00, 23.79it/s]\n"
          ]
        },
        {
          "output_type": "stream",
          "name": "stdout",
          "text": [
            "Epoch  5: Loss = 0.5123 Acc = 0.83 Test_Loss = 0.6668 Test_Acc = 0.78\n"
          ]
        },
        {
          "output_type": "stream",
          "name": "stderr",
          "text": [
            "100%|██████████| 196/196 [00:30<00:00,  6.49it/s]\n",
            "100%|██████████| 40/40 [00:01<00:00, 24.82it/s]\n"
          ]
        },
        {
          "output_type": "stream",
          "name": "stdout",
          "text": [
            "Epoch  6: Loss = 0.4816 Acc = 0.83 Test_Loss = 0.6830 Test_Acc = 0.78\n"
          ]
        },
        {
          "output_type": "stream",
          "name": "stderr",
          "text": [
            "100%|██████████| 196/196 [00:30<00:00,  6.42it/s]\n",
            "100%|██████████| 40/40 [00:01<00:00, 24.09it/s]\n"
          ]
        },
        {
          "output_type": "stream",
          "name": "stdout",
          "text": [
            "Epoch  7: Loss = 0.4485 Acc = 0.85 Test_Loss = 0.5286 Test_Acc = 0.82\n"
          ]
        },
        {
          "output_type": "stream",
          "name": "stderr",
          "text": [
            "100%|██████████| 196/196 [00:29<00:00,  6.62it/s]\n",
            "100%|██████████| 40/40 [00:01<00:00, 24.80it/s]\n"
          ]
        },
        {
          "output_type": "stream",
          "name": "stdout",
          "text": [
            "Epoch  8: Loss = 0.4259 Acc = 0.85 Test_Loss = 0.5484 Test_Acc = 0.82\n"
          ]
        },
        {
          "output_type": "stream",
          "name": "stderr",
          "text": [
            "100%|██████████| 196/196 [00:30<00:00,  6.44it/s]\n",
            "100%|██████████| 40/40 [00:01<00:00, 25.44it/s]\n"
          ]
        },
        {
          "output_type": "stream",
          "name": "stdout",
          "text": [
            "Epoch  9: Loss = 0.4083 Acc = 0.86 Test_Loss = 0.6239 Test_Acc = 0.79\n"
          ]
        },
        {
          "output_type": "stream",
          "name": "stderr",
          "text": [
            "100%|██████████| 196/196 [00:30<00:00,  6.41it/s]\n",
            "100%|██████████| 40/40 [00:01<00:00, 24.87it/s]\n"
          ]
        },
        {
          "output_type": "stream",
          "name": "stdout",
          "text": [
            "Epoch 10: Loss = 0.3883 Acc = 0.87 Test_Loss = 0.5343 Test_Acc = 0.83\n"
          ]
        },
        {
          "output_type": "stream",
          "name": "stderr",
          "text": [
            "100%|██████████| 196/196 [00:30<00:00,  6.48it/s]\n",
            "100%|██████████| 40/40 [00:01<00:00, 23.87it/s]\n"
          ]
        },
        {
          "output_type": "stream",
          "name": "stdout",
          "text": [
            "Epoch 11: Loss = 0.3704 Acc = 0.87 Test_Loss = 0.4754 Test_Acc = 0.84\n"
          ]
        },
        {
          "output_type": "stream",
          "name": "stderr",
          "text": [
            "100%|██████████| 196/196 [00:29<00:00,  6.55it/s]\n",
            "100%|██████████| 40/40 [00:01<00:00, 25.05it/s]\n"
          ]
        },
        {
          "output_type": "stream",
          "name": "stdout",
          "text": [
            "Epoch 12: Loss = 0.3627 Acc = 0.87 Test_Loss = 0.5619 Test_Acc = 0.81\n"
          ]
        },
        {
          "output_type": "stream",
          "name": "stderr",
          "text": [
            "100%|██████████| 196/196 [00:30<00:00,  6.44it/s]\n",
            "100%|██████████| 40/40 [00:01<00:00, 24.43it/s]\n"
          ]
        },
        {
          "output_type": "stream",
          "name": "stdout",
          "text": [
            "Epoch 13: Loss = 0.3463 Acc = 0.88 Test_Loss = 0.5021 Test_Acc = 0.84\n"
          ]
        },
        {
          "output_type": "stream",
          "name": "stderr",
          "text": [
            "100%|██████████| 196/196 [00:29<00:00,  6.54it/s]\n",
            "100%|██████████| 40/40 [00:01<00:00, 24.54it/s]\n"
          ]
        },
        {
          "output_type": "stream",
          "name": "stdout",
          "text": [
            "Epoch 14: Loss = 0.3377 Acc = 0.88 Test_Loss = 0.5204 Test_Acc = 0.83\n"
          ]
        },
        {
          "output_type": "stream",
          "name": "stderr",
          "text": [
            "100%|██████████| 196/196 [00:30<00:00,  6.50it/s]\n",
            "100%|██████████| 40/40 [00:01<00:00, 21.99it/s]\n"
          ]
        },
        {
          "output_type": "stream",
          "name": "stdout",
          "text": [
            "Epoch 15: Loss = 0.3225 Acc = 0.89 Test_Loss = 0.4930 Test_Acc = 0.84\n"
          ]
        },
        {
          "output_type": "stream",
          "name": "stderr",
          "text": [
            "100%|██████████| 196/196 [00:30<00:00,  6.47it/s]\n",
            "100%|██████████| 40/40 [00:01<00:00, 24.45it/s]\n"
          ]
        },
        {
          "output_type": "stream",
          "name": "stdout",
          "text": [
            "Epoch 16: Loss = 0.3151 Acc = 0.89 Test_Loss = 0.7255 Test_Acc = 0.78\n"
          ]
        },
        {
          "output_type": "stream",
          "name": "stderr",
          "text": [
            "100%|██████████| 196/196 [00:30<00:00,  6.46it/s]\n",
            "100%|██████████| 40/40 [00:01<00:00, 24.64it/s]\n"
          ]
        },
        {
          "output_type": "stream",
          "name": "stdout",
          "text": [
            "Epoch 17: Loss = 0.3067 Acc = 0.89 Test_Loss = 0.4906 Test_Acc = 0.85\n"
          ]
        },
        {
          "output_type": "stream",
          "name": "stderr",
          "text": [
            "100%|██████████| 196/196 [00:31<00:00,  6.32it/s]\n",
            "100%|██████████| 40/40 [00:01<00:00, 24.53it/s]\n"
          ]
        },
        {
          "output_type": "stream",
          "name": "stdout",
          "text": [
            "Epoch 18: Loss = 0.2911 Acc = 0.90 Test_Loss = 0.6545 Test_Acc = 0.80\n"
          ]
        },
        {
          "output_type": "stream",
          "name": "stderr",
          "text": [
            "100%|██████████| 196/196 [00:31<00:00,  6.24it/s]\n",
            "100%|██████████| 40/40 [00:01<00:00, 21.83it/s]\n"
          ]
        },
        {
          "output_type": "stream",
          "name": "stdout",
          "text": [
            "Epoch 19: Loss = 0.2915 Acc = 0.90 Test_Loss = 0.4694 Test_Acc = 0.85\n"
          ]
        },
        {
          "output_type": "stream",
          "name": "stderr",
          "text": [
            "100%|██████████| 196/196 [00:30<00:00,  6.37it/s]\n",
            "100%|██████████| 40/40 [00:01<00:00, 25.53it/s]"
          ]
        },
        {
          "output_type": "stream",
          "name": "stdout",
          "text": [
            "Epoch 20: Loss = 0.2812 Acc = 0.90 Test_Loss = 0.4489 Test_Acc = 0.85\n",
            "Done!\n"
          ]
        },
        {
          "output_type": "stream",
          "name": "stderr",
          "text": [
            "\n"
          ]
        }
      ]
    },
    {
      "cell_type": "code",
      "source": [
        "##### 1/2 data #####\n",
        "epochs = 20\n",
        "for epoch in range(epochs):\n",
        "    train_loss, train_acc = train(half_train_dataloader, model, loss_fn, optimizer)\n",
        "    test_loss, test_acc = test(valid_dataloader, model, loss_fn)\n",
        "    print(f\"Epoch {epoch + 1:2d}: Loss = {train_loss:.4f} Acc = {train_acc:.2f} Test_Loss = {test_loss:.4f} Test_Acc = {test_acc:.2f}\")\n",
        "print(\"Done!\")"
      ],
      "metadata": {
        "colab": {
          "base_uri": "https://localhost:8080/"
        },
        "id": "DrTzWOXBo3Uy",
        "outputId": "9b1652d3-459a-4b3b-f717-b5165c6d5a83"
      },
      "execution_count": null,
      "outputs": [
        {
          "output_type": "stream",
          "name": "stderr",
          "text": [
            "100%|██████████| 98/98 [00:15<00:00,  6.53it/s]\n",
            "100%|██████████| 40/40 [00:01<00:00, 24.67it/s]\n"
          ]
        },
        {
          "output_type": "stream",
          "name": "stdout",
          "text": [
            "Epoch  1: Loss = 1.1067 Acc = 0.31 Test_Loss = 0.8146 Test_Acc = 0.72\n"
          ]
        },
        {
          "output_type": "stream",
          "name": "stderr",
          "text": [
            "100%|██████████| 98/98 [00:14<00:00,  6.61it/s]\n",
            "100%|██████████| 40/40 [00:01<00:00, 21.85it/s]\n"
          ]
        },
        {
          "output_type": "stream",
          "name": "stdout",
          "text": [
            "Epoch  2: Loss = 0.7919 Acc = 0.36 Test_Loss = 0.7873 Test_Acc = 0.74\n"
          ]
        },
        {
          "output_type": "stream",
          "name": "stderr",
          "text": [
            "100%|██████████| 98/98 [00:15<00:00,  6.37it/s]\n",
            "100%|██████████| 40/40 [00:01<00:00, 24.98it/s]\n"
          ]
        },
        {
          "output_type": "stream",
          "name": "stdout",
          "text": [
            "Epoch  3: Loss = 0.7071 Acc = 0.38 Test_Loss = 0.8857 Test_Acc = 0.70\n"
          ]
        },
        {
          "output_type": "stream",
          "name": "stderr",
          "text": [
            "100%|██████████| 98/98 [00:14<00:00,  6.54it/s]\n",
            "100%|██████████| 40/40 [00:01<00:00, 25.96it/s]\n"
          ]
        },
        {
          "output_type": "stream",
          "name": "stdout",
          "text": [
            "Epoch  4: Loss = 0.6448 Acc = 0.39 Test_Loss = 0.6498 Test_Acc = 0.78\n"
          ]
        },
        {
          "output_type": "stream",
          "name": "stderr",
          "text": [
            "100%|██████████| 98/98 [00:15<00:00,  6.29it/s]\n",
            "100%|██████████| 40/40 [00:01<00:00, 23.83it/s]\n"
          ]
        },
        {
          "output_type": "stream",
          "name": "stdout",
          "text": [
            "Epoch  5: Loss = 0.5962 Acc = 0.40 Test_Loss = 0.6754 Test_Acc = 0.77\n"
          ]
        },
        {
          "output_type": "stream",
          "name": "stderr",
          "text": [
            "100%|██████████| 98/98 [00:14<00:00,  6.65it/s]\n",
            "100%|██████████| 40/40 [00:01<00:00, 25.56it/s]\n"
          ]
        },
        {
          "output_type": "stream",
          "name": "stdout",
          "text": [
            "Epoch  6: Loss = 0.5669 Acc = 0.40 Test_Loss = 0.6133 Test_Acc = 0.80\n"
          ]
        },
        {
          "output_type": "stream",
          "name": "stderr",
          "text": [
            "100%|██████████| 98/98 [00:14<00:00,  6.72it/s]\n",
            "100%|██████████| 40/40 [00:01<00:00, 25.18it/s]\n"
          ]
        },
        {
          "output_type": "stream",
          "name": "stdout",
          "text": [
            "Epoch  7: Loss = 0.5446 Acc = 0.41 Test_Loss = 0.6040 Test_Acc = 0.80\n"
          ]
        },
        {
          "output_type": "stream",
          "name": "stderr",
          "text": [
            "100%|██████████| 98/98 [00:15<00:00,  6.33it/s]\n",
            "100%|██████████| 40/40 [00:01<00:00, 24.81it/s]\n"
          ]
        },
        {
          "output_type": "stream",
          "name": "stdout",
          "text": [
            "Epoch  8: Loss = 0.5180 Acc = 0.41 Test_Loss = 0.6068 Test_Acc = 0.80\n"
          ]
        },
        {
          "output_type": "stream",
          "name": "stderr",
          "text": [
            "100%|██████████| 98/98 [00:14<00:00,  6.58it/s]\n",
            "100%|██████████| 40/40 [00:01<00:00, 24.98it/s]\n"
          ]
        },
        {
          "output_type": "stream",
          "name": "stdout",
          "text": [
            "Epoch  9: Loss = 0.4998 Acc = 0.41 Test_Loss = 0.5538 Test_Acc = 0.81\n"
          ]
        },
        {
          "output_type": "stream",
          "name": "stderr",
          "text": [
            "100%|██████████| 98/98 [00:15<00:00,  6.19it/s]\n",
            "100%|██████████| 40/40 [00:01<00:00, 24.24it/s]\n"
          ]
        },
        {
          "output_type": "stream",
          "name": "stdout",
          "text": [
            "Epoch 10: Loss = 0.4848 Acc = 0.42 Test_Loss = 0.6484 Test_Acc = 0.79\n"
          ]
        },
        {
          "output_type": "stream",
          "name": "stderr",
          "text": [
            "100%|██████████| 98/98 [00:14<00:00,  6.64it/s]\n",
            "100%|██████████| 40/40 [00:01<00:00, 25.39it/s]\n"
          ]
        },
        {
          "output_type": "stream",
          "name": "stdout",
          "text": [
            "Epoch 11: Loss = 0.4747 Acc = 0.42 Test_Loss = 0.5536 Test_Acc = 0.82\n"
          ]
        },
        {
          "output_type": "stream",
          "name": "stderr",
          "text": [
            "100%|██████████| 98/98 [00:14<00:00,  6.67it/s]\n",
            "100%|██████████| 40/40 [00:01<00:00, 25.25it/s]\n"
          ]
        },
        {
          "output_type": "stream",
          "name": "stdout",
          "text": [
            "Epoch 12: Loss = 0.4545 Acc = 0.42 Test_Loss = 0.5521 Test_Acc = 0.82\n"
          ]
        },
        {
          "output_type": "stream",
          "name": "stderr",
          "text": [
            "100%|██████████| 98/98 [00:15<00:00,  6.23it/s]\n",
            "100%|██████████| 40/40 [00:01<00:00, 25.22it/s]\n"
          ]
        },
        {
          "output_type": "stream",
          "name": "stdout",
          "text": [
            "Epoch 13: Loss = 0.4494 Acc = 0.42 Test_Loss = 0.5165 Test_Acc = 0.83\n"
          ]
        },
        {
          "output_type": "stream",
          "name": "stderr",
          "text": [
            "100%|██████████| 98/98 [00:14<00:00,  6.69it/s]\n",
            "100%|██████████| 40/40 [00:01<00:00, 25.16it/s]\n"
          ]
        },
        {
          "output_type": "stream",
          "name": "stdout",
          "text": [
            "Epoch 14: Loss = 0.4234 Acc = 0.43 Test_Loss = 0.5777 Test_Acc = 0.81\n"
          ]
        },
        {
          "output_type": "stream",
          "name": "stderr",
          "text": [
            "100%|██████████| 98/98 [00:15<00:00,  6.48it/s]\n",
            "100%|██████████| 40/40 [00:02<00:00, 18.82it/s]\n"
          ]
        },
        {
          "output_type": "stream",
          "name": "stdout",
          "text": [
            "Epoch 15: Loss = 0.4237 Acc = 0.43 Test_Loss = 0.5914 Test_Acc = 0.81\n"
          ]
        },
        {
          "output_type": "stream",
          "name": "stderr",
          "text": [
            "100%|██████████| 98/98 [00:14<00:00,  6.56it/s]\n",
            "100%|██████████| 40/40 [00:01<00:00, 25.14it/s]\n"
          ]
        },
        {
          "output_type": "stream",
          "name": "stdout",
          "text": [
            "Epoch 16: Loss = 0.4165 Acc = 0.43 Test_Loss = 0.5759 Test_Acc = 0.81\n"
          ]
        },
        {
          "output_type": "stream",
          "name": "stderr",
          "text": [
            "100%|██████████| 98/98 [00:14<00:00,  6.67it/s]\n",
            "100%|██████████| 40/40 [00:01<00:00, 24.47it/s]\n"
          ]
        },
        {
          "output_type": "stream",
          "name": "stdout",
          "text": [
            "Epoch 17: Loss = 0.4021 Acc = 0.43 Test_Loss = 0.5244 Test_Acc = 0.83\n"
          ]
        },
        {
          "output_type": "stream",
          "name": "stderr",
          "text": [
            "100%|██████████| 98/98 [00:15<00:00,  6.31it/s]\n",
            "100%|██████████| 40/40 [00:01<00:00, 24.84it/s]\n"
          ]
        },
        {
          "output_type": "stream",
          "name": "stdout",
          "text": [
            "Epoch 18: Loss = 0.3807 Acc = 0.43 Test_Loss = 0.5576 Test_Acc = 0.82\n"
          ]
        },
        {
          "output_type": "stream",
          "name": "stderr",
          "text": [
            "100%|██████████| 98/98 [00:14<00:00,  6.63it/s]\n",
            "100%|██████████| 40/40 [00:01<00:00, 24.83it/s]\n"
          ]
        },
        {
          "output_type": "stream",
          "name": "stdout",
          "text": [
            "Epoch 19: Loss = 0.3885 Acc = 0.43 Test_Loss = 0.5247 Test_Acc = 0.83\n"
          ]
        },
        {
          "output_type": "stream",
          "name": "stderr",
          "text": [
            "100%|██████████| 98/98 [00:14<00:00,  6.55it/s]\n",
            "100%|██████████| 40/40 [00:01<00:00, 25.68it/s]"
          ]
        },
        {
          "output_type": "stream",
          "name": "stdout",
          "text": [
            "Epoch 20: Loss = 0.3735 Acc = 0.44 Test_Loss = 0.5058 Test_Acc = 0.84\n",
            "Done!\n"
          ]
        },
        {
          "output_type": "stream",
          "name": "stderr",
          "text": [
            "\n"
          ]
        }
      ]
    },
    {
      "cell_type": "code",
      "source": [
        "##### 1/16 data #####\n",
        "epochs = 20\n",
        "for epoch in range(epochs):\n",
        "    train_loss, train_acc = train(sixteenth_train_dataloader, model, loss_fn, optimizer)\n",
        "    test_loss, test_acc = test(valid_dataloader, model, loss_fn)\n",
        "    print(f\"Epoch {epoch + 1:2d}: Loss = {train_loss:.4f} Acc = {train_acc:.2f} Test_Loss = {test_loss:.4f} Test_Acc = {test_acc:.2f}\")\n",
        "print(\"Done!\")"
      ],
      "metadata": {
        "colab": {
          "base_uri": "https://localhost:8080/"
        },
        "id": "N8-cY72No-08",
        "outputId": "02dcd145-6c5e-42af-cb35-55abecbee128"
      },
      "execution_count": null,
      "outputs": [
        {
          "output_type": "stream",
          "name": "stderr",
          "text": [
            "100%|██████████| 13/13 [00:02<00:00,  6.39it/s]\n",
            "100%|██████████| 40/40 [00:01<00:00, 24.30it/s]\n"
          ]
        },
        {
          "output_type": "stream",
          "name": "stdout",
          "text": [
            "Epoch  1: Loss = 1.7601 Acc = 0.02 Test_Loss = 2.2021 Test_Acc = 0.28\n"
          ]
        },
        {
          "output_type": "stream",
          "name": "stderr",
          "text": [
            "100%|██████████| 13/13 [00:01<00:00,  6.57it/s]\n",
            "100%|██████████| 40/40 [00:01<00:00, 23.64it/s]\n"
          ]
        },
        {
          "output_type": "stream",
          "name": "stdout",
          "text": [
            "Epoch  2: Loss = 1.3347 Acc = 0.03 Test_Loss = 1.5237 Test_Acc = 0.54\n"
          ]
        },
        {
          "output_type": "stream",
          "name": "stderr",
          "text": [
            "100%|██████████| 13/13 [00:01<00:00,  6.52it/s]\n",
            "100%|██████████| 40/40 [00:01<00:00, 25.06it/s]\n"
          ]
        },
        {
          "output_type": "stream",
          "name": "stdout",
          "text": [
            "Epoch  3: Loss = 1.1372 Acc = 0.04 Test_Loss = 1.4098 Test_Acc = 0.54\n"
          ]
        },
        {
          "output_type": "stream",
          "name": "stderr",
          "text": [
            "100%|██████████| 13/13 [00:01<00:00,  7.13it/s]\n",
            "100%|██████████| 40/40 [00:01<00:00, 25.62it/s]\n"
          ]
        },
        {
          "output_type": "stream",
          "name": "stdout",
          "text": [
            "Epoch  4: Loss = 1.0625 Acc = 0.04 Test_Loss = 1.5118 Test_Acc = 0.53\n"
          ]
        },
        {
          "output_type": "stream",
          "name": "stderr",
          "text": [
            "100%|██████████| 13/13 [00:01<00:00,  6.86it/s]\n",
            "100%|██████████| 40/40 [00:01<00:00, 24.10it/s]\n"
          ]
        },
        {
          "output_type": "stream",
          "name": "stdout",
          "text": [
            "Epoch  5: Loss = 1.0400 Acc = 0.04 Test_Loss = 1.1189 Test_Acc = 0.63\n"
          ]
        },
        {
          "output_type": "stream",
          "name": "stderr",
          "text": [
            "100%|██████████| 13/13 [00:02<00:00,  5.15it/s]\n",
            "100%|██████████| 40/40 [00:01<00:00, 23.93it/s]\n"
          ]
        },
        {
          "output_type": "stream",
          "name": "stdout",
          "text": [
            "Epoch  6: Loss = 0.9075 Acc = 0.04 Test_Loss = 0.9779 Test_Acc = 0.67\n"
          ]
        },
        {
          "output_type": "stream",
          "name": "stderr",
          "text": [
            "100%|██████████| 13/13 [00:02<00:00,  6.39it/s]\n",
            "100%|██████████| 40/40 [00:01<00:00, 24.04it/s]\n"
          ]
        },
        {
          "output_type": "stream",
          "name": "stdout",
          "text": [
            "Epoch  7: Loss = 0.9343 Acc = 0.04 Test_Loss = 0.8847 Test_Acc = 0.70\n"
          ]
        },
        {
          "output_type": "stream",
          "name": "stderr",
          "text": [
            "100%|██████████| 13/13 [00:01<00:00,  6.62it/s]\n",
            "100%|██████████| 40/40 [00:01<00:00, 24.65it/s]\n"
          ]
        },
        {
          "output_type": "stream",
          "name": "stdout",
          "text": [
            "Epoch  8: Loss = 0.8659 Acc = 0.04 Test_Loss = 0.8983 Test_Acc = 0.70\n"
          ]
        },
        {
          "output_type": "stream",
          "name": "stderr",
          "text": [
            "100%|██████████| 13/13 [00:01<00:00,  6.57it/s]\n",
            "100%|██████████| 40/40 [00:01<00:00, 25.28it/s]\n"
          ]
        },
        {
          "output_type": "stream",
          "name": "stdout",
          "text": [
            "Epoch  9: Loss = 0.8552 Acc = 0.04 Test_Loss = 0.9022 Test_Acc = 0.69\n"
          ]
        },
        {
          "output_type": "stream",
          "name": "stderr",
          "text": [
            "100%|██████████| 13/13 [00:01<00:00,  6.63it/s]\n",
            "100%|██████████| 40/40 [00:01<00:00, 23.49it/s]\n"
          ]
        },
        {
          "output_type": "stream",
          "name": "stdout",
          "text": [
            "Epoch 10: Loss = 0.8567 Acc = 0.04 Test_Loss = 1.3693 Test_Acc = 0.57\n"
          ]
        },
        {
          "output_type": "stream",
          "name": "stderr",
          "text": [
            "100%|██████████| 13/13 [00:01<00:00,  6.76it/s]\n",
            "100%|██████████| 40/40 [00:01<00:00, 24.89it/s]\n"
          ]
        },
        {
          "output_type": "stream",
          "name": "stdout",
          "text": [
            "Epoch 11: Loss = 0.8603 Acc = 0.04 Test_Loss = 0.8776 Test_Acc = 0.71\n"
          ]
        },
        {
          "output_type": "stream",
          "name": "stderr",
          "text": [
            "100%|██████████| 13/13 [00:01<00:00,  6.69it/s]\n",
            "100%|██████████| 40/40 [00:01<00:00, 24.95it/s]\n"
          ]
        },
        {
          "output_type": "stream",
          "name": "stdout",
          "text": [
            "Epoch 12: Loss = 0.8307 Acc = 0.04 Test_Loss = 0.8661 Test_Acc = 0.71\n"
          ]
        },
        {
          "output_type": "stream",
          "name": "stderr",
          "text": [
            "100%|██████████| 13/13 [00:01<00:00,  6.74it/s]\n",
            "100%|██████████| 40/40 [00:01<00:00, 24.12it/s]\n"
          ]
        },
        {
          "output_type": "stream",
          "name": "stdout",
          "text": [
            "Epoch 13: Loss = 0.8421 Acc = 0.05 Test_Loss = 0.8596 Test_Acc = 0.72\n"
          ]
        },
        {
          "output_type": "stream",
          "name": "stderr",
          "text": [
            "100%|██████████| 13/13 [00:01<00:00,  6.54it/s]\n",
            "100%|██████████| 40/40 [00:01<00:00, 24.34it/s]\n"
          ]
        },
        {
          "output_type": "stream",
          "name": "stdout",
          "text": [
            "Epoch 14: Loss = 0.8238 Acc = 0.05 Test_Loss = 0.7956 Test_Acc = 0.73\n"
          ]
        },
        {
          "output_type": "stream",
          "name": "stderr",
          "text": [
            "100%|██████████| 13/13 [00:01<00:00,  6.64it/s]\n",
            "100%|██████████| 40/40 [00:01<00:00, 25.09it/s]\n"
          ]
        },
        {
          "output_type": "stream",
          "name": "stdout",
          "text": [
            "Epoch 15: Loss = 0.7653 Acc = 0.05 Test_Loss = 0.8050 Test_Acc = 0.73\n"
          ]
        },
        {
          "output_type": "stream",
          "name": "stderr",
          "text": [
            "100%|██████████| 13/13 [00:01<00:00,  7.19it/s]\n",
            "100%|██████████| 40/40 [00:01<00:00, 25.44it/s]\n"
          ]
        },
        {
          "output_type": "stream",
          "name": "stdout",
          "text": [
            "Epoch 16: Loss = 0.7531 Acc = 0.05 Test_Loss = 0.8627 Test_Acc = 0.72\n"
          ]
        },
        {
          "output_type": "stream",
          "name": "stderr",
          "text": [
            "100%|██████████| 13/13 [00:01<00:00,  6.93it/s]\n",
            "100%|██████████| 40/40 [00:01<00:00, 22.00it/s]\n"
          ]
        },
        {
          "output_type": "stream",
          "name": "stdout",
          "text": [
            "Epoch 17: Loss = 0.7726 Acc = 0.05 Test_Loss = 0.8311 Test_Acc = 0.72\n"
          ]
        },
        {
          "output_type": "stream",
          "name": "stderr",
          "text": [
            "100%|██████████| 13/13 [00:02<00:00,  5.45it/s]\n",
            "100%|██████████| 40/40 [00:01<00:00, 23.85it/s]\n"
          ]
        },
        {
          "output_type": "stream",
          "name": "stdout",
          "text": [
            "Epoch 18: Loss = 0.7985 Acc = 0.05 Test_Loss = 0.9335 Test_Acc = 0.68\n"
          ]
        },
        {
          "output_type": "stream",
          "name": "stderr",
          "text": [
            "100%|██████████| 13/13 [00:01<00:00,  6.55it/s]\n",
            "100%|██████████| 40/40 [00:01<00:00, 23.44it/s]\n"
          ]
        },
        {
          "output_type": "stream",
          "name": "stdout",
          "text": [
            "Epoch 19: Loss = 0.7646 Acc = 0.05 Test_Loss = 1.1139 Test_Acc = 0.64\n"
          ]
        },
        {
          "output_type": "stream",
          "name": "stderr",
          "text": [
            "100%|██████████| 13/13 [00:02<00:00,  6.34it/s]\n",
            "100%|██████████| 40/40 [00:01<00:00, 24.37it/s]"
          ]
        },
        {
          "output_type": "stream",
          "name": "stdout",
          "text": [
            "Epoch 20: Loss = 0.7511 Acc = 0.05 Test_Loss = 0.7823 Test_Acc = 0.74\n",
            "Done!\n"
          ]
        },
        {
          "output_type": "stream",
          "name": "stderr",
          "text": [
            "\n"
          ]
        }
      ]
    },
    {
      "cell_type": "markdown",
      "source": [
        "### Resnet50 (pretrained)"
      ],
      "metadata": {
        "id": "aLGLBOfaFbJ4"
      }
    },
    {
      "cell_type": "code",
      "source": [
        "# HINT: Remember to change the model to 'resnet50' and the weights to weights=\"IMAGENET1K_V1\" when needed.\n",
        "model = torch.hub.load('pytorch/vision:v0.10.0', 'resnet50', weights=\"IMAGENET1K_V1\").to(device)\n",
        "\n",
        "# Background: The original resnet18 is designed for ImageNet dataset to predict 1000 classes.\n",
        "# TODO: Change the output of the model to 10 class.\n",
        "model.fc = nn.Linear(2048, 10).to(device)"
      ],
      "metadata": {
        "colab": {
          "base_uri": "https://localhost:8080/"
        },
        "id": "a2WDkivvrLdE",
        "outputId": "323b4288-a67f-456e-84a8-0e4de086c44d"
      },
      "execution_count": null,
      "outputs": [
        {
          "output_type": "stream",
          "name": "stderr",
          "text": [
            "Using cache found in /root/.cache/torch/hub/pytorch_vision_v0.10.0\n"
          ]
        }
      ]
    },
    {
      "cell_type": "code",
      "source": [
        "# TODO: Fill in the code cell according to the pytorch tutorial we gave.\n",
        "loss_fn = nn.CrossEntropyLoss()\n",
        "optimizer = torch.optim.Adam(model.parameters(), lr=1e-3)\n",
        "\n",
        "def train(dataloader, model, loss_fn, optimizer):\n",
        "    num_batches = len(dataloader)\n",
        "    size = len(dataloader.dataset)\n",
        "    epoch_loss = 0\n",
        "    correct = 0\n",
        "\n",
        "    model.train()\n",
        "\n",
        "    for X, y in tqdm(dataloader):\n",
        "        X, y = X.to(device), y.to(device)\n",
        "\n",
        "        # Compute prediction error\n",
        "        pred = model(X)\n",
        "        loss = loss_fn(pred, y)\n",
        "\n",
        "        # Backpropagation\n",
        "        optimizer.zero_grad()\n",
        "        loss.backward()\n",
        "        optimizer.step()\n",
        "\n",
        "        epoch_loss += loss.item()\n",
        "        pred = pred.argmax(dim=1, keepdim=True)\n",
        "        correct += pred.eq(y.view_as(pred)).sum().item()\n",
        "\n",
        "    avg_epoch_loss = epoch_loss / num_batches\n",
        "    avg_acc = correct / size\n",
        "\n",
        "    return avg_epoch_loss, avg_acc\n",
        "\n",
        "def test(dataloader, model, loss_fn):\n",
        "    num_batches = len(dataloader)\n",
        "    size = len(dataloader.dataset)\n",
        "    epoch_loss = 0\n",
        "    correct = 0\n",
        "\n",
        "    model.eval()\n",
        "\n",
        "    with torch.no_grad():\n",
        "        for X, y in tqdm(dataloader):\n",
        "            X, y = X.to(device), y.to(device)\n",
        "\n",
        "            pred = model(X)\n",
        "\n",
        "            epoch_loss += loss_fn(pred, y).item()\n",
        "            pred = pred.argmax(dim=1, keepdim=True)\n",
        "            correct += pred.eq(y.view_as(pred)).sum().item()\n",
        "\n",
        "    avg_epoch_loss = epoch_loss / num_batches\n",
        "    avg_acc = correct / size\n",
        "\n",
        "    return avg_epoch_loss, avg_acc"
      ],
      "metadata": {
        "id": "N32cycsfrQOz"
      },
      "execution_count": null,
      "outputs": []
    },
    {
      "cell_type": "code",
      "source": [
        "##### Whole data #####\n",
        "epochs = 20\n",
        "for epoch in range(epochs):\n",
        "    train_loss, train_acc = train(train_dataloader, model, loss_fn, optimizer)\n",
        "    test_loss, test_acc = test(valid_dataloader, model, loss_fn)\n",
        "    print(f\"Epoch {epoch + 1:2d}: Loss = {train_loss:.4f} Acc = {train_acc:.2f} Test_Loss = {test_loss:.4f} Test_Acc = {test_acc:.2f}\")\n",
        "print(\"Done!\")"
      ],
      "metadata": {
        "colab": {
          "base_uri": "https://localhost:8080/"
        },
        "id": "N86tWSErrTDy",
        "outputId": "5acddd57-9cf3-49d9-b88e-3f0ef2368376"
      },
      "execution_count": null,
      "outputs": [
        {
          "output_type": "stream",
          "name": "stderr",
          "text": [
            "100%|██████████| 196/196 [00:41<00:00,  4.68it/s]\n",
            "100%|██████████| 40/40 [00:02<00:00, 19.04it/s]\n"
          ]
        },
        {
          "output_type": "stream",
          "name": "stdout",
          "text": [
            "Epoch  1: Loss = 0.9368 Acc = 0.68 Test_Loss = 0.6595 Test_Acc = 0.77\n"
          ]
        },
        {
          "output_type": "stream",
          "name": "stderr",
          "text": [
            "100%|██████████| 196/196 [00:40<00:00,  4.79it/s]\n",
            "100%|██████████| 40/40 [00:02<00:00, 19.22it/s]\n"
          ]
        },
        {
          "output_type": "stream",
          "name": "stdout",
          "text": [
            "Epoch  2: Loss = 0.6637 Acc = 0.77 Test_Loss = 0.8044 Test_Acc = 0.73\n"
          ]
        },
        {
          "output_type": "stream",
          "name": "stderr",
          "text": [
            "100%|██████████| 196/196 [00:40<00:00,  4.79it/s]\n",
            "100%|██████████| 40/40 [00:02<00:00, 18.95it/s]\n"
          ]
        },
        {
          "output_type": "stream",
          "name": "stdout",
          "text": [
            "Epoch  3: Loss = 0.5789 Acc = 0.80 Test_Loss = 0.5933 Test_Acc = 0.80\n"
          ]
        },
        {
          "output_type": "stream",
          "name": "stderr",
          "text": [
            "100%|██████████| 196/196 [00:40<00:00,  4.80it/s]\n",
            "100%|██████████| 40/40 [00:02<00:00, 19.02it/s]\n"
          ]
        },
        {
          "output_type": "stream",
          "name": "stdout",
          "text": [
            "Epoch  4: Loss = 0.4997 Acc = 0.83 Test_Loss = 0.5215 Test_Acc = 0.82\n"
          ]
        },
        {
          "output_type": "stream",
          "name": "stderr",
          "text": [
            "100%|██████████| 196/196 [00:40<00:00,  4.81it/s]\n",
            "100%|██████████| 40/40 [00:02<00:00, 19.04it/s]\n"
          ]
        },
        {
          "output_type": "stream",
          "name": "stdout",
          "text": [
            "Epoch  5: Loss = 0.5133 Acc = 0.83 Test_Loss = 0.5705 Test_Acc = 0.81\n"
          ]
        },
        {
          "output_type": "stream",
          "name": "stderr",
          "text": [
            "100%|██████████| 196/196 [00:41<00:00,  4.77it/s]\n",
            "100%|██████████| 40/40 [00:02<00:00, 18.37it/s]\n"
          ]
        },
        {
          "output_type": "stream",
          "name": "stdout",
          "text": [
            "Epoch  6: Loss = 0.4438 Acc = 0.85 Test_Loss = 0.5393 Test_Acc = 0.81\n"
          ]
        },
        {
          "output_type": "stream",
          "name": "stderr",
          "text": [
            "100%|██████████| 196/196 [00:40<00:00,  4.79it/s]\n",
            "100%|██████████| 40/40 [00:02<00:00, 18.80it/s]\n"
          ]
        },
        {
          "output_type": "stream",
          "name": "stdout",
          "text": [
            "Epoch  7: Loss = 0.4143 Acc = 0.86 Test_Loss = 0.7048 Test_Acc = 0.77\n"
          ]
        },
        {
          "output_type": "stream",
          "name": "stderr",
          "text": [
            "100%|██████████| 196/196 [00:40<00:00,  4.81it/s]\n",
            "100%|██████████| 40/40 [00:02<00:00, 18.81it/s]\n"
          ]
        },
        {
          "output_type": "stream",
          "name": "stdout",
          "text": [
            "Epoch  8: Loss = 0.3892 Acc = 0.86 Test_Loss = 0.4841 Test_Acc = 0.84\n"
          ]
        },
        {
          "output_type": "stream",
          "name": "stderr",
          "text": [
            "100%|██████████| 196/196 [00:40<00:00,  4.84it/s]\n",
            "100%|██████████| 40/40 [00:02<00:00, 18.83it/s]\n"
          ]
        },
        {
          "output_type": "stream",
          "name": "stdout",
          "text": [
            "Epoch  9: Loss = 0.3740 Acc = 0.87 Test_Loss = 0.5148 Test_Acc = 0.83\n"
          ]
        },
        {
          "output_type": "stream",
          "name": "stderr",
          "text": [
            "100%|██████████| 196/196 [00:40<00:00,  4.82it/s]\n",
            "100%|██████████| 40/40 [00:02<00:00, 19.12it/s]\n"
          ]
        },
        {
          "output_type": "stream",
          "name": "stdout",
          "text": [
            "Epoch 10: Loss = 0.3516 Acc = 0.88 Test_Loss = 0.4895 Test_Acc = 0.84\n"
          ]
        },
        {
          "output_type": "stream",
          "name": "stderr",
          "text": [
            "100%|██████████| 196/196 [00:40<00:00,  4.85it/s]\n",
            "100%|██████████| 40/40 [00:02<00:00, 18.84it/s]\n"
          ]
        },
        {
          "output_type": "stream",
          "name": "stdout",
          "text": [
            "Epoch 11: Loss = 0.3437 Acc = 0.88 Test_Loss = 0.6098 Test_Acc = 0.80\n"
          ]
        },
        {
          "output_type": "stream",
          "name": "stderr",
          "text": [
            "100%|██████████| 196/196 [00:40<00:00,  4.82it/s]\n",
            "100%|██████████| 40/40 [00:02<00:00, 19.04it/s]\n"
          ]
        },
        {
          "output_type": "stream",
          "name": "stdout",
          "text": [
            "Epoch 12: Loss = 0.3198 Acc = 0.89 Test_Loss = 0.5636 Test_Acc = 0.82\n"
          ]
        },
        {
          "output_type": "stream",
          "name": "stderr",
          "text": [
            "100%|██████████| 196/196 [00:40<00:00,  4.83it/s]\n",
            "100%|██████████| 40/40 [00:02<00:00, 18.60it/s]\n"
          ]
        },
        {
          "output_type": "stream",
          "name": "stdout",
          "text": [
            "Epoch 13: Loss = 0.3116 Acc = 0.89 Test_Loss = 0.5632 Test_Acc = 0.83\n"
          ]
        },
        {
          "output_type": "stream",
          "name": "stderr",
          "text": [
            "100%|██████████| 196/196 [00:40<00:00,  4.81it/s]\n",
            "100%|██████████| 40/40 [00:02<00:00, 19.15it/s]\n"
          ]
        },
        {
          "output_type": "stream",
          "name": "stdout",
          "text": [
            "Epoch 14: Loss = 0.3062 Acc = 0.89 Test_Loss = 0.4840 Test_Acc = 0.84\n"
          ]
        },
        {
          "output_type": "stream",
          "name": "stderr",
          "text": [
            "100%|██████████| 196/196 [00:40<00:00,  4.82it/s]\n",
            "100%|██████████| 40/40 [00:02<00:00, 18.81it/s]\n"
          ]
        },
        {
          "output_type": "stream",
          "name": "stdout",
          "text": [
            "Epoch 15: Loss = 0.3587 Acc = 0.88 Test_Loss = 0.8142 Test_Acc = 0.75\n"
          ]
        },
        {
          "output_type": "stream",
          "name": "stderr",
          "text": [
            "100%|██████████| 196/196 [00:40<00:00,  4.83it/s]\n",
            "100%|██████████| 40/40 [00:02<00:00, 18.69it/s]\n"
          ]
        },
        {
          "output_type": "stream",
          "name": "stdout",
          "text": [
            "Epoch 16: Loss = 0.3757 Acc = 0.87 Test_Loss = 1.0419 Test_Acc = 0.70\n"
          ]
        },
        {
          "output_type": "stream",
          "name": "stderr",
          "text": [
            "100%|██████████| 196/196 [00:40<00:00,  4.79it/s]\n",
            "100%|██████████| 40/40 [00:02<00:00, 19.04it/s]\n"
          ]
        },
        {
          "output_type": "stream",
          "name": "stdout",
          "text": [
            "Epoch 17: Loss = 0.6211 Acc = 0.79 Test_Loss = 0.4801 Test_Acc = 0.84\n"
          ]
        },
        {
          "output_type": "stream",
          "name": "stderr",
          "text": [
            "100%|██████████| 196/196 [00:40<00:00,  4.83it/s]\n",
            "100%|██████████| 40/40 [00:02<00:00, 18.72it/s]\n"
          ]
        },
        {
          "output_type": "stream",
          "name": "stdout",
          "text": [
            "Epoch 18: Loss = 0.3495 Acc = 0.88 Test_Loss = 0.4538 Test_Acc = 0.85\n"
          ]
        },
        {
          "output_type": "stream",
          "name": "stderr",
          "text": [
            "100%|██████████| 196/196 [00:40<00:00,  4.79it/s]\n",
            "100%|██████████| 40/40 [00:02<00:00, 18.76it/s]\n"
          ]
        },
        {
          "output_type": "stream",
          "name": "stdout",
          "text": [
            "Epoch 19: Loss = 0.2916 Acc = 0.90 Test_Loss = 0.5755 Test_Acc = 0.82\n"
          ]
        },
        {
          "output_type": "stream",
          "name": "stderr",
          "text": [
            "100%|██████████| 196/196 [00:40<00:00,  4.79it/s]\n",
            "100%|██████████| 40/40 [00:02<00:00, 18.91it/s]"
          ]
        },
        {
          "output_type": "stream",
          "name": "stdout",
          "text": [
            "Epoch 20: Loss = 0.2734 Acc = 0.90 Test_Loss = 0.4041 Test_Acc = 0.87\n",
            "Done!\n"
          ]
        },
        {
          "output_type": "stream",
          "name": "stderr",
          "text": [
            "\n"
          ]
        }
      ]
    },
    {
      "cell_type": "code",
      "source": [
        "##### 1/2 data #####\n",
        "epochs = 20\n",
        "for epoch in range(epochs):\n",
        "    train_loss, train_acc = train(half_train_dataloader, model, loss_fn, optimizer)\n",
        "    test_loss, test_acc = test(valid_dataloader, model, loss_fn)\n",
        "    print(f\"Epoch {epoch + 1:2d}: Loss = {train_loss:.4f} Acc = {train_acc:.2f} Test_Loss = {test_loss:.4f} Test_Acc = {test_acc:.2f}\")\n",
        "print(\"Done!\")"
      ],
      "metadata": {
        "colab": {
          "base_uri": "https://localhost:8080/"
        },
        "id": "-yayltGgrWsq",
        "outputId": "a3578c7c-d4b2-48fd-8dcd-095ea255ef5e"
      },
      "execution_count": null,
      "outputs": [
        {
          "output_type": "stream",
          "name": "stderr",
          "text": [
            "100%|██████████| 98/98 [00:20<00:00,  4.76it/s]\n",
            "100%|██████████| 40/40 [00:02<00:00, 18.83it/s]\n"
          ]
        },
        {
          "output_type": "stream",
          "name": "stdout",
          "text": [
            "Epoch  1: Loss = 1.0960 Acc = 0.31 Test_Loss = 1.0276 Test_Acc = 0.69\n"
          ]
        },
        {
          "output_type": "stream",
          "name": "stderr",
          "text": [
            "100%|██████████| 98/98 [00:20<00:00,  4.80it/s]\n",
            "100%|██████████| 40/40 [00:02<00:00, 14.45it/s]\n"
          ]
        },
        {
          "output_type": "stream",
          "name": "stdout",
          "text": [
            "Epoch  2: Loss = 0.7567 Acc = 0.37 Test_Loss = 0.7083 Test_Acc = 0.76\n"
          ]
        },
        {
          "output_type": "stream",
          "name": "stderr",
          "text": [
            "100%|██████████| 98/98 [00:20<00:00,  4.88it/s]\n",
            "100%|██████████| 40/40 [00:02<00:00, 19.10it/s]\n"
          ]
        },
        {
          "output_type": "stream",
          "name": "stdout",
          "text": [
            "Epoch  3: Loss = 0.6443 Acc = 0.39 Test_Loss = 0.8102 Test_Acc = 0.73\n"
          ]
        },
        {
          "output_type": "stream",
          "name": "stderr",
          "text": [
            "100%|██████████| 98/98 [00:20<00:00,  4.79it/s]\n",
            "100%|██████████| 40/40 [00:02<00:00, 17.62it/s]\n"
          ]
        },
        {
          "output_type": "stream",
          "name": "stdout",
          "text": [
            "Epoch  4: Loss = 0.7011 Acc = 0.38 Test_Loss = 0.7246 Test_Acc = 0.75\n"
          ]
        },
        {
          "output_type": "stream",
          "name": "stderr",
          "text": [
            "100%|██████████| 98/98 [00:20<00:00,  4.85it/s]\n",
            "100%|██████████| 40/40 [00:02<00:00, 18.89it/s]\n"
          ]
        },
        {
          "output_type": "stream",
          "name": "stdout",
          "text": [
            "Epoch  5: Loss = 0.5940 Acc = 0.40 Test_Loss = 0.5632 Test_Acc = 0.81\n"
          ]
        },
        {
          "output_type": "stream",
          "name": "stderr",
          "text": [
            "100%|██████████| 98/98 [00:20<00:00,  4.75it/s]\n",
            "100%|██████████| 40/40 [00:02<00:00, 18.82it/s]\n"
          ]
        },
        {
          "output_type": "stream",
          "name": "stdout",
          "text": [
            "Epoch  6: Loss = 0.5267 Acc = 0.41 Test_Loss = 0.6430 Test_Acc = 0.79\n"
          ]
        },
        {
          "output_type": "stream",
          "name": "stderr",
          "text": [
            "100%|██████████| 98/98 [00:20<00:00,  4.84it/s]\n",
            "100%|██████████| 40/40 [00:02<00:00, 18.39it/s]\n"
          ]
        },
        {
          "output_type": "stream",
          "name": "stdout",
          "text": [
            "Epoch  7: Loss = 0.5058 Acc = 0.41 Test_Loss = 0.5175 Test_Acc = 0.82\n"
          ]
        },
        {
          "output_type": "stream",
          "name": "stderr",
          "text": [
            "100%|██████████| 98/98 [00:20<00:00,  4.76it/s]\n",
            "100%|██████████| 40/40 [00:02<00:00, 18.97it/s]\n"
          ]
        },
        {
          "output_type": "stream",
          "name": "stdout",
          "text": [
            "Epoch  8: Loss = 0.6841 Acc = 0.38 Test_Loss = 0.5681 Test_Acc = 0.80\n"
          ]
        },
        {
          "output_type": "stream",
          "name": "stderr",
          "text": [
            "100%|██████████| 98/98 [00:20<00:00,  4.87it/s]\n",
            "100%|██████████| 40/40 [00:02<00:00, 19.06it/s]\n"
          ]
        },
        {
          "output_type": "stream",
          "name": "stdout",
          "text": [
            "Epoch  9: Loss = 0.5198 Acc = 0.41 Test_Loss = 0.5318 Test_Acc = 0.82\n"
          ]
        },
        {
          "output_type": "stream",
          "name": "stderr",
          "text": [
            "100%|██████████| 98/98 [00:20<00:00,  4.75it/s]\n",
            "100%|██████████| 40/40 [00:02<00:00, 19.07it/s]\n"
          ]
        },
        {
          "output_type": "stream",
          "name": "stdout",
          "text": [
            "Epoch 10: Loss = 0.4768 Acc = 0.42 Test_Loss = 0.5781 Test_Acc = 0.81\n"
          ]
        },
        {
          "output_type": "stream",
          "name": "stderr",
          "text": [
            "100%|██████████| 98/98 [00:20<00:00,  4.89it/s]\n",
            "100%|██████████| 40/40 [00:02<00:00, 18.84it/s]\n"
          ]
        },
        {
          "output_type": "stream",
          "name": "stdout",
          "text": [
            "Epoch 11: Loss = 0.4536 Acc = 0.42 Test_Loss = 0.6414 Test_Acc = 0.79\n"
          ]
        },
        {
          "output_type": "stream",
          "name": "stderr",
          "text": [
            "100%|██████████| 98/98 [00:20<00:00,  4.74it/s]\n",
            "100%|██████████| 40/40 [00:02<00:00, 19.02it/s]\n"
          ]
        },
        {
          "output_type": "stream",
          "name": "stdout",
          "text": [
            "Epoch 12: Loss = 0.4347 Acc = 0.43 Test_Loss = 0.5670 Test_Acc = 0.81\n"
          ]
        },
        {
          "output_type": "stream",
          "name": "stderr",
          "text": [
            "100%|██████████| 98/98 [00:20<00:00,  4.85it/s]\n",
            "100%|██████████| 40/40 [00:02<00:00, 18.81it/s]\n"
          ]
        },
        {
          "output_type": "stream",
          "name": "stdout",
          "text": [
            "Epoch 13: Loss = 0.4199 Acc = 0.43 Test_Loss = 0.4610 Test_Acc = 0.84\n"
          ]
        },
        {
          "output_type": "stream",
          "name": "stderr",
          "text": [
            "100%|██████████| 98/98 [00:20<00:00,  4.79it/s]\n",
            "100%|██████████| 40/40 [00:02<00:00, 18.83it/s]\n"
          ]
        },
        {
          "output_type": "stream",
          "name": "stdout",
          "text": [
            "Epoch 14: Loss = 0.4123 Acc = 0.43 Test_Loss = 0.5330 Test_Acc = 0.82\n"
          ]
        },
        {
          "output_type": "stream",
          "name": "stderr",
          "text": [
            "100%|██████████| 98/98 [00:20<00:00,  4.89it/s]\n",
            "100%|██████████| 40/40 [00:02<00:00, 18.90it/s]\n"
          ]
        },
        {
          "output_type": "stream",
          "name": "stdout",
          "text": [
            "Epoch 15: Loss = 0.4134 Acc = 0.43 Test_Loss = 0.5164 Test_Acc = 0.83\n"
          ]
        },
        {
          "output_type": "stream",
          "name": "stderr",
          "text": [
            "100%|██████████| 98/98 [00:20<00:00,  4.77it/s]\n",
            "100%|██████████| 40/40 [00:02<00:00, 18.88it/s]\n"
          ]
        },
        {
          "output_type": "stream",
          "name": "stdout",
          "text": [
            "Epoch 16: Loss = 0.3994 Acc = 0.43 Test_Loss = 0.5373 Test_Acc = 0.82\n"
          ]
        },
        {
          "output_type": "stream",
          "name": "stderr",
          "text": [
            "100%|██████████| 98/98 [00:20<00:00,  4.86it/s]\n",
            "100%|██████████| 40/40 [00:02<00:00, 18.92it/s]\n"
          ]
        },
        {
          "output_type": "stream",
          "name": "stdout",
          "text": [
            "Epoch 17: Loss = 0.3815 Acc = 0.43 Test_Loss = 0.6154 Test_Acc = 0.80\n"
          ]
        },
        {
          "output_type": "stream",
          "name": "stderr",
          "text": [
            "100%|██████████| 98/98 [00:20<00:00,  4.76it/s]\n",
            "100%|██████████| 40/40 [00:02<00:00, 19.12it/s]\n"
          ]
        },
        {
          "output_type": "stream",
          "name": "stdout",
          "text": [
            "Epoch 18: Loss = 0.3753 Acc = 0.44 Test_Loss = 0.4514 Test_Acc = 0.85\n"
          ]
        },
        {
          "output_type": "stream",
          "name": "stderr",
          "text": [
            "100%|██████████| 98/98 [00:20<00:00,  4.90it/s]\n",
            "100%|██████████| 40/40 [00:02<00:00, 19.10it/s]\n"
          ]
        },
        {
          "output_type": "stream",
          "name": "stdout",
          "text": [
            "Epoch 19: Loss = 0.3597 Acc = 0.44 Test_Loss = 0.4729 Test_Acc = 0.84\n"
          ]
        },
        {
          "output_type": "stream",
          "name": "stderr",
          "text": [
            "100%|██████████| 98/98 [00:20<00:00,  4.74it/s]\n",
            "100%|██████████| 40/40 [00:02<00:00, 18.88it/s]"
          ]
        },
        {
          "output_type": "stream",
          "name": "stdout",
          "text": [
            "Epoch 20: Loss = 0.3427 Acc = 0.44 Test_Loss = 0.4742 Test_Acc = 0.84\n",
            "Done!\n"
          ]
        },
        {
          "output_type": "stream",
          "name": "stderr",
          "text": [
            "\n"
          ]
        }
      ]
    },
    {
      "cell_type": "code",
      "source": [
        "##### 1/16 data #####\n",
        "epochs = 20\n",
        "for epoch in range(epochs):\n",
        "    train_loss, train_acc = train(sixteenth_train_dataloader, model, loss_fn, optimizer)\n",
        "    test_loss, test_acc = test(valid_dataloader, model, loss_fn)\n",
        "    print(f\"Epoch {epoch + 1:2d}: Loss = {train_loss:.4f} Acc = {train_acc:.2f} Test_Loss = {test_loss:.4f} Test_Acc = {test_acc:.2f}\")\n",
        "print(\"Done!\")"
      ],
      "metadata": {
        "colab": {
          "base_uri": "https://localhost:8080/"
        },
        "id": "yX7RHPPFrYXk",
        "outputId": "21c850f4-7dc1-4251-cd72-d2f6de17b253"
      },
      "execution_count": null,
      "outputs": [
        {
          "output_type": "stream",
          "name": "stderr",
          "text": [
            "100%|██████████| 13/13 [00:02<00:00,  5.02it/s]\n",
            "100%|██████████| 40/40 [00:02<00:00, 19.03it/s]\n"
          ]
        },
        {
          "output_type": "stream",
          "name": "stdout",
          "text": [
            "Epoch  1: Loss = 1.8485 Acc = 0.02 Test_Loss = 15.7038 Test_Acc = 0.17\n"
          ]
        },
        {
          "output_type": "stream",
          "name": "stderr",
          "text": [
            "100%|██████████| 13/13 [00:02<00:00,  5.21it/s]\n",
            "100%|██████████| 40/40 [00:02<00:00, 18.69it/s]\n"
          ]
        },
        {
          "output_type": "stream",
          "name": "stdout",
          "text": [
            "Epoch  2: Loss = 1.3255 Acc = 0.03 Test_Loss = 1.9397 Test_Acc = 0.51\n"
          ]
        },
        {
          "output_type": "stream",
          "name": "stderr",
          "text": [
            "100%|██████████| 13/13 [00:02<00:00,  5.14it/s]\n",
            "100%|██████████| 40/40 [00:02<00:00, 19.05it/s]\n"
          ]
        },
        {
          "output_type": "stream",
          "name": "stdout",
          "text": [
            "Epoch  3: Loss = 1.1995 Acc = 0.04 Test_Loss = 1.5089 Test_Acc = 0.57\n"
          ]
        },
        {
          "output_type": "stream",
          "name": "stderr",
          "text": [
            "100%|██████████| 13/13 [00:02<00:00,  5.13it/s]\n",
            "100%|██████████| 40/40 [00:02<00:00, 14.59it/s]\n"
          ]
        },
        {
          "output_type": "stream",
          "name": "stdout",
          "text": [
            "Epoch  4: Loss = 1.0609 Acc = 0.04 Test_Loss = 1.5809 Test_Acc = 0.52\n"
          ]
        },
        {
          "output_type": "stream",
          "name": "stderr",
          "text": [
            "100%|██████████| 13/13 [00:02<00:00,  5.19it/s]\n",
            "100%|██████████| 40/40 [00:02<00:00, 19.17it/s]\n"
          ]
        },
        {
          "output_type": "stream",
          "name": "stdout",
          "text": [
            "Epoch  5: Loss = 1.0384 Acc = 0.04 Test_Loss = 1.0824 Test_Acc = 0.65\n"
          ]
        },
        {
          "output_type": "stream",
          "name": "stderr",
          "text": [
            "100%|██████████| 13/13 [00:02<00:00,  5.11it/s]\n",
            "100%|██████████| 40/40 [00:02<00:00, 19.19it/s]\n"
          ]
        },
        {
          "output_type": "stream",
          "name": "stdout",
          "text": [
            "Epoch  6: Loss = 0.9675 Acc = 0.04 Test_Loss = 0.9887 Test_Acc = 0.67\n"
          ]
        },
        {
          "output_type": "stream",
          "name": "stderr",
          "text": [
            "100%|██████████| 13/13 [00:02<00:00,  5.11it/s]\n",
            "100%|██████████| 40/40 [00:02<00:00, 19.02it/s]\n"
          ]
        },
        {
          "output_type": "stream",
          "name": "stdout",
          "text": [
            "Epoch  7: Loss = 0.9685 Acc = 0.04 Test_Loss = 1.0561 Test_Acc = 0.66\n"
          ]
        },
        {
          "output_type": "stream",
          "name": "stderr",
          "text": [
            "100%|██████████| 13/13 [00:02<00:00,  5.12it/s]\n",
            "100%|██████████| 40/40 [00:02<00:00, 18.80it/s]\n"
          ]
        },
        {
          "output_type": "stream",
          "name": "stdout",
          "text": [
            "Epoch  8: Loss = 0.8987 Acc = 0.04 Test_Loss = 1.1669 Test_Acc = 0.64\n"
          ]
        },
        {
          "output_type": "stream",
          "name": "stderr",
          "text": [
            "100%|██████████| 13/13 [00:02<00:00,  5.05it/s]\n",
            "100%|██████████| 40/40 [00:02<00:00, 18.60it/s]\n"
          ]
        },
        {
          "output_type": "stream",
          "name": "stdout",
          "text": [
            "Epoch  9: Loss = 0.8719 Acc = 0.04 Test_Loss = 0.8072 Test_Acc = 0.72\n"
          ]
        },
        {
          "output_type": "stream",
          "name": "stderr",
          "text": [
            "100%|██████████| 13/13 [00:02<00:00,  5.06it/s]\n",
            "100%|██████████| 40/40 [00:02<00:00, 18.91it/s]\n"
          ]
        },
        {
          "output_type": "stream",
          "name": "stdout",
          "text": [
            "Epoch 10: Loss = 0.8574 Acc = 0.04 Test_Loss = 0.8534 Test_Acc = 0.71\n"
          ]
        },
        {
          "output_type": "stream",
          "name": "stderr",
          "text": [
            "100%|██████████| 13/13 [00:02<00:00,  5.07it/s]\n",
            "100%|██████████| 40/40 [00:02<00:00, 18.89it/s]\n"
          ]
        },
        {
          "output_type": "stream",
          "name": "stdout",
          "text": [
            "Epoch 11: Loss = 0.7809 Acc = 0.05 Test_Loss = 0.8328 Test_Acc = 0.71\n"
          ]
        },
        {
          "output_type": "stream",
          "name": "stderr",
          "text": [
            "100%|██████████| 13/13 [00:02<00:00,  5.05it/s]\n",
            "100%|██████████| 40/40 [00:02<00:00, 18.85it/s]\n"
          ]
        },
        {
          "output_type": "stream",
          "name": "stdout",
          "text": [
            "Epoch 12: Loss = 0.7429 Acc = 0.05 Test_Loss = 0.8049 Test_Acc = 0.74\n"
          ]
        },
        {
          "output_type": "stream",
          "name": "stderr",
          "text": [
            "100%|██████████| 13/13 [00:02<00:00,  5.14it/s]\n",
            "100%|██████████| 40/40 [00:02<00:00, 18.84it/s]\n"
          ]
        },
        {
          "output_type": "stream",
          "name": "stdout",
          "text": [
            "Epoch 13: Loss = 0.8049 Acc = 0.05 Test_Loss = 0.8282 Test_Acc = 0.73\n"
          ]
        },
        {
          "output_type": "stream",
          "name": "stderr",
          "text": [
            "100%|██████████| 13/13 [00:03<00:00,  4.24it/s]\n",
            "100%|██████████| 40/40 [00:02<00:00, 18.78it/s]\n"
          ]
        },
        {
          "output_type": "stream",
          "name": "stdout",
          "text": [
            "Epoch 14: Loss = 0.7529 Acc = 0.05 Test_Loss = 0.8884 Test_Acc = 0.70\n"
          ]
        },
        {
          "output_type": "stream",
          "name": "stderr",
          "text": [
            "100%|██████████| 13/13 [00:02<00:00,  5.15it/s]\n",
            "100%|██████████| 40/40 [00:02<00:00, 18.69it/s]\n"
          ]
        },
        {
          "output_type": "stream",
          "name": "stdout",
          "text": [
            "Epoch 15: Loss = 0.7801 Acc = 0.05 Test_Loss = 0.8829 Test_Acc = 0.70\n"
          ]
        },
        {
          "output_type": "stream",
          "name": "stderr",
          "text": [
            "100%|██████████| 13/13 [00:02<00:00,  5.09it/s]\n",
            "100%|██████████| 40/40 [00:02<00:00, 18.96it/s]\n"
          ]
        },
        {
          "output_type": "stream",
          "name": "stdout",
          "text": [
            "Epoch 16: Loss = 0.7324 Acc = 0.05 Test_Loss = 0.7767 Test_Acc = 0.74\n"
          ]
        },
        {
          "output_type": "stream",
          "name": "stderr",
          "text": [
            "100%|██████████| 13/13 [00:02<00:00,  5.12it/s]\n",
            "100%|██████████| 40/40 [00:02<00:00, 18.92it/s]\n"
          ]
        },
        {
          "output_type": "stream",
          "name": "stdout",
          "text": [
            "Epoch 17: Loss = 0.7368 Acc = 0.05 Test_Loss = 0.7486 Test_Acc = 0.74\n"
          ]
        },
        {
          "output_type": "stream",
          "name": "stderr",
          "text": [
            "100%|██████████| 13/13 [00:02<00:00,  5.16it/s]\n",
            "100%|██████████| 40/40 [00:02<00:00, 19.10it/s]\n"
          ]
        },
        {
          "output_type": "stream",
          "name": "stdout",
          "text": [
            "Epoch 18: Loss = 0.6640 Acc = 0.05 Test_Loss = 0.7548 Test_Acc = 0.75\n"
          ]
        },
        {
          "output_type": "stream",
          "name": "stderr",
          "text": [
            "100%|██████████| 13/13 [00:02<00:00,  5.12it/s]\n",
            "100%|██████████| 40/40 [00:02<00:00, 18.89it/s]\n"
          ]
        },
        {
          "output_type": "stream",
          "name": "stdout",
          "text": [
            "Epoch 19: Loss = 0.6871 Acc = 0.05 Test_Loss = 0.7418 Test_Acc = 0.75\n"
          ]
        },
        {
          "output_type": "stream",
          "name": "stderr",
          "text": [
            "100%|██████████| 13/13 [00:02<00:00,  5.15it/s]\n",
            "100%|██████████| 40/40 [00:02<00:00, 19.10it/s]"
          ]
        },
        {
          "output_type": "stream",
          "name": "stdout",
          "text": [
            "Epoch 20: Loss = 0.7168 Acc = 0.05 Test_Loss = 0.7994 Test_Acc = 0.74\n",
            "Done!\n"
          ]
        },
        {
          "output_type": "stream",
          "name": "stderr",
          "text": [
            "\n"
          ]
        }
      ]
    },
    {
      "cell_type": "markdown",
      "source": [
        "## Codes for Problem 3"
      ],
      "metadata": {
        "id": "9iqBGAUm6b5W"
      }
    },
    {
      "cell_type": "code",
      "source": [
        "# TODO: Try to achieve the best performance given all training data using whatever model and training strategy.\n",
        "batch_size = 64\n",
        "\n",
        "train_transform = transforms.Compose([\n",
        "    transforms.RandomCrop(32, padding=4),\n",
        "    # transforms.RandomRotation(10),\n",
        "    transforms.Resize(224),\n",
        "    transforms.RandomHorizontalFlip(),\n",
        "    transforms.ToTensor(),\n",
        "    transforms.Normalize((0.4914, 0.4822, 0.4465), (0.2023, 0.1994, 0.2010)),\n",
        "])\n",
        "test_transform = transforms.Compose([\n",
        "    transforms.Resize(224),\n",
        "    transforms.ToTensor(),\n",
        "    transforms.Normalize((0.4914, 0.4822, 0.4465), (0.2023, 0.1994, 0.2010)),\n",
        "])\n",
        "\n",
        "train_dataset = datasets.CIFAR10(root='data', train=True, download=True, transform=train_transform)\n",
        "valid_dataset = datasets.CIFAR10(root='data', train=False, download=True, transform=test_transform)\n",
        "\n",
        "train_dataloader = DataLoader(train_dataset, batch_size=batch_size, shuffle=True, pin_memory=True)\n",
        "valid_dataloader = DataLoader(valid_dataset, batch_size=batch_size, shuffle=False, pin_memory=True)"
      ],
      "metadata": {
        "id": "5SBFMzPT6cP4",
        "colab": {
          "base_uri": "https://localhost:8080/",
          "height": 104,
          "referenced_widgets": [
            "10a6d553b96148ae87ea3a5bf6c59918",
            "2f2a2cdcce054dc0a606103483dc85fa",
            "f0d9d1724c3c4087b15035b93c5c7a21",
            "c2ad6949aabd41a898664b03af071c78",
            "ce1a2fdd824a4a6d812d340cbf3eedd3",
            "bdf7f5f3fd2e4b32987cdfd452e55908",
            "08ca199ade09488e9e7c4f61a29d7910",
            "d35e887e6b3c4b65afce3c739ec1e931",
            "86c02b5d39874861912232860e8982a5",
            "5ad08f50b82947ed86ef02671cb57e20",
            "c3975da22155492faecb2974b5fcc2e4"
          ]
        },
        "outputId": "53e406a7-2bdc-46c9-b36c-a50fd3f204a5"
      },
      "execution_count": null,
      "outputs": [
        {
          "output_type": "stream",
          "name": "stdout",
          "text": [
            "Downloading https://www.cs.toronto.edu/~kriz/cifar-10-python.tar.gz to data/cifar-10-python.tar.gz\n"
          ]
        },
        {
          "output_type": "display_data",
          "data": {
            "text/plain": [
              "  0%|          | 0/170498071 [00:00<?, ?it/s]"
            ],
            "application/vnd.jupyter.widget-view+json": {
              "version_major": 2,
              "version_minor": 0,
              "model_id": "10a6d553b96148ae87ea3a5bf6c59918"
            }
          },
          "metadata": {}
        },
        {
          "output_type": "stream",
          "name": "stdout",
          "text": [
            "Extracting data/cifar-10-python.tar.gz to data\n",
            "Files already downloaded and verified\n"
          ]
        }
      ]
    },
    {
      "cell_type": "code",
      "source": [
        "# HINT: Remember to change the model to 'resnet50' and the weights to weights=\"IMAGENET1K_V1\" when needed.\n",
        "model = torch.hub.load('pytorch/vision:v0.10.0', 'resnet152', weights=\"IMAGENET1K_V2\").to(device)\n",
        "\n",
        "# Background: The original resnet18 is designed for ImageNet dataset to predict 1000 classes.\n",
        "# TODO: Change the output of the model to 10 class.\n",
        "model.fc = nn.Linear(2048, 10).to(device)"
      ],
      "metadata": {
        "colab": {
          "base_uri": "https://localhost:8080/",
          "height": 85,
          "referenced_widgets": [
            "1db456c58a39435580eded81c15be87b",
            "0c1a4edf9bdd467eae5569f3028c0c2a",
            "37dcebabf9b34ea4ba7e20c8fe2eb930",
            "c2742309b4414bd8a83692e70dd72553",
            "353b4470948140868ff358baccd05ad6",
            "ecffc67c540b461b96b78ed247bff9ec",
            "dfacaa0b830349db8e2fc786fa01f42e",
            "be77e2502a214a3a8cb86497395ae4fe",
            "967d8cba66f7451da4872263b6fbd634",
            "a022882f2f744096a1cb91da68ef60bc",
            "f1f01040ada74272a385ec4c9dd87041"
          ]
        },
        "id": "_gUdH525-oaF",
        "outputId": "9e6c1913-6787-4a24-ab6c-3a531484ef23"
      },
      "execution_count": null,
      "outputs": [
        {
          "output_type": "stream",
          "name": "stderr",
          "text": [
            "Downloading: \"https://github.com/pytorch/vision/zipball/v0.10.0\" to /root/.cache/torch/hub/v0.10.0.zip\n",
            "Downloading: \"https://download.pytorch.org/models/resnet152-f82ba261.pth\" to /root/.cache/torch/hub/checkpoints/resnet152-f82ba261.pth\n"
          ]
        },
        {
          "output_type": "display_data",
          "data": {
            "text/plain": [
              "  0%|          | 0.00/230M [00:00<?, ?B/s]"
            ],
            "application/vnd.jupyter.widget-view+json": {
              "version_major": 2,
              "version_minor": 0,
              "model_id": "1db456c58a39435580eded81c15be87b"
            }
          },
          "metadata": {}
        }
      ]
    },
    {
      "cell_type": "code",
      "source": [
        "from google.colab import drive\n",
        "drive.mount('/content/gdrive')"
      ],
      "metadata": {
        "colab": {
          "base_uri": "https://localhost:8080/"
        },
        "id": "TeS-It7ZCBWy",
        "outputId": "1d30418c-f373-4c59-dbb9-b1708dd0af07"
      },
      "execution_count": null,
      "outputs": [
        {
          "output_type": "stream",
          "name": "stdout",
          "text": [
            "Mounted at /content/gdrive\n"
          ]
        }
      ]
    },
    {
      "cell_type": "code",
      "source": [
        "model = torch.load(\"./gdrive/MyDrive/cv_hw3_224.pt\")"
      ],
      "metadata": {
        "id": "uhCe30rBGEa8"
      },
      "execution_count": null,
      "outputs": []
    },
    {
      "cell_type": "code",
      "source": [
        "loss_fn = nn.CrossEntropyLoss()\n",
        "optimizer = torch.optim.Adam(model.parameters(), lr=1e-3)\n",
        "\n",
        "def train(dataloader, model, loss_fn, optimizer):\n",
        "    num_batches = len(dataloader)\n",
        "    size = len(dataloader.dataset)\n",
        "    epoch_loss = 0\n",
        "    correct = 0\n",
        "\n",
        "    model.train()\n",
        "\n",
        "    for X, y in tqdm(dataloader):\n",
        "        X, y = X.to(device), y.to(device)\n",
        "\n",
        "        # Compute prediction error\n",
        "        pred = model(X)\n",
        "        loss = loss_fn(pred, y)\n",
        "\n",
        "        # Backpropagation\n",
        "        optimizer.zero_grad()\n",
        "        loss.backward()\n",
        "        optimizer.step()\n",
        "\n",
        "        epoch_loss += loss.item()\n",
        "        pred = pred.argmax(dim=1, keepdim=True)\n",
        "        correct += pred.eq(y.view_as(pred)).sum().item()\n",
        "\n",
        "    avg_epoch_loss = epoch_loss / num_batches\n",
        "    avg_acc = correct / size\n",
        "\n",
        "    return avg_epoch_loss, avg_acc\n",
        "\n",
        "def test(dataloader, model, loss_fn):\n",
        "    num_batches = len(dataloader)\n",
        "    size = len(dataloader.dataset)\n",
        "    epoch_loss = 0\n",
        "    correct = 0\n",
        "\n",
        "    model.eval()\n",
        "\n",
        "    with torch.no_grad():\n",
        "        for X, y in tqdm(dataloader):\n",
        "            X, y = X.to(device), y.to(device)\n",
        "\n",
        "            pred = model(X)\n",
        "\n",
        "            epoch_loss += loss_fn(pred, y).item()\n",
        "            pred = pred.argmax(dim=1, keepdim=True)\n",
        "            correct += pred.eq(y.view_as(pred)).sum().item()\n",
        "\n",
        "    avg_epoch_loss = epoch_loss / num_batches\n",
        "    avg_acc = correct / size\n",
        "\n",
        "    return avg_epoch_loss, avg_acc"
      ],
      "metadata": {
        "id": "jKR-pZomBiiE"
      },
      "execution_count": null,
      "outputs": []
    },
    {
      "cell_type": "code",
      "source": [
        "import sys\n",
        "epochs = 400\n",
        "best_loss = sys.maxsize\n",
        "previous_loss = sys.maxsize\n",
        "patience = 0\n",
        "for epoch in range(epochs):\n",
        "    train_loss, train_acc = train(train_dataloader, model, loss_fn, optimizer)\n",
        "    test_loss, test_acc = test(valid_dataloader, model, loss_fn)\n",
        "    print(f\"Epoch {epoch + 1:2d}: Loss = {train_loss:.4f} Acc = {train_acc:.2f} Test_Loss = {test_loss:.4f} Test_Acc = {test_acc:.2f}\")\n",
        "    if best_loss > test_loss:\n",
        "      best_loss = test_loss\n",
        "      torch.save(model, \"./gdrive/MyDrive/cv_hw3_224.pt\")\n",
        "    if previous_loss < test_loss:\n",
        "      patience += 1\n",
        "      if patience > 2:\n",
        "        print(\"Early Stopping\")\n",
        "        break\n",
        "    else:\n",
        "      patience = 0\n",
        "    previous_loss = test_loss\n",
        "print(\"Done!\")"
      ],
      "metadata": {
        "id": "1LYALp7KBZU1",
        "colab": {
          "base_uri": "https://localhost:8080/"
        },
        "outputId": "79bb4206-ee3a-4334-a283-cfb46849547e"
      },
      "execution_count": null,
      "outputs": [
        {
          "metadata": {
            "tags": null
          },
          "name": "stderr",
          "output_type": "stream",
          "text": [
            "100%|██████████| 782/782 [20:34<00:00,  1.58s/it]\n",
            "100%|██████████| 157/157 [01:24<00:00,  1.86it/s]\n"
          ]
        },
        {
          "metadata": {
            "tags": null
          },
          "name": "stdout",
          "output_type": "stream",
          "text": [
            "Epoch  1: Loss = 0.5138 Acc = 0.83 Test_Loss = 0.4199 Test_Acc = 0.86\n"
          ]
        },
        {
          "metadata": {
            "tags": null
          },
          "name": "stderr",
          "output_type": "stream",
          "text": [
            "100%|██████████| 782/782 [20:29<00:00,  1.57s/it]\n",
            "100%|██████████| 157/157 [01:24<00:00,  1.87it/s]\n"
          ]
        },
        {
          "metadata": {
            "tags": null
          },
          "name": "stdout",
          "output_type": "stream",
          "text": [
            "Epoch  2: Loss = 0.3057 Acc = 0.89 Test_Loss = 0.3914 Test_Acc = 0.87\n"
          ]
        },
        {
          "metadata": {
            "tags": null
          },
          "name": "stderr",
          "output_type": "stream",
          "text": [
            "100%|██████████| 782/782 [20:27<00:00,  1.57s/it]\n",
            "100%|██████████| 157/157 [01:24<00:00,  1.87it/s]\n"
          ]
        },
        {
          "metadata": {
            "tags": null
          },
          "name": "stdout",
          "output_type": "stream",
          "text": [
            "Epoch  3: Loss = 0.2461 Acc = 0.92 Test_Loss = 0.2978 Test_Acc = 0.90\n"
          ]
        },
        {
          "metadata": {
            "tags": null
          },
          "name": "stderr",
          "output_type": "stream",
          "text": [
            "100%|██████████| 782/782 [20:27<00:00,  1.57s/it]\n",
            "100%|██████████| 157/157 [01:23<00:00,  1.88it/s]\n"
          ]
        },
        {
          "metadata": {
            "tags": null
          },
          "name": "stdout",
          "output_type": "stream",
          "text": [
            "Epoch  4: Loss = 0.2081 Acc = 0.93 Test_Loss = 0.2860 Test_Acc = 0.91\n"
          ]
        },
        {
          "metadata": {
            "tags": null
          },
          "name": "stderr",
          "output_type": "stream",
          "text": [
            "100%|██████████| 782/782 [20:26<00:00,  1.57s/it]\n",
            "100%|██████████| 157/157 [01:23<00:00,  1.88it/s]\n"
          ]
        },
        {
          "metadata": {
            "tags": null
          },
          "name": "stdout",
          "output_type": "stream",
          "text": [
            "Epoch  5: Loss = 0.1791 Acc = 0.94 Test_Loss = 0.2616 Test_Acc = 0.92\n"
          ]
        },
        {
          "metadata": {
            "tags": null
          },
          "name": "stderr",
          "output_type": "stream",
          "text": [
            "100%|██████████| 782/782 [20:26<00:00,  1.57s/it]\n",
            "100%|██████████| 157/157 [01:24<00:00,  1.87it/s]\n"
          ]
        },
        {
          "metadata": {
            "tags": null
          },
          "name": "stdout",
          "output_type": "stream",
          "text": [
            "Epoch  6: Loss = 0.1592 Acc = 0.95 Test_Loss = 0.2248 Test_Acc = 0.93\n"
          ]
        },
        {
          "metadata": {
            "tags": null
          },
          "name": "stderr",
          "output_type": "stream",
          "text": [
            "100%|██████████| 782/782 [20:24<00:00,  1.57s/it]\n",
            "100%|██████████| 157/157 [01:23<00:00,  1.88it/s]\n"
          ]
        },
        {
          "metadata": {
            "tags": null
          },
          "name": "stdout",
          "output_type": "stream",
          "text": [
            "Epoch  7: Loss = 0.1390 Acc = 0.95 Test_Loss = 0.2155 Test_Acc = 0.93\n"
          ]
        },
        {
          "metadata": {
            "tags": null
          },
          "name": "stderr",
          "output_type": "stream",
          "text": [
            "100%|██████████| 782/782 [20:23<00:00,  1.57s/it]\n",
            "100%|██████████| 157/157 [01:23<00:00,  1.88it/s]\n"
          ]
        },
        {
          "metadata": {
            "tags": null
          },
          "name": "stdout",
          "output_type": "stream",
          "text": [
            "Epoch  8: Loss = 0.1251 Acc = 0.96 Test_Loss = 0.2527 Test_Acc = 0.92\n"
          ]
        },
        {
          "metadata": {
            "tags": null
          },
          "name": "stderr",
          "output_type": "stream",
          "text": [
            "100%|██████████| 782/782 [20:23<00:00,  1.56s/it]\n",
            "100%|██████████| 157/157 [01:23<00:00,  1.88it/s]\n"
          ]
        },
        {
          "metadata": {
            "tags": null
          },
          "name": "stdout",
          "output_type": "stream",
          "text": [
            "Epoch  9: Loss = 0.1141 Acc = 0.96 Test_Loss = 0.2385 Test_Acc = 0.93\n"
          ]
        },
        {
          "output_type": "stream",
          "name": "stderr",
          "text": [
            "100%|██████████| 782/782 [20:24<00:00,  1.57s/it]\n",
            "\n",
            "100%|██████████| 157/157 [01:23<00:00,  1.88it/s]\n",
            "\n"
          ]
        },
        {
          "output_type": "stream",
          "name": "stdout",
          "text": [
            "Epoch 10: Loss = 0.1030 Acc = 0.96 Test_Loss = 0.2038 Test_Acc = 0.94\n",
            "Epoch 10: Loss = 0.1030 Acc = 0.96 Test_Loss = 0.2038 Test_Acc = 0.94\n"
          ]
        },
        {
          "output_type": "stream",
          "name": "stderr",
          "text": [
            " 46%|████▌     | 358/782 [09:20<11:01,  1.56s/it]"
          ]
        }
      ]
    },
    {
      "cell_type": "code",
      "source": [
        "import sys\n",
        "epochs = 400\n",
        "best_loss = sys.maxsize\n",
        "previous_loss = sys.maxsize\n",
        "patience = 0\n",
        "for epoch in range(11, epochs):\n",
        "    train_loss, train_acc = train(train_dataloader, model, loss_fn, optimizer)\n",
        "    test_loss, test_acc = test(valid_dataloader, model, loss_fn)\n",
        "    print(f\"Epoch {epoch + 1:2d}: Loss = {train_loss:.4f} Acc = {train_acc:.2f} Test_Loss = {test_loss:.4f} Test_Acc = {test_acc:.2f}\")\n",
        "    if best_loss > test_loss:\n",
        "      best_loss = test_loss\n",
        "      torch.save(model, \"./gdrive/MyDrive/cv_hw3_224.pt\")\n",
        "    if previous_loss < test_loss:\n",
        "      patience += 1\n",
        "      if patience > 2:\n",
        "        print(\"Early Stopping\")\n",
        "        break\n",
        "    else:\n",
        "      patience = 0\n",
        "    previous_loss = test_loss\n",
        "print(\"Done!\")"
      ],
      "metadata": {
        "colab": {
          "base_uri": "https://localhost:8080/"
        },
        "id": "zAcIO9KtuHgu",
        "outputId": "ab69baf7-88a8-4b63-ef84-157d503b9244"
      },
      "execution_count": null,
      "outputs": [
        {
          "output_type": "stream",
          "name": "stderr",
          "text": [
            "100%|██████████| 782/782 [19:57<00:00,  1.53s/it]\n",
            "100%|██████████| 157/157 [01:21<00:00,  1.92it/s]\n"
          ]
        },
        {
          "output_type": "stream",
          "name": "stdout",
          "text": [
            "Epoch 12: Loss = 0.1039 Acc = 0.96 Test_Loss = 0.2047 Test_Acc = 0.94\n"
          ]
        },
        {
          "output_type": "stream",
          "name": "stderr",
          "text": [
            "100%|██████████| 782/782 [19:48<00:00,  1.52s/it]\n",
            "100%|██████████| 157/157 [01:21<00:00,  1.92it/s]\n"
          ]
        },
        {
          "output_type": "stream",
          "name": "stdout",
          "text": [
            "Epoch 13: Loss = 0.0881 Acc = 0.97 Test_Loss = 0.2130 Test_Acc = 0.94\n"
          ]
        },
        {
          "output_type": "stream",
          "name": "stderr",
          "text": [
            "100%|██████████| 782/782 [19:48<00:00,  1.52s/it]\n",
            "100%|██████████| 157/157 [01:21<00:00,  1.92it/s]\n"
          ]
        },
        {
          "output_type": "stream",
          "name": "stdout",
          "text": [
            "Epoch 14: Loss = 0.0820 Acc = 0.97 Test_Loss = 0.2165 Test_Acc = 0.94\n"
          ]
        },
        {
          "output_type": "stream",
          "name": "stderr",
          "text": [
            "100%|██████████| 782/782 [19:47<00:00,  1.52s/it]\n",
            "100%|██████████| 157/157 [01:21<00:00,  1.91it/s]\n"
          ]
        },
        {
          "output_type": "stream",
          "name": "stdout",
          "text": [
            "Epoch 15: Loss = 0.0709 Acc = 0.98 Test_Loss = 0.2011 Test_Acc = 0.94\n"
          ]
        },
        {
          "output_type": "stream",
          "name": "stderr",
          "text": [
            "100%|██████████| 782/782 [19:50<00:00,  1.52s/it]\n",
            "100%|██████████| 157/157 [01:22<00:00,  1.89it/s]\n"
          ]
        },
        {
          "output_type": "stream",
          "name": "stdout",
          "text": [
            "Epoch 16: Loss = 0.0662 Acc = 0.98 Test_Loss = 0.2157 Test_Acc = 0.94\n"
          ]
        },
        {
          "output_type": "stream",
          "name": "stderr",
          "text": [
            "  3%|▎         | 26/782 [00:39<19:10,  1.52s/it]"
          ]
        }
      ]
    },
    {
      "cell_type": "code",
      "source": [
        "loss_fn = nn.CrossEntropyLoss()\n",
        "optimizer = torch.optim.Adam(model.parameters(), lr=1e-4)"
      ],
      "metadata": {
        "id": "Y-y_Cbkc16GT"
      },
      "execution_count": null,
      "outputs": []
    },
    {
      "cell_type": "code",
      "source": [
        "import sys\n",
        "epochs = 400\n",
        "best_loss = sys.maxsize\n",
        "previous_loss = sys.maxsize\n",
        "patience = 0\n",
        "for epoch in range(16, epochs):\n",
        "    train_loss, train_acc = train(train_dataloader, model, loss_fn, optimizer)\n",
        "    test_loss, test_acc = test(valid_dataloader, model, loss_fn)\n",
        "    print(f\"Epoch {epoch + 1:2d}: Loss = {train_loss:.4f} Acc = {train_acc:.2f} Test_Loss = {test_loss:.4f} Test_Acc = {test_acc:.2f}\")\n",
        "    if best_loss > test_loss:\n",
        "      best_loss = test_loss\n",
        "      torch.save(model, \"./gdrive/MyDrive/cv_hw3_224.pt\")\n",
        "    if previous_loss < test_loss:\n",
        "      patience += 1\n",
        "      if patience > 2:\n",
        "        print(\"Early Stopping\")\n",
        "        break\n",
        "    else:\n",
        "      patience = 0\n",
        "    previous_loss = test_loss\n",
        "print(\"Done!\")"
      ],
      "metadata": {
        "colab": {
          "base_uri": "https://localhost:8080/"
        },
        "id": "zJ4m8TWz19tO",
        "outputId": "9e0b7bb3-6d3e-4578-fd7e-d3e11d2dc93a"
      },
      "execution_count": null,
      "outputs": [
        {
          "output_type": "stream",
          "name": "stderr",
          "text": [
            "100%|██████████| 782/782 [19:56<00:00,  1.53s/it]\n",
            "100%|██████████| 157/157 [01:23<00:00,  1.89it/s]\n"
          ]
        },
        {
          "output_type": "stream",
          "name": "stdout",
          "text": [
            "Epoch 17: Loss = 0.0194 Acc = 0.99 Test_Loss = 0.1355 Test_Acc = 0.96\n"
          ]
        },
        {
          "output_type": "stream",
          "name": "stderr",
          "text": [
            "100%|██████████| 782/782 [20:00<00:00,  1.54s/it]\n",
            "100%|██████████| 157/157 [01:23<00:00,  1.89it/s]\n"
          ]
        },
        {
          "output_type": "stream",
          "name": "stdout",
          "text": [
            "Epoch 18: Loss = 0.0065 Acc = 1.00 Test_Loss = 0.1469 Test_Acc = 0.96\n"
          ]
        },
        {
          "output_type": "stream",
          "name": "stderr",
          "text": [
            "100%|██████████| 782/782 [20:01<00:00,  1.54s/it]\n",
            "100%|██████████| 157/157 [01:23<00:00,  1.89it/s]\n"
          ]
        },
        {
          "output_type": "stream",
          "name": "stdout",
          "text": [
            "Epoch 19: Loss = 0.0040 Acc = 1.00 Test_Loss = 0.1564 Test_Acc = 0.96\n"
          ]
        },
        {
          "output_type": "stream",
          "name": "stderr",
          "text": [
            "100%|██████████| 782/782 [20:01<00:00,  1.54s/it]\n",
            "100%|██████████| 157/157 [01:23<00:00,  1.89it/s]\n"
          ]
        },
        {
          "output_type": "stream",
          "name": "stdout",
          "text": [
            "Epoch 20: Loss = 0.0024 Acc = 1.00 Test_Loss = 0.1548 Test_Acc = 0.97\n"
          ]
        },
        {
          "output_type": "stream",
          "name": "stderr",
          "text": [
            "100%|██████████| 782/782 [20:01<00:00,  1.54s/it]\n",
            "100%|██████████| 157/157 [01:22<00:00,  1.89it/s]\n"
          ]
        },
        {
          "output_type": "stream",
          "name": "stdout",
          "text": [
            "Epoch 21: Loss = 0.0068 Acc = 1.00 Test_Loss = 0.1567 Test_Acc = 0.97\n"
          ]
        },
        {
          "output_type": "stream",
          "name": "stderr",
          "text": [
            "100%|██████████| 782/782 [20:10<00:00,  1.55s/it]\n",
            "100%|██████████| 157/157 [01:25<00:00,  1.84it/s]\n"
          ]
        },
        {
          "output_type": "stream",
          "name": "stdout",
          "text": [
            "Epoch 22: Loss = 0.0062 Acc = 1.00 Test_Loss = 0.1541 Test_Acc = 0.97\n"
          ]
        },
        {
          "output_type": "stream",
          "name": "stderr",
          "text": [
            "  3%|▎         | 27/782 [00:42<19:46,  1.57s/it]"
          ]
        }
      ]
    },
    {
      "cell_type": "markdown",
      "source": [
        "## Problems"
      ],
      "metadata": {
        "id": "nTSafuelpRYJ"
      }
    },
    {
      "cell_type": "markdown",
      "source": [
        "1. (30%) Finish the rest of the codes for Problem 1 and Problem 2 according to the hint. (2 code cells in total.)\n",
        "2. Train small model (resnet18) and big model (resnet50) from scratch on `sixteenth_train_dataloader`, `half_train_dataloader`, and `train_dataloader` respectively.\n",
        "3. (30%) Achieve the best performance given all training data using whatever model and training strategy.  \n",
        "  (You cannot use the model that was pretrained on CIFAR10)\n",
        "\n"
      ],
      "metadata": {
        "id": "cZctBdkurpQS"
      }
    },
    {
      "cell_type": "markdown",
      "source": [
        "## Discussion"
      ],
      "metadata": {
        "id": "786fQTdk0msC"
      }
    },
    {
      "cell_type": "markdown",
      "source": [
        "\n",
        "- (30%) The relationship between the accuracy, model size, and the training dataset size.  \n",
        "    (Total 6 models. Small model trains on the sixteenth, half, and all data. Big model trains on the sixteenth, half, and all data.)\n",
        "- (10%) What if we train the ResNet with ImageNet initialized weights (`weights=\"IMAGENET1K_V1\"`), how would the relationship change?"
      ],
      "metadata": {
        "id": "xsd2yTmB0k5t"
      }
    },
    {
      "cell_type": "markdown",
      "source": [
        "## Credits"
      ],
      "metadata": {
        "id": "HWDxF-xIueMM"
      }
    },
    {
      "cell_type": "markdown",
      "source": [
        "1. [CIFAR10](https://www.cs.toronto.edu/~kriz/cifar.html)"
      ],
      "metadata": {
        "id": "2sXpmSj2ufkh"
      }
    }
  ]
}